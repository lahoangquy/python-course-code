{
  "nbformat": 4,
  "nbformat_minor": 0,
  "metadata": {
    "colab": {
      "provenance": []
    },
    "kernelspec": {
      "name": "python3",
      "display_name": "Python 3"
    },
    "language_info": {
      "name": "python"
    }
  },
  "cells": [
    {
      "cell_type": "markdown",
      "source": [],
      "metadata": {
        "id": "j5OP2HN_sjJ-"
      }
    },
    {
      "cell_type": "markdown",
      "source": [
        "Regression is a statistical method used in machine learning to model and analyze the relationship between a dependent variable (also known as the target or outcome variable) and one or more independent variables (also known as predictors or features). The goal of regression analysis is to predict the value of the dependent variable based on the values of the independent variables.\n",
        "\n",
        "Regression can be broadly categorized into two main types:\n",
        "\n",
        "Linear Regression: Linear regression models the relationship between the dependent variable and the independent variables using a linear equation. In simple linear regression, there is only one independent variable, while in multiple linear regression, there are multiple independent variables.\n",
        "\n",
        "Non-linear Regression: Non-linear regression models the relationship between the dependent variable and the independent variables using a non-linear function. Non-linear regression can capture more complex relationships between variables that cannot be represented by a linear equation. Common non-linear regression models include polynomial regression, exponential regression, and logistic regression.\n",
        "\n",
        "\n",
        "Regression analysis is widely used in various fields, including economics, finance, engineering, social sciences, and machine learning. It is used for prediction, forecasting, and understanding the relationship between variables. Regression models can also be evaluated using metrics such as mean squared error (MSE), R-squared (R2), and root mean squared error (RMSE) to assess their accuracy and performance.\n",
        "\n",
        "\n"
      ],
      "metadata": {
        "id": "mi_KWG9Ete03"
      }
    }
  ]
}