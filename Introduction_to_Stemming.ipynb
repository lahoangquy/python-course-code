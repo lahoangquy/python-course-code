{
  "nbformat": 4,
  "nbformat_minor": 0,
  "metadata": {
    "colab": {
      "provenance": []
    },
    "kernelspec": {
      "name": "python3",
      "display_name": "Python 3"
    },
    "language_info": {
      "name": "python"
    }
  },
  "cells": [
    {
      "cell_type": "markdown",
      "source": [
        "In Natural Language Processing (NLP), stemming is a word normalization technique used to reduce  words to their base or root form, known as the stem. The purpose of stemming is to remove prefixes, suffixes and inflections from words so that words with similar meanings can be grouped together under their common base form. This process allows NLP models to treat various froms of the same word as a single entity, simplifying language processing and analysis.\n",
        "\n",
        "Stemming is particularly useful when working with large volumns of text data as it helps to reduce the vocabulary sie and improve the efficiency of language procesisng tasnks. By converting words to ehtir root forms, stemming also helps in information retrieval and text search as queries cna match words in their base form despite variations in ethir inflections or conjugations.\n",
        "\n",
        "\n",
        "Some examples of stemming using the porter stemming algorithm which is one of the popular stemming algorithms in NLP\n",
        "\n",
        "word: running, stem :\"run\"\n",
        "word: jumps, stem :\"jump\"\n",
        "word: fishes, stem :\"fish\"\n",
        "word: happiness, stem :\"happi\"\n",
        "word: better, stem :\"better\"\n",
        "\n",
        "While stemming can effectively reduce words to their base forms, it can sometimes result in over-stemming or under-stemming. Over-stemming occurs when 2 words with various meanings are stemmed to the same form, while under stemming happens when words with the smae root form are not properly stemed. Despite these limitations, stemming remains a useful and widely used technique in NLP for various applications.\n",
        "\n",
        "\n",
        "There are 2 most common algorithms/methods employed for stemming include the Porter stemmer, and snowball stemmer. The Porter stemmer supports the English language, whereas Snowball stemer which is an improvement on the Porter stemmer supports multiple languages."
      ],
      "metadata": {
        "id": "4iKy7eU_aFDb"
      }
    },
    {
      "cell_type": "code",
      "execution_count": null,
      "metadata": {
        "id": "jGmIbScVZ6qu"
      },
      "outputs": [],
      "source": []
    }
  ]
}