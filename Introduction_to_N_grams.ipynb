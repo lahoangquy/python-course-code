{
  "nbformat": 4,
  "nbformat_minor": 0,
  "metadata": {
    "colab": {
      "provenance": []
    },
    "kernelspec": {
      "name": "python3",
      "display_name": "Python 3"
    },
    "language_info": {
      "name": "python"
    }
  },
  "cells": [
    {
      "cell_type": "markdown",
      "source": [
        "In natural langauge processing (NLP), N-grams are contiguous sequences of N items (words or characters) extracted from a piece of text. N-grams are used to capture the local linguistic context of words within the tex and are widely employed in various NLP tasks, such as langauge modeling, text genreation, information retrieval and sentiment analysis.\n",
        "\n",
        "N-grams are created by sliding a window of size N over the text and extracting the words or characters within that window. The value of N determines the length of the N-gram and common choices for N include unigrams (N=1), bigrams (N=2), trigrams (N=3), and so on. By analyzing various lengths of N-grams, NLP models can capture varying elvels of contextual information\n",
        "\n",
        "For example consider the sentence \"I love natural language processing\". Here are some examples of N-grams for various values of N\n",
        "\n",
        "\n",
        "\n",
        "*   Unigrams (N=1): [\"I\", \"love\",\"natural\",\"language\",\"processing\"]\n",
        "\n",
        "*   Bigram (N=2): [\"I love\", \"love natural\", \"natural language\", \"language processing\"]\n",
        "\n",
        "*   Trigram (N = 3): [\"I love natural\", \"love natural language\", \"natural langauge processing\"]\n",
        "\n"
      ],
      "metadata": {
        "id": "Zkmu-D2Vm5Mr"
      }
    },
    {
      "cell_type": "code",
      "execution_count": 1,
      "metadata": {
        "id": "cCrPYezjmN7_"
      },
      "outputs": [],
      "source": [
        "from nltk.util import ngrams\n",
        "s = \"Natural Language Processing is the way to go\""
      ]
    },
    {
      "cell_type": "code",
      "source": [
        "tokens = s.split()\n",
        "bigrams = list(ngrams(tokens,2))\n",
        "[\" \".join(token) for token in bigrams]"
      ],
      "metadata": {
        "colab": {
          "base_uri": "https://localhost:8080/"
        },
        "id": "iWeOd9nuob7o",
        "outputId": "e43c29fd-5744-47f7-d3dd-d383d53c56ce"
      },
      "execution_count": 2,
      "outputs": [
        {
          "output_type": "execute_result",
          "data": {
            "text/plain": [
              "['Natural Language',\n",
              " 'Language Processing',\n",
              " 'Processing is',\n",
              " 'is the',\n",
              " 'the way',\n",
              " 'way to',\n",
              " 'to go']"
            ]
          },
          "metadata": {},
          "execution_count": 2
        }
      ]
    },
    {
      "cell_type": "code",
      "source": [
        "# Please try to write the code to capture trigram from the same above setence"
      ],
      "metadata": {
        "id": "xc-2xjOLot05"
      },
      "execution_count": null,
      "outputs": []
    },
    {
      "cell_type": "code",
      "source": [
        "tokens = s.split()\n",
        "trigrams = list(ngrams(tokens, 3))\n",
        "[\" \".join(token) for token in trigrams]"
      ],
      "metadata": {
        "colab": {
          "base_uri": "https://localhost:8080/"
        },
        "id": "pS1cT2Z8o5s3",
        "outputId": "769d07ea-21db-471f-b552-e91ace3fea7e"
      },
      "execution_count": 3,
      "outputs": [
        {
          "output_type": "execute_result",
          "data": {
            "text/plain": [
              "['Natural Language Processing',\n",
              " 'Language Processing is',\n",
              " 'Processing is the',\n",
              " 'is the way',\n",
              " 'the way to',\n",
              " 'way to go']"
            ]
          },
          "metadata": {},
          "execution_count": 3
        }
      ]
    }
  ]
}