{
  "nbformat": 4,
  "nbformat_minor": 0,
  "metadata": {
    "colab": {
      "provenance": []
    },
    "kernelspec": {
      "name": "python3",
      "display_name": "Python 3"
    },
    "language_info": {
      "name": "python"
    }
  },
  "cells": [
    {
      "cell_type": "markdown",
      "source": [
        "Case folding known as textnormalization to lowercase is a text preprocessing technique in Natural Langauge Processing (NLP) that involves converting all chracters in a pice of text to lowercase. The process ensure that all letters in the text are in the same case, regradless of their original casing\n",
        "\n",
        "The purpose of case folding is to reduce the dimensionality of the text data and achieve text consistency, making the langauge processing tasks more efficient and effective. By converting all chracters to lowercase, NLP models can treat words with various cases as the same word, simplifying text matching , comparison and analysis\n",
        "\n",
        "\n",
        "For example, without case folding the words \"apple\",\"Apple\" and \"APPLE\" would be treated as distinct words. however, after applying case folding, they all beocme \"apple\", making it seasuer to identify and group occurences of the word regardless of the original letter case"
      ],
      "metadata": {
        "id": "mQF2c4uPY8sv"
      }
    },
    {
      "cell_type": "code",
      "execution_count": 1,
      "metadata": {
        "id": "xtDWbLNhUM6q"
      },
      "outputs": [],
      "source": [
        "text = \"THAT INVOLVES CONVERTING ALL CHRACTERS IN A PICE OF TEXT TO LOWERCASE\"\n"
      ]
    },
    {
      "cell_type": "code",
      "source": [
        "# convert the text to lowercase using case folding\n",
        "normalized_text = text.lower()\n",
        "print(normalized_text)"
      ],
      "metadata": {
        "colab": {
          "base_uri": "https://localhost:8080/"
        },
        "id": "j3lF3TiraNTY",
        "outputId": "266a68f8-1a03-49d2-d326-478f88ea8412"
      },
      "execution_count": 2,
      "outputs": [
        {
          "output_type": "stream",
          "name": "stdout",
          "text": [
            "that involves converting all chracters in a pice of text to lowercase\n"
          ]
        }
      ]
    },
    {
      "cell_type": "markdown",
      "source": [
        "In the above example, we did apply case folding to convert all characters in the sample text to lowercase resulting in a normalized version of the text.\n",
        "\n",
        "Case folding is an essential preprocessing step in NLP often performed along side other text normalization techniques, such as tokenization, stopword removal and lemmatization or stemming. By maintain consistent casing in the text data, case folding helps to improve the accuracy and reliability of various NLP tasks, including text classification, information retrieval, sentiment analysis and language modeling."
      ],
      "metadata": {
        "id": "1fLqmXUqadvz"
      }
    }
  ]
}