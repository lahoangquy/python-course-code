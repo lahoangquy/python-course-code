{
  "nbformat": 4,
  "nbformat_minor": 0,
  "metadata": {
    "colab": {
      "provenance": []
    },
    "kernelspec": {
      "name": "python3",
      "display_name": "Python 3"
    },
    "language_info": {
      "name": "python"
    }
  },
  "cells": [
    {
      "cell_type": "code",
      "execution_count": 1,
      "metadata": {
        "colab": {
          "base_uri": "https://localhost:8080/"
        },
        "id": "PKpnATPKnA5j",
        "outputId": "8c426a72-44f6-4ff9-ad50-290bc13a2750"
      },
      "outputs": [
        {
          "output_type": "stream",
          "name": "stdout",
          "text": [
            "Collecting adjustText\n",
            "  Downloading adjustText-0.8-py3-none-any.whl (9.1 kB)\n",
            "Requirement already satisfied: numpy in /usr/local/lib/python3.10/dist-packages (from adjustText) (1.23.5)\n",
            "Requirement already satisfied: matplotlib in /usr/local/lib/python3.10/dist-packages (from adjustText) (3.7.1)\n",
            "Requirement already satisfied: contourpy>=1.0.1 in /usr/local/lib/python3.10/dist-packages (from matplotlib->adjustText) (1.1.0)\n",
            "Requirement already satisfied: cycler>=0.10 in /usr/local/lib/python3.10/dist-packages (from matplotlib->adjustText) (0.11.0)\n",
            "Requirement already satisfied: fonttools>=4.22.0 in /usr/local/lib/python3.10/dist-packages (from matplotlib->adjustText) (4.42.1)\n",
            "Requirement already satisfied: kiwisolver>=1.0.1 in /usr/local/lib/python3.10/dist-packages (from matplotlib->adjustText) (1.4.4)\n",
            "Requirement already satisfied: packaging>=20.0 in /usr/local/lib/python3.10/dist-packages (from matplotlib->adjustText) (23.1)\n",
            "Requirement already satisfied: pillow>=6.2.0 in /usr/local/lib/python3.10/dist-packages (from matplotlib->adjustText) (9.4.0)\n",
            "Requirement already satisfied: pyparsing>=2.3.1 in /usr/local/lib/python3.10/dist-packages (from matplotlib->adjustText) (3.1.1)\n",
            "Requirement already satisfied: python-dateutil>=2.7 in /usr/local/lib/python3.10/dist-packages (from matplotlib->adjustText) (2.8.2)\n",
            "Requirement already satisfied: six>=1.5 in /usr/local/lib/python3.10/dist-packages (from python-dateutil>=2.7->matplotlib->adjustText) (1.16.0)\n",
            "Installing collected packages: adjustText\n",
            "Successfully installed adjustText-0.8\n"
          ]
        }
      ],
      "source": [
        "pip install adjustText"
      ]
    },
    {
      "cell_type": "code",
      "source": [
        "%matplotlib inline\n",
        "import zipfile\n",
        "import re\n",
        "import numpy as np\n",
        "import pandas as pd\n",
        "import os\n",
        "import random\n",
        "import tensorflow as tf\n",
        "import matplotlib.pyplot as plt\n",
        "from six.moves.urllib.request import urlretrieve\n",
        "from sklearn.manifold import TSNE\n",
        "from adjustText import adjust_text"
      ],
      "metadata": {
        "id": "mYfXIUgrnGcF"
      },
      "execution_count": 2,
      "outputs": []
    },
    {
      "cell_type": "code",
      "source": [
        "from google.colab import drive\n",
        "drive.mount('/content/drive')"
      ],
      "metadata": {
        "colab": {
          "base_uri": "https://localhost:8080/"
        },
        "id": "QWNL5RgfnYWN",
        "outputId": "eb6935cd-ef55-4318-d552-17df5c2887d2"
      },
      "execution_count": 3,
      "outputs": [
        {
          "output_type": "stream",
          "name": "stdout",
          "text": [
            "Mounted at /content/drive\n"
          ]
        }
      ]
    },
    {
      "cell_type": "code",
      "source": [
        "%cd /content/drive/My Drive/Colab Notebooks"
      ],
      "metadata": {
        "colab": {
          "base_uri": "https://localhost:8080/"
        },
        "id": "yw0j1X7jnZzN",
        "outputId": "8280b7e2-8f19-42a6-c738-65f51b053eed"
      },
      "execution_count": 4,
      "outputs": [
        {
          "output_type": "stream",
          "name": "stdout",
          "text": [
            "/content/drive/My Drive/Colab Notebooks\n"
          ]
        }
      ]
    },
    {
      "cell_type": "code",
      "source": [
        "url = 'http://mlg.ucd.ie/files/datasets/bbc-fulltext.zip'"
      ],
      "metadata": {
        "id": "ij29yeYMnb6Y"
      },
      "execution_count": 5,
      "outputs": []
    },
    {
      "cell_type": "markdown",
      "source": [
        "In this project we will use BBC news articles dataset. It contains 2225 news articles belonging to 5 topics, business, entertainment, politics, sport, and tech which were published on the BBC website between 2004-2005"
      ],
      "metadata": {
        "id": "84sy2nXAptpW"
      }
    },
    {
      "cell_type": "code",
      "source": [
        "def download_data(url, data_dir):\n",
        "    \"\"\"Download a file if not present, and make sure it's the right size.\"\"\"\n",
        "\n",
        "    os.makedirs(data_dir, exist_ok=True)\n",
        "\n",
        "    file_path = os.path.join(data_dir, 'bbc-fulltext.zip')\n",
        "\n",
        "    if not os.path.exists(file_path):\n",
        "        print('Downloading file...')\n",
        "        filename, _ = urlretrieve(url, file_path)\n",
        "    else:\n",
        "        print(\"File already exists\")\n",
        "\n",
        "    extract_path = os.path.join(data_dir, 'bbc')\n",
        "    if not os.path.exists(extract_path):\n",
        "\n",
        "        with zipfile.ZipFile(os.path.join(data_dir, 'bbc-fulltext.zip'), 'r') as zipf:\n",
        "            zipf.extractall(data_dir)\n",
        "\n",
        "    else:\n",
        "        print(\"bbc-fulltext.zip has already been extracted\")\n",
        "\n",
        "download_data(url, 'data')"
      ],
      "metadata": {
        "colab": {
          "base_uri": "https://localhost:8080/"
        },
        "id": "c7bX7dhBp9rg",
        "outputId": "f83a29a7-6214-49ec-ea64-f0237a3339cf"
      },
      "execution_count": 6,
      "outputs": [
        {
          "output_type": "stream",
          "name": "stdout",
          "text": [
            "File already exists\n",
            "bbc-fulltext.zip has already been extracted\n"
          ]
        }
      ]
    },
    {
      "cell_type": "markdown",
      "source": [
        "The function first creates data_dir if it does not exst. Next if the bbc-fulltext.zip file does not exist it will be downloaded from the URL. If bbc-fulltext.zip has not been extracted yet, it will be extracted to data_dir"
      ],
      "metadata": {
        "id": "_aszykr3rakW"
      }
    },
    {
      "cell_type": "markdown",
      "source": [
        "With that we are going to focus on reading the data contained in the news articles (in .txt format) into the memory. To do that we will define the read_data() function which takes a data directory path (data_dir) and reads the .txt files (except for README file)"
      ],
      "metadata": {
        "id": "05NlTCM5rvVp"
      }
    },
    {
      "cell_type": "code",
      "source": [
        "def read_data(data_dir):\n",
        "\n",
        "    # This will contain the full list of stories\n",
        "    news_stories = []\n",
        "\n",
        "    print(\"Reading files\")\n",
        "\n",
        "    i = 0 # Just used for printing progress\n",
        "    for root, dirs, files in os.walk(data_dir):\n",
        "\n",
        "        for fi, f in enumerate(files):\n",
        "\n",
        "            # We don't read the readme file\n",
        "            if 'README' in f:\n",
        "                continue\n",
        "\n",
        "            # Printing progress\n",
        "            i += 1\n",
        "            print(\".\"*i, f, end='\\r')\n",
        "\n",
        "            # Open the file\n",
        "            with open(os.path.join(root, f), encoding='latin-1') as f:\n",
        "\n",
        "                story = []\n",
        "                # Read all the lines\n",
        "                for row in f:\n",
        "\n",
        "                    story.append(row.strip())\n",
        "\n",
        "                # Create a single string with all the rows in the doc\n",
        "                story = ' '.join(story)\n",
        "                # Add that to the list\n",
        "                news_stories.append(story)\n",
        "\n",
        "        print('', end='\\r')\n",
        "\n",
        "    print(f\"\\nDetected {len(news_stories)} stories\")\n",
        "    return news_stories"
      ],
      "metadata": {
        "id": "wYKxcyEhsFaD"
      },
      "execution_count": 7,
      "outputs": []
    },
    {
      "cell_type": "markdown",
      "source": [
        "with read_data() function. We can use it read the data and print some samples as well as some statistics"
      ],
      "metadata": {
        "id": "vO93yj7Bs-k_"
      }
    },
    {
      "cell_type": "code",
      "source": [
        "news_stories = read_data(os.path.join('data', 'bbc'))\n",
        "\n",
        "# Printing some stats and sample data\n",
        "print(f\"{sum([len(story.split(' ')) for story in news_stories])} words found in the total news set\")\n",
        "print('Example words (start): ',news_stories[0][:50])\n",
        "print('Example words (end): ',news_stories[-1][-50:])"
      ],
      "metadata": {
        "colab": {
          "base_uri": "https://localhost:8080/"
        },
        "id": "6VNmIs5vtE2K",
        "outputId": "ea5d67f6-e739-4a1d-966d-c8d2cfa19057"
      },
      "execution_count": 8,
      "outputs": [
        {
          "output_type": "stream",
          "name": "stdout",
          "text": [
            "Reading files\n",
            "................................................................................................................................................................................................................................................................................................................................................................................................................................................................................................................................................................................................................................................................................................................................................................................................................................................................................................................................................................................................................................................................................................................................................................................................................................................................................................................................................................................................................................................................................................................................................................................................................................................................................................................................................................................................................................................................................................................................................................................................................................................................................................................................................................................................................................................................................................................. 284.txt\n",
            "Detected 2225 stories\n",
            "865163 words found in the total news set\n",
            "Example words (start):  Musicians to tackle US red tape  Musicians' groups\n",
            "Example words (end):  illion songs downloaded since it launched in 2003.\n"
          ]
        }
      ]
    },
    {
      "cell_type": "markdown",
      "source": [
        "As can be seen from the above result, there are 2225 stories with close to a milion words. In the next step we will tokenize each story (in the form of a long string) to a list of tokens (or words). Along with that we will perform some preprocessing on the text: lowercase all the chracfters and remove punctuation."
      ],
      "metadata": {
        "id": "x8mvPASdtnNc"
      }
    },
    {
      "cell_type": "code",
      "source": [
        "from tensorflow.keras.preprocessing.text import Tokenizer\n",
        "\n",
        "tokenizer = Tokenizer(\n",
        "    num_words=None,\n",
        "    filters='!\"#$%&()*+,-./:;<=>?@[\\\\]^_`{|}~\\t\\n',\n",
        "    lower=True, split=' '\n",
        ")"
      ],
      "metadata": {
        "id": "OWUcMagc5s4_"
      },
      "execution_count": 9,
      "outputs": []
    },
    {
      "cell_type": "markdown",
      "source": [
        "As can be seen above some of the most popular keywrd arugment and their default values used when defining a tokenizer:\n",
        "\n",
        "\n",
        "\n",
        "*   num_words: Deifnines the size of the vocabulary. Defaults to None, meaning it will consider all the words appearing in the text corpus. If set to the integer n, it will only consider the n most common words appearing in the corpus\n",
        "\n",
        "*   filters: Defines any characters that need to be omitted during preprocessing. By default it defines a string containing most of the common punctuation marks and symbols.\n",
        "\n",
        "*   lower: defines whether the text needs to be converted to lowercase\n",
        "\n",
        "*   split: defines the character that the words will be tokenized on.\n",
        "\n",
        "\n",
        "Once the tokenizer is defined, fit_on_texts() emthod will be call with a list of strings (where each string is a news article) so that the tokenizer will learn the vocabulary and map the words to the unique IDs\n",
        "\n"
      ],
      "metadata": {
        "id": "mN2ITBbp-nXd"
      }
    },
    {
      "cell_type": "code",
      "source": [
        "tokenizer.fit_on_texts(news_stories)"
      ],
      "metadata": {
        "id": "FZ7RctIA_kJ0"
      },
      "execution_count": 10,
      "outputs": []
    },
    {
      "cell_type": "markdown",
      "source": [
        "It is a time to take a moment to analyze what the tokenizer has produced after it has been fitted on the text. Once it has been fitted, the Tokenizer will have 2 important attributes populated: word_index and index_word. Here word_index is a dictionary that maps each word to a unique ID. The index_word attribute is the opposite of word_index, that is a dictionary that maps each unique word ID to the corressponding word"
      ],
      "metadata": {
        "id": "TR4Q5B_4_rqH"
      }
    },
    {
      "cell_type": "code",
      "source": [
        "n_vocab = len(tokenizer.word_index.items()) + 1\n",
        "print(f\"Vocabulary size: {n_vocab}\")\n",
        "print(\"\\nWords at the top\")\n",
        "print('\\t', dict(list(tokenizer.word_index.items())[:10]))\n",
        "print(\"\\nWords at the bottom\")\n",
        "print('\\t', dict(list(tokenizer.word_index.items())[-10:]))"
      ],
      "metadata": {
        "colab": {
          "base_uri": "https://localhost:8080/"
        },
        "id": "dQXwddNC_rWe",
        "outputId": "be484b6e-4b5e-406b-a66a-45ece1aa9d1a"
      },
      "execution_count": 11,
      "outputs": [
        {
          "output_type": "stream",
          "name": "stdout",
          "text": [
            "Vocabulary size: 32360\n",
            "\n",
            "Words at the top\n",
            "\t {'the': 1, 'to': 2, 'of': 3, 'and': 4, 'a': 5, 'in': 6, 'for': 7, 'is': 8, 'that': 9, 'on': 10}\n",
            "\n",
            "Words at the bottom\n",
            "\t {\"taipei's\": 32350, 'taller': 32351, 'petronas': 32352, 'skyscraper': 32353, 'packaged': 32354, 'inserting': 32355, 'solves': 32356, 'idefence': 32357, 'pls': 32358, 'm3u': 32359}\n"
          ]
        }
      ]
    },
    {
      "cell_type": "markdown",
      "source": [
        "Note how we are using the length of the word_index dictionary to derive the vocabulary size. We need an additional 1 as the ID 0 is a reserved ID and will not be used for any word.\n",
        "\n",
        "The more frequent a word in the corpus, the lower the ID will be. Words such as \"the\", \"to\",  and \"of\" which tend to be common (and are called stop words) are infact the most common words. As the next step , we are going to refine our tokenizer object to have a limited-size vocabulary. Because we are working with a relatively small corpus, we have to ensure the vocabulary is not too large as it can lead to poorly learned word vectors due to the lack of data."
      ],
      "metadata": {
        "id": "2nZ24m0MA1yy"
      }
    },
    {
      "cell_type": "code",
      "source": [
        "n_vocab = 15000\n",
        "tokenizer = Tokenizer(\n",
        "    num_words=n_vocab-1,\n",
        "    filters='!\"#$%&()*+,-./:;<=>?@[\\\\]^_`{|}~\\t\\n',\n",
        "    lower=True, split=' ', oov_token='',\n",
        ")\n",
        "\n",
        "tokenizer.fit_on_texts(news_stories)\n",
        "print(\"Data fitted on the tokenizer\")"
      ],
      "metadata": {
        "colab": {
          "base_uri": "https://localhost:8080/"
        },
        "id": "02ASLstmBvDI",
        "outputId": "e0bf0d65-8211-4db5-a47e-52b2c191e225"
      },
      "execution_count": 12,
      "outputs": [
        {
          "output_type": "stream",
          "name": "stdout",
          "text": [
            "Data fitted on the tokenizer\n"
          ]
        }
      ]
    },
    {
      "cell_type": "markdown",
      "source": [
        "Since we have a total vocabulary of more than 30000 words, we will restrict the eize of the vocabulary to 15000. This means the tokenizer will only keep the most common 15000 words as the vocabulary. When we restrict a vocabulary this way a new problem arises. As the tokenizer's vocabulary does not encompass all possible words in the true vocabulary, out-of-vocabulary words (or OOV words) can rear their heads. Some soluations are to replace OOV words with a special token (such  as <UNK>) or remove them from the corpus. This is possible by passing the string we want to replace OOV tokens to the oov_token argument in the Tokenizer. In this case, we will remove OOV words. If we are careful when setting the size of the vocabulary, omitting some of the rare words would not harn learning the context of words accurately\n",
        "\n",
        "It is time to convert a string of the first 100 cahracters to the first story in our corpos (stored in the news_stories variable)"
      ],
      "metadata": {
        "id": "rWlvazLGCDO_"
      }
    },
    {
      "cell_type": "code",
      "source": [
        "print(f\"Original: {news_stories[0][:100]}\")"
      ],
      "metadata": {
        "colab": {
          "base_uri": "https://localhost:8080/"
        },
        "id": "JMHbVz2HFWBd",
        "outputId": "cb9cd614-5277-4a4e-89a1-f1f461dcca4c"
      },
      "execution_count": 13,
      "outputs": [
        {
          "output_type": "stream",
          "name": "stdout",
          "text": [
            "Original: Musicians to tackle US red tape  Musicians' groups are to tackle US visa regulations which are blame\n"
          ]
        }
      ]
    },
    {
      "cell_type": "markdown",
      "source": [
        "Then we can call the tokenizer's texts_to_sequence() method to convert a list of documents (where each document is a string) to a list of list of word IDs (that is , each domuent is converted to a list of word IDs)"
      ],
      "metadata": {
        "id": "sBtIlcMvFd6V"
      }
    },
    {
      "cell_type": "code",
      "source": [
        "print(f\"Sequence IDs: {tokenizer.texts_to_sequences([news_stories[0][:100]])[0]}\")"
      ],
      "metadata": {
        "colab": {
          "base_uri": "https://localhost:8080/"
        },
        "id": "gYtMC0zDF6qt",
        "outputId": "c54f45a0-6340-4bb0-824f-c62aa5052982"
      },
      "execution_count": 14,
      "outputs": [
        {
          "output_type": "stream",
          "name": "stdout",
          "text": [
            "Sequence IDs: [2609, 3, 1342, 49, 1294, 4686, 11185, 862, 25, 3, 1342, 49, 2529, 3218, 35, 25, 3696]\n"
          ]
        }
      ]
    },
    {
      "cell_type": "markdown",
      "source": [
        "We now have our tikenizer sorted. There is nothing left to do but to convert all of our news articles to sequences of word IDs with a signle line of code\n"
      ],
      "metadata": {
        "id": "UIa5VPcAGJFL"
      }
    },
    {
      "cell_type": "code",
      "source": [
        "news_sequences = tokenizer.texts_to_sequences(news_stories)"
      ],
      "metadata": {
        "id": "54lnzOgtGSxU"
      },
      "execution_count": 15,
      "outputs": []
    },
    {
      "cell_type": "code",
      "source": [
        "sample_word_ids = news_sequences[0][:5]\n",
        "sample_phrase = ' '.join([tokenizer.index_word[wid] for wid in sample_word_ids])\n",
        "print(f\"Sample phrase: {sample_phrase}\")\n",
        "print(f\"Sample word IDs: {sample_word_ids}\\n\")"
      ],
      "metadata": {
        "colab": {
          "base_uri": "https://localhost:8080/"
        },
        "id": "GhWX5lx3GcPM",
        "outputId": "a6cc6be9-10b0-4a0e-eb2c-bfc6b78ff128"
      },
      "execution_count": 16,
      "outputs": [
        {
          "output_type": "stream",
          "name": "stdout",
          "text": [
            "Sample phrase: musicians to tackle us red\n",
            "Sample word IDs: [2609, 3, 1342, 49, 1294]\n",
            "\n"
          ]
        }
      ]
    },
    {
      "cell_type": "markdown",
      "source": [
        "Now it is a time to consider a window size of 1. This means for a given target word, we define the context as one word frim each side of the target word"
      ],
      "metadata": {
        "id": "LHFJQhumG53f"
      }
    },
    {
      "cell_type": "code",
      "source": [
        "window_size = 1 # How many words to consider left and right"
      ],
      "metadata": {
        "id": "_z4sCTZ4HCIJ"
      },
      "execution_count": 17,
      "outputs": []
    },
    {
      "cell_type": "markdown",
      "source": [
        "We have all ingredients to define extract skip-grams from the sample phrase."
      ],
      "metadata": {
        "id": "RiLMvgFrHHsQ"
      }
    },
    {
      "cell_type": "code",
      "source": [
        "inputs, labels = tf.keras.preprocessing.sequence.skipgrams(\n",
        "    sample_word_ids,\n",
        "    vocabulary_size=n_vocab,\n",
        "    window_size=window_size, negative_samples=1.0, shuffle=False,\n",
        "    categorical=False, sampling_table=None, seed=None\n",
        ")\n",
        "\n",
        "\n",
        "print(\"Sample skip-grams\")"
      ],
      "metadata": {
        "colab": {
          "base_uri": "https://localhost:8080/"
        },
        "id": "mgGS-YkzHGkh",
        "outputId": "944964a8-b8b2-40d4-a62c-d9801b061b35"
      },
      "execution_count": 18,
      "outputs": [
        {
          "output_type": "stream",
          "name": "stdout",
          "text": [
            "Sample skip-grams\n"
          ]
        }
      ]
    },
    {
      "cell_type": "markdown",
      "source": [
        "Now it is a time to look at some of important arguments which have been used.\n",
        "\n",
        "\n",
        "*   sequence(list[str] or list[int]) : A list of words or word IDS\n",
        "\n",
        "*   Vocabulary_size (int):  Size of the vocabulary\n",
        "\n",
        "*   window_size (int): size of the window to be considered for the context\n",
        "\n",
        "*   window_size : defines the length on each side\n",
        "\n",
        "*   Nevative_samples (int): Fraction of negative candidates to generate. For example, a value of 1 means that there will be an equal number of possitive and negative skipgram candidates. A value of 0 means there will not be any negative candiates\n",
        "*   Shuffle (bool): Whetehre to produce labels as categorical (that is one-hot encoded) or integers\n",
        "\n",
        "\n",
        "*   Sampling_table : An arry size of the same size as the vocabulary. An element is a given position to the array represents the probability of sampleing the word indexed by taht position in the tokenizer's word ID to word mapping\n",
        "\n",
        "\n",
        "\n",
        "*   seed(int). If shuffling is enabled, this is the random seed to be used for shuffling\n",
        "\n",
        "\n"
      ],
      "metadata": {
        "id": "--3DKvkrH2xH"
      }
    },
    {
      "cell_type": "code",
      "source": [
        "# With the inputs and labels generated. It is time to print some data\n",
        "print(\"Sample skip-grams\")\n",
        "for inp, lbl in zip(inputs, labels):\n",
        "    print(f\"\\tInput: {inp} ({[tokenizer.index_word[wi] for wi in inp]}) / Label: {lbl}\")"
      ],
      "metadata": {
        "colab": {
          "base_uri": "https://localhost:8080/"
        },
        "id": "8NURZffHGtnh",
        "outputId": "2f0e8f54-4be5-4409-f96b-e5017fd9441a"
      },
      "execution_count": 19,
      "outputs": [
        {
          "output_type": "stream",
          "name": "stdout",
          "text": [
            "Sample skip-grams\n",
            "\tInput: [2609, 3] (['musicians', 'to']) / Label: 1\n",
            "\tInput: [3, 2609] (['to', 'musicians']) / Label: 1\n",
            "\tInput: [3, 1342] (['to', 'tackle']) / Label: 1\n",
            "\tInput: [1342, 3] (['tackle', 'to']) / Label: 1\n",
            "\tInput: [1342, 49] (['tackle', 'us']) / Label: 1\n",
            "\tInput: [49, 1342] (['us', 'tackle']) / Label: 1\n",
            "\tInput: [49, 1294] (['us', 'red']) / Label: 1\n",
            "\tInput: [1294, 49] (['red', 'us']) / Label: 1\n",
            "\tInput: [2609, 5467] (['musicians', 'equality']) / Label: 0\n",
            "\tInput: [1342, 4474] (['tackle', 'qwest']) / Label: 0\n",
            "\tInput: [49, 2457] (['us', 'lowest']) / Label: 0\n",
            "\tInput: [1294, 13583] (['red', 'vociferous']) / Label: 0\n",
            "\tInput: [49, 2471] (['us', 'proper']) / Label: 0\n",
            "\tInput: [1342, 4076] (['tackle', 'munster']) / Label: 0\n",
            "\tInput: [3, 7316] (['to', 'zimbabwe']) / Label: 0\n",
            "\tInput: [3, 14142] (['to', 'strides']) / Label: 0\n"
          ]
        }
      ]
    },
    {
      "cell_type": "markdown",
      "source": [
        "For example, since the word \"sales\" appears in the context of the word \"ad\", it is considered a positive candidate. On the other hand, since the word \"racing\" (randomly sampled from the vocabulary) does not appear in the context of the word \"ad\". It is added as a negative candidate.\n",
        "\n",
        "When selecting negative candiates, the skipgram() function selects them randomly, giving uniform weights to all the words in the vocabulary. However, the original paper exapliants that this can lead to poor performance. A better strategy is to use the unigram distribution as a prior for selecting negative context words.\n",
        "\n",
        "a unigram distribution referes to the frequency distribution of individual words in a text or a language corpus. In simpler terms, it represetns how often each distinct word appears in a given body of text.\n",
        "\n",
        "A unigram is the smalles lunguistic unit, representing a single word without considering its context or enighboring words. Analyzing the unigram distribution can provide insights into the vocabulary richness, word usage patterns and potentially even the topic or theme of the text. This distribution is often used as a foundational step in various language processing tasks, such as langauge modeling, text classificaiton and information retrival.\n",
        "\n",
        "To do that we can use tf.random.log_uniform_candiate_sampler() function. This function will take a batch of positive context candiates of shape [b,num_true], where b is the batch size and num_true is the number of true candiates per example (1 for the skip-gram model), and it outputs a [num_sampled] size array where num_sampled is the number of negative samples we need."
      ],
      "metadata": {
        "id": "HfvRnzS8GsYF"
      }
    },
    {
      "cell_type": "code",
      "source": [
        "inputs, labels = tf.keras.preprocessing.sequence.skipgrams(\n",
        "    sample_word_ids,\n",
        "    vocabulary_size=len(tokenizer.word_index.items())+1,\n",
        "    window_size=window_size, negative_samples=0, shuffle=False,\n",
        ")\n",
        "\n",
        "inputs, labels = np.array(inputs), np.array(labels)"
      ],
      "metadata": {
        "id": "E2lfZK8WJqmI"
      },
      "execution_count": 20,
      "outputs": []
    },
    {
      "cell_type": "markdown",
      "source": [
        "Note taht we are specifying negative_samples = 0, as we will be generating negative samples with the candiate ssampler. Now it is a time to use the tf.random.log_uniform_candidate_sampler() function to generate negative candidates."
      ],
      "metadata": {
        "id": "o7FTj9lBKOns"
      }
    },
    {
      "cell_type": "code",
      "source": [
        "negative_sampling_candidates, true_expected_count, sampled_expected_count = tf.random.log_uniform_candidate_sampler(\n",
        "    # A true context word that appears in the context of the target\n",
        "    true_classes=inputs[:1,1:], # [b, 1] sized tensor\n",
        "    num_true=1, # number of true words per example\n",
        "    num_sampled=10,\n",
        "    unique=True,\n",
        "    range_max=n_vocab,\n",
        "    name=\"negative_sampling\"\n",
        ")"
      ],
      "metadata": {
        "id": "9jTe8D40Kgk2"
      },
      "execution_count": 21,
      "outputs": []
    },
    {
      "cell_type": "markdown",
      "source": [
        "This function takes some arguments:\n",
        "\n",
        "\n",
        "1.   true_classes(np.ndarray or tf.Tensor) - A tensor containing true target words. This needs to be a [b, num_true] sized array, where num_true denotes the number of true context candidates per example. Since we have 1 context word per example this is 1\n",
        "\n",
        "1.   num_true (int): The number of true context erms per example\n",
        "\n",
        "1.   num_sampled (int): The number of negative samples to generate\n",
        "\n",
        "1.   unique (bool): whether to genrate unique samples with replacement\n",
        "2.   range_max (int): The size of the vocabulary\n",
        "\n",
        "\n",
        "It will return\n",
        "\n",
        "2.   sampled_candiates(tf.tensor) :  A tensor of size [num_sampled] containing negative candiates\n",
        "\n",
        "2.   true_expected_count(tf.tensor): A tensor of size[b, num_true]: The probability of each true candidate being sampled\n",
        "\n",
        "\n",
        "2.   Sampled_expected count (tf.tensor): A tensor of size [num_sapled]: The probabilities of each negative sample occuring alon g with true candiates. if sampled from corpus\n",
        "\n"
      ],
      "metadata": {
        "id": "Tyk3inhqLHJr"
      }
    },
    {
      "cell_type": "code",
      "source": [
        "print(f\"Positive sample: {inputs[:1,1:]}\")\n",
        "print(f\"Negative samples: {negative_sampling_candidates}\")\n",
        "print(f\"true_expected_count: {true_expected_count}\")\n",
        "print(f\"sampled_expected_count: {sampled_expected_count}\")"
      ],
      "metadata": {
        "colab": {
          "base_uri": "https://localhost:8080/"
        },
        "id": "r2kggkh3MjVd",
        "outputId": "5706ac4f-5f8e-49bf-d593-25a9af07d829"
      },
      "execution_count": 22,
      "outputs": [
        {
          "output_type": "stream",
          "name": "stdout",
          "text": [
            "Positive sample: [[3]]\n",
            "Negative samples: [3231   35  118  417 1177  344 3604 6247  346   17]\n",
            "true_expected_count: [[0.23205754]]\n",
            "sampled_expected_count: [0.00032172 0.02849349 0.00870254 0.00248494 0.00088243 0.00300998\n",
            " 0.00028843 0.00016643 0.00299266 0.05622706]\n"
          ]
        }
      ]
    },
    {
      "cell_type": "markdown",
      "source": [
        "It is a time to put everything together. It is a time to write a data generator\n",
        "function that generates batches of data for the model. This function , named skip_gram_data_generator() and it will take some of these below arguments.\n",
        "\n",
        "\n",
        "\n",
        "\n",
        "*   sequences(List[List[int]]): A list of list of word IDs. This is the output genereaged by the Tokenizer's texts_to_sequences() function.\n",
        "*   window_size(int): The window size fot he context\n",
        "\n",
        "*   batch_size (int): The batch size\n",
        "\n",
        "*   negative_samples (int): The number of negative samples per example to generate\n",
        "*   vocabulary_size (int): The vocabulary size\n",
        "\n",
        "\n",
        "*   Seed: The random seed\n",
        "\n",
        "It will return a batch of target word IDs, A batch of corresponding context word IDs (both positive and negative) and a batch of labels (0 and 1)\n",
        "\n",
        "\n",
        "\n"
      ],
      "metadata": {
        "id": "75GN5mWQOFg0"
      }
    },
    {
      "cell_type": "code",
      "source": [
        "sampling_table = tf.keras.preprocessing.sequence.make_sampling_table(n_vocab, sampling_factor=1e-05)\n",
        "\n",
        "print(sampling_table)"
      ],
      "metadata": {
        "colab": {
          "base_uri": "https://localhost:8080/"
        },
        "id": "OY8w-CS1S8KE",
        "outputId": "82822bb9-5b0c-420c-8a26-027fce88f951"
      },
      "execution_count": 23,
      "outputs": [
        {
          "output_type": "stream",
          "name": "stdout",
          "text": [
            "[0.00315225 0.00315225 0.00547597 ... 1.         1.         1.        ]\n"
          ]
        }
      ]
    },
    {
      "cell_type": "code",
      "source": [
        "def skip_gram_data_generator(sequences, window_size, batch_size, negative_samples, vocab_size, seed=None):\n",
        "\n",
        "    rand_sequence_ids = np.arange(len(sequences))\n",
        "    np.random.shuffle(rand_sequence_ids)\n",
        "\n",
        "\n",
        "    for si in rand_sequence_ids:\n",
        "\n",
        "        positive_skip_grams, _ = tf.keras.preprocessing.sequence.skipgrams(\n",
        "            sequences[si],\n",
        "            vocabulary_size=vocab_size,\n",
        "            window_size=window_size,\n",
        "            negative_samples=0.0,\n",
        "            shuffle=False,\n",
        "            sampling_table=sampling_table,\n",
        "            seed=seed\n",
        "        )\n",
        "\n",
        "        targets, contexts, labels = [], [], []\n",
        "\n",
        "        for target_word, context_word in positive_skip_grams:\n",
        "            context_class = tf.expand_dims(tf.constant([context_word], dtype=\"int64\"), 1)\n",
        "\n",
        "            negative_sampling_candidates, _, _ = tf.random.log_uniform_candidate_sampler(\n",
        "              true_classes=context_class,\n",
        "              num_true=1,\n",
        "              num_sampled=negative_samples,\n",
        "              unique=True,\n",
        "              range_max=vocab_size,\n",
        "              name=\"negative_sampling\")\n",
        "\n",
        "            # Build context and label vectors (for one target word)\n",
        "            context = tf.concat(\n",
        "                [tf.constant([context_word], dtype='int64'), negative_sampling_candidates],\n",
        "                axis=0\n",
        "            )\n",
        "\n",
        "            label = tf.constant([1] + [0]*negative_samples, dtype=\"int64\")\n",
        "\n",
        "            # Append each element from the training example to global lists.\n",
        "            targets.extend([target_word]*(negative_samples+1))\n",
        "            contexts.append(context)\n",
        "            labels.append(label)\n",
        "\n",
        "        contexts, targets, labels = np.concatenate(contexts), np.array(targets), np.concatenate(labels)\n",
        "\n",
        "        assert contexts.shape[0] == targets.shape[0]\n",
        "        assert contexts.shape[0] == labels.shape[0]\n",
        "\n",
        "        # If seed is not provided generate a random one\n",
        "        if not seed:\n",
        "            seed = random.randint(0, 10e6)\n",
        "\n",
        "        np.random.seed(seed)\n",
        "        np.random.shuffle(contexts)\n",
        "        np.random.seed(seed)\n",
        "        np.random.shuffle(targets)\n",
        "        np.random.seed(seed)\n",
        "        np.random.shuffle(labels)\n",
        "\n",
        "\n",
        "        for eg_id_start in range(0, contexts.shape[0], batch_size):\n",
        "            yield (\n",
        "                targets[eg_id_start: min(eg_id_start+batch_size, targets.shape[0])],\n",
        "                contexts[eg_id_start: min(eg_id_start+batch_size, contexts.shape[0])]\n",
        "            ), labels[eg_id_start: min(eg_id_start+batch_size, labels.shape[0])]"
      ],
      "metadata": {
        "id": "B-1HDMptPI2b"
      },
      "execution_count": 24,
      "outputs": []
    },
    {
      "cell_type": "markdown",
      "source": [
        "**Skip gram algorithm implementation**\n",
        "\n",
        "First we will need to define the hyperparameters of the model. You feel free to change these hyperparameters to see how they affect final performace (for example, batch_size =1024 or batch_size = 2048). However, since this is a simpler problem than the more complex real-world problems, we might not see any significant differences unless we change them to extremes, for example, batch_size=1 or num_sampled = 1"
      ],
      "metadata": {
        "id": "AtKTOqtoeFhv"
      }
    },
    {
      "cell_type": "code",
      "source": [
        "batch_size = 4096 # Data points in a single batch\n",
        "embedding_size = 128 # Dimension of the embedding vector.\n",
        "window_size=1 # We use a window size of 1 on either side of target word\n",
        "negative_samples = 4 # Number of negative samples generated per example\n",
        "epochs = 5 # Number of epochs to train for\n",
        "# We pick a random validation set to sample nearest neighbors\n",
        "valid_size = 16 # Random set of words to evaluate similarity on.\n",
        "# We sample valid datapoints randomly from a large window without always\n",
        "# being deterministic\n",
        "valid_window = 250\n",
        "# When selecting valid examples, we select some of the most frequent words # as well as some moderately rare words as well\n",
        "np.random.seed(54321)\n",
        "random.seed(54321)\n",
        "valid_term_ids = np.array(random.sample(range(valid_window), valid_size))\n",
        "valid_term_ids = np.append(\n",
        "    valid_term_ids, random.sample(range(1000, 1000+valid_window),\n",
        "    valid_size),\n",
        "    axis=0\n",
        ")"
      ],
      "metadata": {
        "id": "ocUgvD6Qeo9O"
      },
      "execution_count": 25,
      "outputs": []
    },
    {
      "cell_type": "markdown",
      "source": [
        "Next we will define the model. To do this we will be depending on the functional API of Keras. We need to go beyond the simplest API that is the Sequential API as this model requires 2 input streams (one for the context and one for the target).\n",
        "\n",
        "We will start off with an import and then celear any current running sessions to ensure that the will not be nay other models occupying the hardware"
      ],
      "metadata": {
        "id": "u6dScqoYgFWX"
      }
    },
    {
      "cell_type": "code",
      "source": [
        "import tensorflow.keras.backend as K\n",
        "K.clear_session()"
      ],
      "metadata": {
        "id": "QuRO1IHrghQ1"
      },
      "execution_count": 26,
      "outputs": []
    },
    {
      "cell_type": "code",
      "source": [
        "# define 2 input layers\n",
        "\n",
        "input_1 = tf.keras.layers.Input(shape=(), name='target')\n",
        "input_2 = tf.keras.layers.Input(shape=(), name='context')"
      ],
      "metadata": {
        "id": "5W7Cjc4TgpjZ"
      },
      "execution_count": 27,
      "outputs": []
    },
    {
      "cell_type": "markdown",
      "source": [
        "Note how the shape is define as (). When defining the shape argument, the actual output shape will have a new undefiend dimension (i.e None sized) added. In other words, the final output shape will be [None]\n",
        "\n",
        "Next, we will need to define 2 embedding layers: a target embedding layer and a context embedding layer. These layers will be used to look up the embedding for target and context word IDs that will be generated by the input generation function."
      ],
      "metadata": {
        "id": "rrNNvyewg_wS"
      }
    },
    {
      "cell_type": "code",
      "source": [
        "# Two embedding layers are used one for the context and one for the target\n",
        "\n",
        "target_embedding_layer = tf.keras.layers.Embedding(\n",
        "    input_dim=n_vocab, output_dim=embedding_size, name='target_embedding'\n",
        ")\n",
        "\n",
        "context_embedding_layer = tf.keras.layers.Embedding(\n",
        "    input_dim=n_vocab, output_dim=embedding_size, name='context_embedding'\n",
        ")\n"
      ],
      "metadata": {
        "id": "GjG1Nhc-hdyy"
      },
      "execution_count": 28,
      "outputs": []
    },
    {
      "cell_type": "code",
      "source": [
        "# Looking up the embeddings for the word IS that will be fed to the input layers\n",
        "\n",
        "target_out = target_embedding_layer(input_1)\n",
        "context_out = context_embedding_layer(input_2)"
      ],
      "metadata": {
        "id": "PskfDJv0iJX1"
      },
      "execution_count": 29,
      "outputs": []
    },
    {
      "cell_type": "code",
      "source": [
        "# Computing the dot product between the 2\n",
        "\n",
        "out = tf.keras.layers.Dot(axes=-1)([context_out, target_out])"
      ],
      "metadata": {
        "id": "4U1KG7myidPj"
      },
      "execution_count": 30,
      "outputs": []
    },
    {
      "cell_type": "markdown",
      "source": [
        "Then we will define the model as a tf.keras.models.Model object where we need to specify inputs and outputs arguments. inputs need to be 1 or more input layers and outputs can be 1 or more outputs produced by a series of tf.keras.layers objects"
      ],
      "metadata": {
        "id": "0scEmQHqivYg"
      }
    },
    {
      "cell_type": "code",
      "source": [
        "# Defining the model\n",
        "skip_gram_model = tf.keras.models.Model(inputs=[input_1, input_2], outputs=out, name='skip_gram_model')"
      ],
      "metadata": {
        "id": "XOZzuos_itzT"
      },
      "execution_count": 31,
      "outputs": []
    },
    {
      "cell_type": "code",
      "source": [
        "# Compiling the model\n",
        "\n",
        "skip_gram_model.compile(\n",
        "    loss=tf.keras.losses.BinaryCrossentropy(from_logits=True),\n",
        "    optimizer='adam'\n",
        ")\n"
      ],
      "metadata": {
        "id": "aWXRHCXhjPMp"
      },
      "execution_count": 32,
      "outputs": []
    },
    {
      "cell_type": "code",
      "source": [
        "# Print the model summary\n",
        "\n",
        "skip_gram_model.summary()"
      ],
      "metadata": {
        "colab": {
          "base_uri": "https://localhost:8080/"
        },
        "id": "XhZNk_d3jlb0",
        "outputId": "07740b9a-08f4-440c-b53a-3a3b9d05618e"
      },
      "execution_count": 33,
      "outputs": [
        {
          "output_type": "stream",
          "name": "stdout",
          "text": [
            "Model: \"skip_gram_model\"\n",
            "__________________________________________________________________________________________________\n",
            " Layer (type)                   Output Shape         Param #     Connected to                     \n",
            "==================================================================================================\n",
            " context (InputLayer)           [(None,)]            0           []                               \n",
            "                                                                                                  \n",
            " target (InputLayer)            [(None,)]            0           []                               \n",
            "                                                                                                  \n",
            " context_embedding (Embedding)  (None, 128)          1920000     ['context[0][0]']                \n",
            "                                                                                                  \n",
            " target_embedding (Embedding)   (None, 128)          1920000     ['target[0][0]']                 \n",
            "                                                                                                  \n",
            " dot (Dot)                      (None, 1)            0           ['context_embedding[0][0]',      \n",
            "                                                                  'target_embedding[0][0]']       \n",
            "                                                                                                  \n",
            "==================================================================================================\n",
            "Total params: 3,840,000\n",
            "Trainable params: 3,840,000\n",
            "Non-trainable params: 0\n",
            "__________________________________________________________________________________________________\n"
          ]
        }
      ]
    },
    {
      "cell_type": "markdown",
      "source": [
        "**Training and evauluating the model**\n",
        "\n",
        "Our training process is very simple as we did define the function to genreate batches of data in the exact format the model needs them in. But before we go ahead with training model , we need to think about how we evaluate word vector models. The idea of word vectors is that words sharing semantic similarity will have a smaller distance between words, we can use the cosin distance. We will need to pick a set of random words IDsand stored them in valid_term_ids during the hyperparameter discussion.  We will implement a way to compute the closest k words to each of those terms at the end of every epoch.\n",
        "\n",
        "\n",
        "For this we will use Keras callbacks. Keras callbacks will give you a way to excute some important operations at the end of every training iteration, peoch, prediction step and so on."
      ],
      "metadata": {
        "id": "a59D6tFlju6k"
      }
    },
    {
      "cell_type": "code",
      "source": [
        "class ValidationCallback(tf.keras.callbacks.Callback):\n",
        "\n",
        "    def __init__(self, valid_term_ids, model_with_embeddings, tokenizer):\n",
        "\n",
        "        self.valid_term_ids = valid_term_ids\n",
        "        self.model_with_embeddings = model_with_embeddings\n",
        "        self.tokenizer = tokenizer\n",
        "\n",
        "        super().__init__()\n",
        "\n",
        "    def on_epoch_end(self, epoch, logs=None):\n",
        "        \"\"\" Validation logic \"\"\"\n",
        "\n",
        "        # We will use context embeddings to get the most similar words\n",
        "        # Other strategies include: using target embeddings, mean embeddings after avaraging context/target\n",
        "        embedding_weights = self.model_with_embeddings.get_layer(\"context_embedding\").get_weights()[0]\n",
        "        normalized_embeddings = embedding_weights / np.sqrt(np.sum(embedding_weights**2, axis=1, keepdims=True))\n",
        "\n",
        "        # Get the embeddings corresponding to valid_term_ids\n",
        "        valid_embeddings = normalized_embeddings[self.valid_term_ids, :]\n",
        "\n",
        "        # Compute the similarity between valid_term_ids and all the embeddings\n",
        "        # V x d (d x D) => V x D\n",
        "        top_k = 5 # Top k items will be displayed\n",
        "        similarity = np.dot(valid_embeddings, normalized_embeddings.T)\n",
        "\n",
        "        # Invert similarity matrix to negative\n",
        "        # Ignore the first one because that would be the same word as the probe word\n",
        "        similarity_top_k = np.argsort(-similarity, axis=1)[:, 1: top_k+1]\n",
        "\n",
        "        # Print the output\n",
        "        for i, term_id in enumerate(valid_term_ids):\n",
        "\n",
        "            similar_word_str = ', '.join([self.tokenizer.index_word[j] for j in similarity_top_k[i, :] if j >= 1])\n",
        "            print(f\"{self.tokenizer.index_word[term_id]}: {similar_word_str}\")\n",
        "\n",
        "        print('\\n')"
      ],
      "metadata": {
        "id": "lfwbXMfblsaf"
      },
      "execution_count": 34,
      "outputs": []
    },
    {
      "cell_type": "markdown",
      "source": [
        " The evaluation will be done at the end of a training epoch, therefore, we will override the on_epoch_end() function. The function extracts the embeddings from the context embedding layer.\n",
        "\n",
        "\n",
        " Then the embeddings are normalized to have a unit length. Afterward, embeddings correspoding to validation words are extracted to a separate matrix called valid_embedding. Then the cosine distance is computed between the validation embeddings and all word embeddings which results ina [valid_size, vocabulary size] sized matrix. From this we can extract the top k similar words and display them throught print statement."
      ],
      "metadata": {
        "id": "p-yzfKX2o8MF"
      }
    },
    {
      "cell_type": "code",
      "source": [
        "skipgram_validation_callback = ValidationCallback(valid_term_ids, skip_gram_model, tokenizer)\n",
        "for ei in range(epochs):\n",
        "\n",
        "    print(f\"Epoch: {ei+1}/{epochs} started\")\n",
        "\n",
        "    news_skip_gram_gen = skip_gram_data_generator(\n",
        "        news_sequences, window_size, batch_size, negative_samples,\n",
        "        n_vocab\n",
        "    )\n",
        "\n",
        "    skip_gram_model.fit(\n",
        "        news_skip_gram_gen, epochs=1,\n",
        "        callbacks=skipgram_validation_callback,\n",
        "    )"
      ],
      "metadata": {
        "colab": {
          "base_uri": "https://localhost:8080/"
        },
        "id": "BirZvFczMAxc",
        "outputId": "33ed2ad5-a35f-46a1-b95c-054c0c39e06e"
      },
      "execution_count": 35,
      "outputs": [
        {
          "output_type": "stream",
          "name": "stdout",
          "text": [
            "Epoch: 1/5 started\n",
            "   2233/Unknown - 237s 106ms/step - loss: 0.5735election: because, coming, lords, let\n",
            "me: now, don't, seen, part\n",
            "with: mido, trevor, hold, off, include\n",
            "you: now, them, we, they, don't\n",
            "were: had, have, added, was, are\n",
            "win: lose, stay, chance, used\n",
            "those: believe, want, example, coming\n",
            "music: secured, appears, unveiling, 90\n",
            "also: fact, now, moment, work, do\n",
            "third: speak, use, lot, lords\n",
            "best: coming, sure, going, 90\n",
            "him: government, me, them, now\n",
            "too: seen, bit, expected, did\n",
            "into: compete, government, receive, website\n",
            "through: solution, kinds, technology, way\n",
            "mr: said, says, gordon, told, added\n",
            "stay: terms, failed, right, way\n",
            "concern: because, speak, gartner, 3gsm\n",
            "computers: home, came, coming, business\n",
            "domestic: mps, ability, failed, number\n",
            "positive: formal, needed, bank, end, compete\n",
            "serious: lse, find, paying, developer, way\n",
            "field: country, afford, rebuild, nominated\n",
            "states: mpc, cannabis, convention, seek\n",
            "giving: secured, end, keen, likes\n",
            "ability: way, failed, sort, terms\n",
            "deutsche: below, bwalya, decision, concept, 55\n",
            "certainly: fact, know, likely, learn\n",
            "hollywood: acceptable, site, worried, cope\n",
            "profit: risk, likes, arguments, enormous\n",
            "file: drawn, selected, risk, learn\n",
            "australia: compiled, 25, way, going\n",
            "\n",
            "\n",
            "2233/2233 [==============================] - 238s 106ms/step - loss: 0.5735\n",
            "Epoch: 2/5 started\n",
            "   2233/Unknown - 220s 99ms/step - loss: 0.4598election: attorney, concentrated, guests, merchandise, wsis\n",
            "me: always, probably, help, we'll, now\n",
            "with: bbc's, against, foods, courtney, across\n",
            "you: don't, we, didn't, probably, they\n",
            "were: have, was, are, had, am\n",
            "win: lose, angels, molyneux, cheesy, afghanistan\n",
            "those: listen, treated, need, cope, 'no\n",
            "music: toolkit, representation, youth, criticises, 14m\n",
            "also: already, never, she, actually, had\n",
            "third: second, fifth, fourth, 1930s, glittering\n",
            "best: winner, tradition, named, sidoli, stage\n",
            "him: me, always, them, rubbish, help\n",
            "too: better, enough, fitting, extremely, things\n",
            "into: commissioner's, through, cartagena, capability, massive\n",
            "through: arson, tightened, councillors, hurricane, unnecessary\n",
            "mr: tony, said, gordon, ian, jack\n",
            "stay: deported, listen, assume, happening, combine\n",
            "concern: patents, legality, benefits, portray, confirm\n",
            "computers: churchill, failure, aid', slender, obscured\n",
            "domestic: state's, ibge, execute, crying, transformation\n",
            "positive: plummet, chairmanship, annoyed, unite, boro\n",
            "serious: 1979, unveiled, warnings, uptake, bingham\n",
            "field: integrity, supportive, prosper, personalities, dein\n",
            "states: twenty, lifted, nato, pact, safer\n",
            "giving: worms, technorati, solved, 1930s, cutbacks\n",
            "ability: kinross, mann, raining, sorted\n",
            "deutsche: addition, august, forthcoming, upswing, meeting\n",
            "certainly: nothing, anything, still, see, sure\n",
            "hollywood: ignite, participated, focusing, dams, star's\n",
            "profit: risk, â£20m, mann, afghanistan, dominating\n",
            "file: ghost, selected, insight, gisbergen, vioxx\n",
            "australia: microphone, fuels, gentleman, components, avoiding\n",
            "\n",
            "\n",
            "2233/2233 [==============================] - 220s 99ms/step - loss: 0.4598\n",
            "Epoch: 3/5 started\n",
            "   2233/Unknown - 227s 102ms/step - loss: 0.4205election: attorney, november's, guests, atmosphere, guitarists\n",
            "me: we'll, always, probably, doesn't, rubbish\n",
            "with: bbc's, cow, between, one's, against\n",
            "you: we'll, we, don't, didn't, they\n",
            "were: are, have, was, am, haven't\n",
            "win: romania, addition, chance, leap, needing\n",
            "those: ericsson, adequate, guys, clearly, squeezed\n",
            "music: unlimited, subscriber, airplay, recorder, criticises\n",
            "also: already, previously, recently, i've, never\n",
            "third: second, fifth, fourth, sixth, crown\n",
            "best: quirky, asteroid, winner, category, sonaptic\n",
            "him: them, me, always, successfully, rubbish\n",
            "too: extremely, better, very, quite, enough\n",
            "into: through, fatal, re, driving, commissioner's\n",
            "through: quickest, fatal, solely, p2p, jobs'\n",
            "mr: tony, gordon, jack, david, said\n",
            "stay: stress, assume, umaga, components, rest\n",
            "concern: benefits, doubts, trying, others, spurlock\n",
            "computers: orderly, krasner, addresses, failure, branches\n",
            "domestic: state's, where, major, uk's, customer\n",
            "positive: rigorous, essentially, unite, plummet, annoyed\n",
            "serious: warnings, tories', oecd, catching, fray\n",
            "field: dein, ironically, integrity, amendment, dock\n",
            "states: manchester, successive, twenty, kingdom, dundee\n",
            "giving: worms, unsettling, sabotage, influential, divorced\n",
            "ability: obscured, dominance, shaping, lessening, zones\n",
            "deutsche: forthcoming, speaks, failure, accounts, addition\n",
            "certainly: nothing, sure, you're, definitely, anything\n",
            "hollywood: underwood, garden, curry, provoked, broad\n",
            "profit: exploded, conflict, arriving, margins, zimbabwe\n",
            "file: copyrighted, deadly, gisbergen, nhtcu, severn\n",
            "australia: boot, deportation, hoped, toured, patterson\n",
            "\n",
            "\n",
            "2233/2233 [==============================] - 227s 102ms/step - loss: 0.4205\n",
            "Epoch: 4/5 started\n",
            "   2233/Unknown - 220s 99ms/step - loss: 0.3910election: attorney, november's, month's, concentrated, elections\n",
            "me: probably, we'll, anything, rubbish, somebody\n",
            "with: cow, constructive, uphill, bbc's, visuals\n",
            "you: i'll, we'll, didn't, probably, don't\n",
            "were: are, have, ericsson, being, those\n",
            "win: leap, greece, diploma, chance, stead\n",
            "those: ericsson, euthanasia, toward, supported, primarily\n",
            "music: cameras, unlimited, youngest, subscriber, terrestrial\n",
            "also: already, consistently, previously, subsequently, reportedly\n",
            "third: fourth, second, fifth, sixth, bye\n",
            "best: quirky, category, asteroid, gong, nomination\n",
            "him: me, them, successfully, always, rubbish\n",
            "too: very, enough, extremely, better, quite\n",
            "into: re, through, onto, solely, household\n",
            "through: solely, josep, quickest, enthusiasts, ahead\n",
            "mr: tony, feroz, jack, gordon, viktor\n",
            "stay: going, trigger, convinced, ok, questionnaires\n",
            "concern: benefits, doubts, introducing, wippit, lots\n",
            "computers: issuing, sonaptic, lcd, contact, independently\n",
            "domestic: state's, soaring, major, although, where\n",
            "positive: rigorous, means, strengthen, avoid, robinson's\n",
            "serious: shocking, symbian, warnings, smarter, considerable\n",
            "field: integrity, upturn, immediacy, bow, personalities\n",
            "states: manchester, dundee, ties, kingdom, nations'\n",
            "giving: worms, alarming, disable, highlight, rarity\n",
            "ability: feedback, dominance, aac, lessening, supervolcano\n",
            "deutsche: austria, austria's, forthcoming, accounts, upgrade\n",
            "certainly: definitely, nothing, anything, sure, i'll\n",
            "hollywood: spanish, movie, garden, probes, category\n",
            "profit: conflict, exploded, margins, clumsy, invitation\n",
            "file: copyrighted, steps, deadly, selected, evaluate\n",
            "australia: toured, sweden, mauresmo, jordanian, survived\n",
            "\n",
            "\n",
            "2233/2233 [==============================] - 220s 99ms/step - loss: 0.3910\n",
            "Epoch: 5/5 started\n",
            "   2233/Unknown - 221s 99ms/step - loss: 0.3652election: november's, month's, concentrated, labour's, prominent\n",
            "me: somebody, him, rubbish, definitely, we'll\n",
            "with: constructive, uphill, bbc's, visuals, cow\n",
            "you: i'll, we'll, tonight, couldn't, probably\n",
            "were: are, weren't, uniquely, have, am\n",
            "win: leap, greece, defeats, clinch, victories\n",
            "those: toward, euthanasia, offside, mori, keen\n",
            "music: unlimited, cameras, legitimate, assistants, subscriber\n",
            "also: subsequently, repeatedly, previously, consistently, already\n",
            "third: fourth, second, fifth, bye, sixth\n",
            "best: asteroid, category, quirky, gong, artist\n",
            "him: me, them, successfully, rubbish, scammers\n",
            "too: very, enough, extremely, quite, better\n",
            "into: onto, re, through, fatal, hutton\n",
            "through: solely, onto, ahead, quickest, awol\n",
            "mr: feroz, jack, tony, viktor, gordon\n",
            "stay: trigger, learn, rely, going, ok\n",
            "concern: doubts, benefits, drag, dimension, topic\n",
            "computers: lcd, white's, interference, sonaptic, valve\n",
            "domestic: soaring, state's, creates, cultural, signalled\n",
            "positive: means, avoid, rigorous, strengthen, dangerous\n",
            "serious: reasonable, bigger, effective, eu's, symbian\n",
            "field: gudjohnsen's, foolish, nolan, ronaldo's, eyre\n",
            "states: manchester, dundee, kingdom, ties, tigers\n",
            "giving: highlight, exceeding, imaging, hauled, forgot\n",
            "ability: feedback, supervolcano, zones, cates, dictate\n",
            "deutsche: austria's, austria, energis, upgrade, forthcoming\n",
            "certainly: definitely, i'll, anything, really, we'll\n",
            "hollywood: spanish, movie, probes, category, film\n",
            "profit: respectable, margins, overall, tankan, vocal\n",
            "file: copyrighted, leaks, copying, photos, explode\n",
            "australia: toured, sweden, hoped, marley, burnley\n",
            "\n",
            "\n",
            "2233/2233 [==============================] - 221s 99ms/step - loss: 0.3652\n"
          ]
        }
      ]
    },
    {
      "cell_type": "markdown",
      "source": [
        "We are simply defining an instance of the callback first. Next, we train the model for several epochs. In each epoch we generate skip gram data, and call skip_gram_model.fit() on the data"
      ],
      "metadata": {
        "id": "tSO_iRavM86u"
      }
    }
  ]
}