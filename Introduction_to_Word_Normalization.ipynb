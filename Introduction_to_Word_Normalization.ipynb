{
  "nbformat": 4,
  "nbformat_minor": 0,
  "metadata": {
    "colab": {
      "provenance": []
    },
    "kernelspec": {
      "name": "python3",
      "display_name": "Python 3"
    },
    "language_info": {
      "name": "python"
    }
  },
  "cells": [
    {
      "cell_type": "markdown",
      "source": [
        "Word normalization is also known as word standardization is a preprocessing step in Natural language processing (NLP) which aims to transform words into a common, canonical or base form. The goal of word nomalization is to reduce the variations of words with similar meanings to their standard representation enabling more effective and consistent analysis of text data.\n",
        "\n",
        "Word normalization helps to address several challenges in NLP including:\n",
        "\n",
        "\n",
        "*   Variations in word forms: In natural lanauge , words can appear in various froms due to inflections, conjugations and pluralizations. For example, \"run\", \"running\",\"ran\", and \"runs\" are different forms of the same word\n",
        "\n",
        "*   Different Case Usage: words can be written in various cases, such as uppercase, lowercase or title case leading to multiple representations of the same word. For example \"NLP\", \"nlp\", and \"Nlp\" may refer to the smae concept\n",
        "\n",
        "*   Spelling Variations: In unstructed text data, spelling variations and typos are common which can hinder accurate languge processing and text analysis\n",
        "\n",
        "There are several techniques for word normalization in NLP:\n",
        "\n",
        "\n",
        "\n",
        "*   Lowercasing: converting all characters in a word to lowercase. This ensure that the same word in various cases is represented uniformly. For example, \"NLP\" and \"nlp\" are both converted to \"nlp\"\n",
        "\n",
        "*   stemming: Reducing words to their base or root from by removing prefixes or suffixes. For instance, stemming the words \"running\",\"runs\" and \"ran\" would result in the common base form \"run\"\n",
        "*   Lemmatization: Similar to stemming, lemmatization also reduce words to their base form but it does so based on the word's dictionary form or lemma, for example lemmatizing \"ran\" would yeild \"run\" preserving the actual word found in dictionary\n",
        "\n",
        "\n",
        "*   Spell correction: Correcting common spelling errors and typos to standardize words and improve text consistency\n",
        "\n",
        "\n",
        "*   Removing stepwords: Removing coomon words (stopwords) like \"the\", \"and\", \"is\", etc which do not carry significant meaning in the context of language processing.\n",
        "\n",
        "\n",
        "\n",
        "\n"
      ],
      "metadata": {
        "id": "9woipyF3VH7A"
      }
    }
  ]
}