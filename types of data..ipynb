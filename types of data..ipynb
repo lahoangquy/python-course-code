{
  "nbformat": 4,
  "nbformat_minor": 0,
  "metadata": {
    "colab": {
      "provenance": []
    },
    "kernelspec": {
      "name": "python3",
      "display_name": "Python 3"
    },
    "language_info": {
      "name": "python"
    }
  },
  "cells": [
    {
      "cell_type": "markdown",
      "source": [
        "There are 3 main types of categorires.\n",
        "\n",
        "1) Structured Data: This is the most organized form of data. It is represented in tabular formats such as Excel files and Comma-Separated Value (CSV) files.\n",
        "\n",
        "2) Semi-Structured Data: This type of data is not presented in a tabular structure, but it can be represented in a tabular format after transformation. Here, information is usually stored between tags following a definite pattern. XML and HTML files can be referred to as semi-structured data.\n",
        "\n",
        "3)Unstructured Data: This type of data is the most difficult to deal with. Machine learning algorithms would find it difficult to comprehend unstructured data without any loss of information. Text corpora and images are examples of unstructured data.\n",
        "\n",
        "Categorization of Data Based on Content:\n",
        "\n",
        "•\tText Data: This refers to text corpora consisting of written sentences. This type of data can only be read. An example would be the text corpus of a book.\n",
        "•\tImage Data: This refers to pictures that are used to communicate messages. This type of data can only be seen.\n",
        "•\tAudio Data: This refers to recordings of someone's voice, music, and so on. This type of data can only be heard.\n",
        "•\tVideo Data: A continuous series of images coupled with audio forms a video. This type of data can be seen as well as heard.\n",
        "\n"
      ],
      "metadata": {
        "id": "t4xawhC2O-Lc"
      }
    },
    {
      "cell_type": "code",
      "execution_count": null,
      "metadata": {
        "id": "oo25H8poOeB6"
      },
      "outputs": [],
      "source": []
    }
  ]
}