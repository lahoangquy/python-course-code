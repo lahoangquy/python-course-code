{
  "nbformat": 4,
  "nbformat_minor": 0,
  "metadata": {
    "colab": {
      "provenance": []
    },
    "kernelspec": {
      "name": "python3",
      "display_name": "Python 3"
    },
    "language_info": {
      "name": "python"
    }
  },
  "cells": [
    {
      "cell_type": "markdown",
      "source": [
        "Lemmatization is a word normalization technique used to convert words into their base or dictionary form known as the lemma. The purpose of lemmatization is to reduce inflected or derived words to their cononical form, which is an actual word found in the language's vocabulary. Lemmatization helps to group words with the smae root meaning together, enabling more accurate and meaningful language analysis.\n",
        "\n",
        "Unlike stemming, which simply cuts off prefixes or suffixes to obtain a word's base form, lemmatization uses a lexicon or dictionary to map words to their correspoiding lemmas. This ensures that the resulting base form is a valid word in the language and retians its acutal meaning.\n",
        "\n",
        "Word: running Lemma : \"run\"\n",
        "Word: jumps Lemma : \"jump\"\n",
        "Word: fishes Lemma : \"fish\"\n",
        "Word: happiness Lemma : \"happiness\"\n",
        "Word: better Lemma : \"good\"\n",
        "\n",
        "As can be seen from the above examples, lemmatization produces meaningful adn valid base forms, making it more accurate and contextually appropriate than stemming. By converting words to their lemmas, lemmatization ensures that variations of a word such as plural forms, verb tenses, or adjectival forms are correctly mapped to their common base form.\n",
        "\n",
        "\n",
        "Lemmatization is especially useful in NLP tasks taht require a deeper understanding of the langauge such as text classification , sentiment analysis, and langauge modeling. It also helps to reduce the vocabulary size and improve the efficientcy of lanauge processing tasks, similar to stemming. However, lemmatization can be computationally more expensive than stemming as it requires access to a lexicon or dictionary to perform the mapping acucrately. Despite this, lemmatization is a valuable techniqe for mainting the integrity and meaningfullness of words in NLP applications."
      ],
      "metadata": {
        "id": "UeIKhZnsuE58"
      }
    }
  ]
}