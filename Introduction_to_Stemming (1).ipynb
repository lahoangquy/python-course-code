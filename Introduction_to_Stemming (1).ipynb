{
  "nbformat": 4,
  "nbformat_minor": 0,
  "metadata": {
    "colab": {
      "provenance": []
    },
    "kernelspec": {
      "name": "python3",
      "display_name": "Python 3"
    },
    "language_info": {
      "name": "python"
    }
  },
  "cells": [
    {
      "cell_type": "markdown",
      "source": [
        "In Natural Language Processing (NLP), stemming is a word normalization technique used to reduce  words to their base or root form, known as the stem. The purpose of stemming is to remove prefixes, suffixes and inflections from words so that words with similar meanings can be grouped together under their common base form. This process allows NLP models to treat various froms of the same word as a single entity, simplifying language processing and analysis.\n",
        "\n",
        "Stemming is particularly useful when working with large volumns of text data as it helps to reduce the vocabulary sie and improve the efficiency of language procesisng tasnks. By converting words to ehtir root forms, stemming also helps in information retrieval and text search as queries cna match words in their base form despite variations in ethir inflections or conjugations.\n",
        "\n",
        "\n",
        "Some examples of stemming using the porter stemming algorithm which is one of the popular stemming algorithms in NLP\n",
        "\n",
        "word: running, stem :\"run\"\n",
        "word: jumps, stem :\"jump\"\n",
        "word: fishes, stem :\"fish\"\n",
        "word: happiness, stem :\"happi\"\n",
        "word: better, stem :\"better\"\n",
        "\n",
        "While stemming can effectively reduce words to their base forms, it can sometimes result in over-stemming or under-stemming. Over-stemming occurs when 2 words with various meanings are stemmed to the same form, while under stemming happens when words with the smae root form are not properly stemed. Despite these limitations, stemming remains a useful and widely used technique in NLP for various applications.\n",
        "\n",
        "\n",
        "There are 2 most common algorithms/methods employed for stemming include the Porter stemmer, and snowball stemmer. The Porter stemmer supports the English language, whereas Snowball stemer which is an improvement on the Porter stemmer supports multiple languages."
      ],
      "metadata": {
        "id": "4iKy7eU_aFDb"
      }
    },
    {
      "cell_type": "code",
      "execution_count": 1,
      "metadata": {
        "id": "jGmIbScVZ6qu",
        "colab": {
          "base_uri": "https://localhost:8080/"
        },
        "outputId": "c98587f8-4dd1-4992-8720-9a13d02b08f5"
      },
      "outputs": [
        {
          "output_type": "stream",
          "name": "stdout",
          "text": [
            "('arabic', 'danish', 'dutch', 'english', 'finnish', 'french', 'german', 'hungarian', 'italian', 'norwegian', 'porter', 'portuguese', 'romanian', 'russian', 'spanish', 'swedish')\n"
          ]
        }
      ],
      "source": [
        "from nltk.stem.snowball import SnowballStemmer\n",
        "print(SnowballStemmer.languages)"
      ]
    },
    {
      "cell_type": "markdown",
      "source": [
        "One thing to note from the above code is that Porter stemmer is one the the offerings provided by the Snowball stemmer. The Porter stemmer works only with strings where as the Snowall stemmer works with both strings and Unicode data. The Snowball stemmer also allows the option to ignore stopwrds as an inherent functionality"
      ],
      "metadata": {
        "id": "S26iilC0mgYF"
      }
    },
    {
      "cell_type": "code",
      "source": [
        "plurals = ['caresses', 'flies', 'dies', 'mules', 'died', 'agreed', 'owned', 'humbled', 'sized', 'meeting', 'stating',\n",
        "'siezing', 'itemization', 'traditional', 'reference', 'colonizer', 'plotted', 'having', 'generously']\n",
        "\n",
        "from nltk.stem.porter import PorterStemmer\n",
        "stemmer = PorterStemmer()\n",
        "singles = [stemmer.stem(plural) for plural in plurals]\n",
        "print(' '.join(singles))"
      ],
      "metadata": {
        "colab": {
          "base_uri": "https://localhost:8080/"
        },
        "id": "Cu-F1OFVmfOk",
        "outputId": "966e0937-a65d-4a9f-dce2-cff64a4b0f8a"
      },
      "execution_count": 3,
      "outputs": [
        {
          "output_type": "stream",
          "name": "stdout",
          "text": [
            "caress fli die mule die agre own humbl size meet state siez item tradit refer colon plot have gener\n"
          ]
        }
      ]
    },
    {
      "cell_type": "code",
      "source": [
        "# it is a time ti implement the Snowall stemmer\n",
        "stemmer2 = SnowballStemmer(language='english')\n",
        "singles = [stemmer2.stem(plural) for plural in plurals]\n",
        "print(' '.join(singles))"
      ],
      "metadata": {
        "colab": {
          "base_uri": "https://localhost:8080/"
        },
        "id": "AoxPh5kooAsh",
        "outputId": "6678148c-39df-4166-e231-85f2e913e6a0"
      },
      "execution_count": 4,
      "outputs": [
        {
          "output_type": "stream",
          "name": "stdout",
          "text": [
            "caress fli die mule die agre own humbl size meet state siez item tradit refer colon plot have generous\n"
          ]
        }
      ]
    },
    {
      "cell_type": "markdown",
      "source": [
        "As can be seen in the above results, the Snowball stemmer requires the specification of a language parameter. In most cases, its output is similar to that of the Porter stemmer, except for generously, where the Porter stemmer outputs gener and the Snowball stemmer outputs generous. The Snowall stemmer makes minor changes to the Porter algorithm achieving improvements in some cases"
      ],
      "metadata": {
        "id": "9Gxae54PoXg_"
      }
    }
  ]
}