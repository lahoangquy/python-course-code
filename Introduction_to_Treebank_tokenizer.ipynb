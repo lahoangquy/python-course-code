{
  "nbformat": 4,
  "nbformat_minor": 0,
  "metadata": {
    "colab": {
      "provenance": []
    },
    "kernelspec": {
      "name": "python3",
      "display_name": "Python 3"
    },
    "language_info": {
      "name": "python"
    }
  },
  "cells": [
    {
      "cell_type": "markdown",
      "source": [
        "The Treebank tokenizer is a specific tokenizer used in Natural language Processing (NLP) that follows the conventions of the Penn Treebank. It is commonly used for toenization in various NLP tasks, especially in the context of syntactic analysis and part-of-speech tagging\n",
        "\n",
        "\n",
        "The treebank tokenizer is designed to split text into individual toekns (words, or punctuation) based on the grammatical conventions used in the Penn Treebank, which is widely used corpus of English langauge ext annotated with syntactic information. This tokenizer implements a set of rules to handle various cases of tokenization taking into account punctuation, hyphenated words and other linguistic complexities\n",
        "\n",
        "\n",
        "Key features of the Treebank tokenizer:\n",
        "\n",
        "\n",
        "\n",
        "*   handling Punctuation: The treebank tokenizer treats punctuation marks as separate tokens. For example, \"hello, NLP\" would be tokenized into [\"Hello\", \",\", \"NLP\"]\n",
        "\n",
        "*   Contractions: Contractions kike don't, can't and won't will be treated as seperate tokens. For instance, \"I don't like it\" would be tokenized into [\"I\",\"do\",\"n't\",\"like\",\"it\"]\n",
        "\n",
        "*   Hyphenated words are considered as individual tokens, for example, \"well-known\" would be tokenized as [\"well-known\"]\n",
        "*   Special cases: The Treebank tokenizer addresses certain special cases such as handling parenthesis and brackets as seperate tokens.\n",
        "\n",
        "\n",
        "\n",
        "\n"
      ],
      "metadata": {
        "id": "0HuC-chZ_67r"
      }
    },
    {
      "cell_type": "code",
      "execution_count": null,
      "metadata": {
        "id": "mqRsOfnm_2cL"
      },
      "outputs": [],
      "source": []
    }
  ]
}