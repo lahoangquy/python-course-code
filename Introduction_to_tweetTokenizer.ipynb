{
  "nbformat": 4,
  "nbformat_minor": 0,
  "metadata": {
    "colab": {
      "provenance": []
    },
    "kernelspec": {
      "name": "python3",
      "display_name": "Python 3"
    },
    "language_info": {
      "name": "python"
    }
  },
  "cells": [
    {
      "cell_type": "markdown",
      "source": [
        "The tweetTokenizer is a specialized tokenizer used in Natural Language processing (NLP) to handle text data from social media platforms, particularly tweets from Twitter. It is a part of the Natural Lanugage Toolkits (NLTK) library in Python and is designed to address the unique characteristics and chllenges present in tweets such as hastags, mentions, emoticons and internet slang.\n",
        "\n",
        "Tweets often contain non-standard langauge, abbreviations and specific twitter-related elements making traditional tokenizers less effective for such data. The TweetTokenizer is specifically tailored to capture these characteristics and provide more accurate tokenizations for tweets.\n",
        "\n",
        "\n",
        "There are several key features of TweetTokenizer:\n",
        "\n",
        "\n",
        "\n",
        "*   Handling Emoticons: The TweetTokenizer is capable of recognizing and preserving emoticons which are commonly used in tweets to express emotions. For example it can tokenize \":)\", \":-)\" or \"XD\" as seperate tokens.\n",
        "\n",
        "*   Retaining Hashtags: Hashtags (#) are prevalent in tweets to categorize or tag content. The tokenizer treats hastags as individual toens to maintain their significance. For example, \"#NLP\" would be tokenized as [\"#NLP\"]\n",
        "\n",
        "*   Capturing mentions: Mentions (@) are used to reference other twitter uses in tweets . The tokenizer preserves mentions as seperate tokens. For example \"@username\" would be tokenized as [\"@username\"]\n",
        "*   Addressing Internet Slang: The tweettokenizer can handle internet slang and abbreviations often used in tweets ensuring that they are properly tokenized.\n",
        "\n"
      ],
      "metadata": {
        "id": "jx-TE0o9_4IZ"
      }
    },
    {
      "cell_type": "code",
      "execution_count": null,
      "metadata": {
        "id": "LmFYAphp_VoZ"
      },
      "outputs": [],
      "source": []
    }
  ]
}