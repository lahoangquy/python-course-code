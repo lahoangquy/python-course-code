{
  "nbformat": 4,
  "nbformat_minor": 0,
  "metadata": {
    "colab": {
      "provenance": []
    },
    "kernelspec": {
      "name": "python3",
      "display_name": "Python 3"
    },
    "language_info": {
      "name": "python"
    }
  },
  "cells": [
    {
      "cell_type": "markdown",
      "source": [
        "Hierarchical clustering is a method used in machine learning and data mining to group similar data points into clusters based on their characteristics or features. Unlike flat clustering algorithms, which produce a single partition of the data, hierarchical clustering creates a tree-like hierarchical structure of clusters.\n",
        "\n",
        "In hierarchical clustering, the process starts by treating each data point as its own cluster. Then, pairs of clusters are iteratively merged together based on their similarity until all data points belong to a single cluster or until a specified stopping criterion is met.\n",
        "\n",
        "There are two main types of hierarchical clustering:\n",
        "\n",
        "Agglomerative Hierarchical Clustering: This is the most common type of hierarchical clustering. It begins by considering each data point as a separate cluster and then iteratively merges the closest pairs of clusters based on a distance metric until all data points belong to a single cluster. The merging process continues until a stopping criterion, such as a predefined number of clusters or a threshold distance, is reached.\n",
        "\n",
        "Divisive Hierarchical Clustering: In divisive hierarchical clustering, the process starts with all data points belonging to a single cluster, and then it recursively divides the clusters into smaller clusters based on some dissimilarity criterion until each data point is in its own cluster. Divisive hierarchical clustering is less common than agglomerative clustering and can be computationally expensive, especially for large datasets.\n",
        "\n",
        "Hierarchical clustering produces a dendrogram, which is a tree-like diagram that illustrates the merging process and shows the hierarchical relationships between clusters. The dendrogram can be cut at different levels to obtain different numbers of clusters, allowing users to explore the data at different granularities.\n",
        "\n",
        "Hierarchical clustering does not require specifying the number of clusters beforehand, making it suitable for exploratory analysis and visualizing the structure of the data. However, it can be computationally expensive for large datasets, and the choice of distance metric and linkage criteria can significantly affect the resulting clusters.\n",
        "\n",
        "Overall, hierarchical clustering is a flexible and powerful technique for grouping similar data points into clusters and is widely used in various fields, including biology, image analysis, and social sciences."
      ],
      "metadata": {
        "id": "6JCJnnnsA0NS"
      }
    },
    {
      "cell_type": "code",
      "execution_count": null,
      "metadata": {
        "id": "MmFw0LM9-CXw"
      },
      "outputs": [],
      "source": []
    }
  ]
}