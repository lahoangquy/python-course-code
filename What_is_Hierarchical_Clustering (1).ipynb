{
  "nbformat": 4,
  "nbformat_minor": 0,
  "metadata": {
    "colab": {
      "provenance": []
    },
    "kernelspec": {
      "name": "python3",
      "display_name": "Python 3"
    },
    "language_info": {
      "name": "python"
    }
  },
  "cells": [
    {
      "cell_type": "markdown",
      "source": [
        "Hierarchical clustering is a method used in machine learning and data mining to group similar data points into clusters based on their characteristics or features. Unlike flat clustering algorithms, which produce a single partition of the data, hierarchical clustering creates a tree-like hierarchical structure of clusters.\n",
        "\n",
        "In hierarchical clustering, the process starts by treating each data point as its own cluster. Then, pairs of clusters are iteratively merged together based on their similarity until all data points belong to a single cluster or until a specified stopping criterion is met.\n",
        "\n",
        "There are two main types of hierarchical clustering:\n",
        "\n",
        "Agglomerative Hierarchical Clustering: This is the most common type of hierarchical clustering. It begins by considering each data point as a separate cluster and then iteratively merges the closest pairs of clusters based on a distance metric until all data points belong to a single cluster. The merging process continues until a stopping criterion, such as a predefined number of clusters or a threshold distance, is reached.\n",
        "\n",
        "Divisive Hierarchical Clustering: In divisive hierarchical clustering, the process starts with all data points belonging to a single cluster, and then it recursively divides the clusters into smaller clusters based on some dissimilarity criterion until each data point is in its own cluster. Divisive hierarchical clustering is less common than agglomerative clustering and can be computationally expensive, especially for large datasets.\n",
        "\n",
        "Hierarchical clustering produces a dendrogram, which is a tree-like diagram that illustrates the merging process and shows the hierarchical relationships between clusters. The dendrogram can be cut at different levels to obtain different numbers of clusters, allowing users to explore the data at different granularities.\n",
        "\n",
        "Hierarchical clustering does not require specifying the number of clusters beforehand, making it suitable for exploratory analysis and visualizing the structure of the data. However, it can be computationally expensive for large datasets, and the choice of distance metric and linkage criteria can significantly affect the resulting clusters.\n",
        "\n",
        "Overall, hierarchical clustering is a flexible and powerful technique for grouping similar data points into clusters and is widely used in various fields, including biology, image analysis, and social sciences."
      ],
      "metadata": {
        "id": "6JCJnnnsA0NS"
      }
    },
    {
      "cell_type": "code",
      "execution_count": 1,
      "metadata": {
        "id": "MmFw0LM9-CXw"
      },
      "outputs": [],
      "source": [
        "from sklearn.datasets import fetch_20newsgroups\n",
        "from scipy.cluster.hierarchy import ward, dendrogram\n",
        "import matplotlib as mpl\n",
        "from scipy.cluster.hierarchy import fcluster\n",
        "from sklearn.metrics.pairwise import cosine_similarity\n",
        "import pandas as pd\n",
        "import numpy as np\n",
        "import matplotlib.pyplot as plt\n",
        "%matplotlib inline\n",
        "import re\n",
        "import string\n",
        "from nltk import word_tokenize\n",
        "from nltk.corpus import stopwords\n",
        "from nltk.stem import WordNetLemmatizer\n",
        "from sklearn.feature_extraction.text import TfidfVectorizer\n",
        "from collections import Counter\n",
        "from pylab import *\n",
        "import nltk\n",
        "import warnings\n",
        "warnings.filterwarnings('ignore')"
      ]
    },
    {
      "cell_type": "markdown",
      "source": [
        "1. `fetch_20newsgroups` is a function from sklearn.datasets to load the '20 newsgroups' text dataset.\n",
        "\n",
        "2. It uses hierarchical clustering (`ward`, `dendrogram` and `fcluster` from scipy.cluster.hierarchy), which is a method of cluster analysis which seeks to build a hierarchy of clusters.\n",
        "\n",
        "3. For measuring the similarity between documents, it uses `cosine_similarity` from sklearn.metrics.pairwise.\n",
        "\n",
        "4. It uses `TfidfVectorizer` from sklearn.feature_extraction.text to convert the raw documents into a matrix of TF-IDF (Term Frequency-Inverse Document Frequency) features.\n",
        "\n",
        "5. For text preprocessing, it uses `WordNetLemmatizer` to lemmatize words (bring them to their base form), `stopwords` to remove common words such as 'the', 'is', 'in', etc, and `word_tokenize` to split text into words.\n",
        "\n",
        "6. The Counter class from collections module is used to count the frequency of elements.\n",
        "\n",
        "7. The matplotlib, pylab, and numpy libraries are used for plotting and data manipulation.\n",
        "\n",
        "8. It uses `warnings.filterwarnings(\"ignore\")` to make Python ignore warnings.\n",
        "\n",
        "9. The `%matplotlib inline` is a magic function in IPython, and this line helps to show your plots in the notebook itself since plots or graphs are rendered in the cell output."
      ],
      "metadata": {
        "id": "zF9zZ83xDZ8T"
      }
    },
    {
      "cell_type": "code",
      "source": [
        "# Downloading a list of stop words and the Wordnet corpus from nltk\n",
        "\n",
        "nltk.download('stopwords')\n",
        "stop_words=stopwords.words('english')\n",
        "stop_words=stop_words+list(string.printable)\n",
        "nltk.download('wordnet')\n",
        "lemmatizer=WordNetLemmatizer()"
      ],
      "metadata": {
        "colab": {
          "base_uri": "https://localhost:8080/"
        },
        "id": "E12x0T8SDwbd",
        "outputId": "f4e9acde-bec5-4b15-f63c-12d234f845d6"
      },
      "execution_count": 2,
      "outputs": [
        {
          "output_type": "stream",
          "name": "stderr",
          "text": [
            "[nltk_data] Downloading package stopwords to /root/nltk_data...\n",
            "[nltk_data]   Unzipping corpora/stopwords.zip.\n",
            "[nltk_data] Downloading package wordnet to /root/nltk_data...\n"
          ]
        }
      ]
    },
    {
      "cell_type": "markdown",
      "source": [
        "1. `nltk.download('stopwords')` will download the NLTK package 'stopwords'. Stopwords are words that you want to ignore, so you filter them out when you’re processing natural language text. Standard stop words in English might be 'is', 'and', 'the', etc.\n",
        "\n",
        "2. `stop_words=stopwords.words('english')` will declare a variable 'stop_words' that is a list of stopwords in English which is available after you've downloaded the stopwords package.\n",
        "\n",
        "3. `stop_words=stop_words+list(string.printable)` will extend the `stop_words` list by adding all printable characters, which includes digits, ascii_letters (which includes lowercase and uppercase letters), punctuation, and whitespace.\n",
        "\n",
        "4. `nltk.download('wordnet')` will download the 'wordnet' NLTK package. WordNet is a semantic graph for the English language. It groups English words into sets of synonyms called synsets, provides short definitions, and use terms that relate to those synsets.\n",
        "\n",
        "5. `lemmatizer=WordNetLemmatizer()` will create an instance of the WordNetLemmatizer class. Lemmatizing is a process of breaking words into their lemmatized base form. For example, 'running' will be lemmatized to 'run', 'better' might be lemmatized to 'good', etc. Packaging this functionality in an instance of a class allows the functionality to be used repeatedly and neatly."
      ],
      "metadata": {
        "id": "NLH59b_BFGu5"
      }
    },
    {
      "cell_type": "code",
      "source": [
        "# We do need to specify the categories of news articles we want to fetch by\n",
        "\n",
        "categories= ['misc.forsale', 'sci.electronics', 'talk.religion.misc']"
      ],
      "metadata": {
        "id": "AcEHkESLFdXF"
      },
      "execution_count": 3,
      "outputs": []
    },
    {
      "cell_type": "code",
      "source": [
        "# fetch the dataset\n",
        "news_data = fetch_20newsgroups(subset='train', categories=categories,shuffle=True, random_state=42, download_if_missing=True)"
      ],
      "metadata": {
        "id": "hN4wRsQWFrUp"
      },
      "execution_count": 4,
      "outputs": []
    },
    {
      "cell_type": "markdown",
      "source": [
        "The above code is fetching a training subset of the 20 Newsgroups dataset. The arguments passed to this function determine what subset of the dataset will be returned:-`subset='train'` means that the returned dataset will be the training subset from the 20 Newsgroups dataset. Other possible values for this parameter are 'test' for the testing subset and 'all' for both the training and testing subsets.\n",
        "\n",
        "- `categories` is a list of the categories of news articles to be included in the returned dataset. The specific value of this parameter is not given in the above.\n",
        "\n",
        "- `shuffle=True` means that the returned dataset will be shuffled. Shuffling a dataset is often useful in machine learning to ensure that the order of the data does not affect the performance of the model.\n",
        "\n",
        "- `random_state=42` sets the seed for the random number generator used to shuffle the dataset. Using this parameter ensures that the same order of shuffling will be used each time the code is run, which is useful for consistent results in testing.\n",
        "\n",
        "- `download_if_missing=True` means that the dataset will be downloaded if it is not found in the sklearn data directory. If this parameter is set to False and the dataset is not found, a `FileNotFoundError` will be raised.\n",
        "\n"
      ],
      "metadata": {
        "id": "-oIoLvxiGuWW"
      }
    },
    {
      "cell_type": "code",
      "source": [
        "# To view the data of the fetched content\n",
        "news_data['data'][:5]"
      ],
      "metadata": {
        "colab": {
          "base_uri": "https://localhost:8080/"
        },
        "id": "SZlZHFiWItfY",
        "outputId": "09340d2c-796f-4666-fa7c-25c28a7cc110"
      },
      "execution_count": 5,
      "outputs": [
        {
          "output_type": "execute_result",
          "data": {
            "text/plain": [
              "['From: Steve@Busop.cit.wayne.edu (Steve Teolis)\\nSubject: Re: *** TurboGrafx System For SALE ***\\nOrganization: Wayne State University\\nLines: 38\\nDistribution: na\\nNNTP-Posting-Host: 141.217.75.24\\n\\n>TurboGrafx-16 Base Unit (works like new) with:\\n>       1 Controller\\n>       AC Adapter\\n>       Antenna hookup\\n>     * Games:\\n>         Kieth Courage\\n>         Victory Run\\n>         Fantasy Zone\\n>         Military Madness\\n>         Battle Royal\\n>         Legendary Axe\\n>         Blazing Lasers\\n>         Bloody Wolf\\n>\\n>  --------------------------------------\\n>* Will sell games separatley at $25 each\\n>  --------------------------------------\\n\\nYour kidding, $210.00, man o man, you can buy the system new for $49.00 at \\nElectronic Boutique and those games are only about $15 - $20.00 brand new.  \\nMaybe you should think about that price again if you REALLY need the money.\\n\\n\\n\\n\\n\\n\\n                        \\n                        \\n                        -=-=-=-=-=-=-=-=-=-=-=-=-=-=-\\n                            Wayne State University      \\n                                                       \\n                                Steve Teolis            \\n                             6050 Cass Ave. # 238       \\n                              Detroit, MI  48202        \\n                                                        \\n                           Steve@Busop.cit.wayne.edu    \\n                        -=-=-=-=-=-=-=-=-=-=-=-=-=-=-=-\\n',\n",
              " 'From: jks2x@holmes.acc.Virginia.EDU (Jason K. Schechner)\\nSubject: Foot switches for sale\\nOrganization: University of Virginia\\nLines: 11\\n\\n\\n\\tI have 2 foot switches for sale.  They\\'re great for guitar\\namps, and keyboards.  Each is about 1\" in diameter with a 6\\' (or so)\\ncable.  I\\'d like $15 for both, but make me an offer, who knows...\\n\\n-Jason\\n-- \\nSettle down, raise a family join the PTA, \\nbuy some sensible shoes, and a Chevrolet\\nAnd party \\'till you\\'re broke and they drag you away. It\\'s ok.\\n\\t\\t\\t\\t\\tAl Yankovic\\n',\n",
              " \"From: wayne@uva386.schools.virginia.edu (Tony Wayne)\\nSubject: Pink Noise\\nOrganization: Virginia's Public Education Network (Charlottesville)\\nLines: 4\\n\\nWhat is Pink noise and how is it used in sound experiments?\\n-tony\\n wayne@uva386.schools.virginia.edu\\n\\n\",\n",
              " \"From: lihan@ccwf.cc.utexas.edu (Bruce G. Bostwick)\\nSubject: Re: Membrane keypad with custom legend.\\nOrganization: The University of Texas at Austin, Austin TX\\nLines: 21\\nDistribution: usa\\nNNTP-Posting-Host: doc.cc.utexas.edu\\n\\nIn article <1993Apr21.125530.18387@texhrc.uucp> pyeatt@Texaco.com (Larry D. Pyeatt) writes:\\n>I had a catalog with membrane keypads, but I dunno what\\n>happened to it, and it was so long ago that I forget the\\n>name of the company.  Anyway, you could make your own\\n>legend and slip it behind the bezel.  Really nice and \\n>reasonably priced.  Can anyone tell me where to get some\\n>more of these critters?\\n\\nFor some reason the name Grayhill springs to mind -- saw something\\nlike that in a Grayhill catalog, along with options for custom printed\\noverlays and a neat little electroluuminescent backing that would make\\nthe whole shebang glow a nice shade of green ..\\n\\nmighty handy if you're trying to key a door combination in the dark\\nand don't want to TURN ON THE &%#$!! LIGHT ..\\n\\n-- \\n<BGB>\\nlihan@ccwf.cc.utexas.edu        /   The only reason the world hasn't\\n(really Bruce Bostwick)        /   dissolved into total chaos is that\\nfrom the great state of TEXAS /   Murphy's Law also applies to Murphy.\\n\",\n",
              " \"From: myoakam@cis.ohio-state.edu (micah r yoakam)\\nSubject: BOAT for SALE\\nOrganization: The Ohio State University Dept. of Computer and Info. Science\\nLines: 14\\nDistribution: USA\\nExpires: +60days\\nNNTP-Posting-Host: eucalyptus.cis.ohio-state.edu\\n\\nBOAT For SALE\\n1989 23' IMPERIAL FISHERMAN featuring\\n        Walkaround Cuddy Cabin, 305 V8 with VOLVO DUO PROP OUTDRIVE /\\\\/\\\\/\\\\/\\nAM-FM Cassette Stereo, VHF RADIO, 4x6 HUMMINGBIRD Fishfinder, ALL  Safty\\nequipment, Covers, and MUCH MORE.  \\n        18000 LB.  Capacity\\n        includes Storage Trailer\\n        Hardly used:  LESS Than 100 Hrs\\n\\nAsking: $15,000 OR Best OFFER.\\nFor Further information contact Gerald at 1-(419)-756-2950\\n                                        Mansfield, OH\\n\\n\\n\"]"
            ]
          },
          "metadata": {},
          "execution_count": 5
        }
      ]
    },
    {
      "cell_type": "code",
      "source": [
        "# To check the categories of news articles, we do need to insert a new cell\n",
        "news_data.target"
      ],
      "metadata": {
        "colab": {
          "base_uri": "https://localhost:8080/"
        },
        "id": "Yf_NXHdGI3za",
        "outputId": "5c201973-a146-42b4-8f61-47f20a440cf0"
      },
      "execution_count": 6,
      "outputs": [
        {
          "output_type": "execute_result",
          "data": {
            "text/plain": [
              "array([0, 0, 1, ..., 0, 1, 0])"
            ]
          },
          "metadata": {},
          "execution_count": 6
        }
      ]
    },
    {
      "cell_type": "markdown",
      "source": [
        "0 refers to misc.forsale, 1 refers to sci.electrocnics, and 2 refers to category 'talk.religion,misc'"
      ],
      "metadata": {
        "id": "6p2ABeNPJBuM"
      }
    },
    {
      "cell_type": "code",
      "source": [
        "# to check the categores we are dealing with\n",
        "news_data.target_names"
      ],
      "metadata": {
        "colab": {
          "base_uri": "https://localhost:8080/"
        },
        "id": "uTb1xmJsJMIA",
        "outputId": "1bf925ad-2f9a-4af8-86f9-bc71462dddac"
      },
      "execution_count": 7,
      "outputs": [
        {
          "output_type": "execute_result",
          "data": {
            "text/plain": [
              "['misc.forsale', 'sci.electronics', 'talk.religion.misc']"
            ]
          },
          "metadata": {},
          "execution_count": 7
        }
      ]
    },
    {
      "cell_type": "code",
      "source": [
        "# We do need to store news_data and the above categories in a pandas dataframe and view it\n",
        "news_data_df = pd.DataFrame({'text' : news_data['data'], 'category': news_data.target})\n",
        "news_data_df.head()"
      ],
      "metadata": {
        "colab": {
          "base_uri": "https://localhost:8080/",
          "height": 206
        },
        "id": "e0BW0PCbJVE0",
        "outputId": "04d865f8-8529-4252-e462-4afddae6dd61"
      },
      "execution_count": 8,
      "outputs": [
        {
          "output_type": "execute_result",
          "data": {
            "text/plain": [
              "                                                text  category\n",
              "0  From: Steve@Busop.cit.wayne.edu (Steve Teolis)...         0\n",
              "1  From: jks2x@holmes.acc.Virginia.EDU (Jason K. ...         0\n",
              "2  From: wayne@uva386.schools.virginia.edu (Tony ...         1\n",
              "3  From: lihan@ccwf.cc.utexas.edu (Bruce G. Bostw...         1\n",
              "4  From: myoakam@cis.ohio-state.edu (micah r yoak...         0"
            ],
            "text/html": [
              "\n",
              "  <div id=\"df-200eabab-ee6d-497b-ae46-9f8c83420fc7\" class=\"colab-df-container\">\n",
              "    <div>\n",
              "<style scoped>\n",
              "    .dataframe tbody tr th:only-of-type {\n",
              "        vertical-align: middle;\n",
              "    }\n",
              "\n",
              "    .dataframe tbody tr th {\n",
              "        vertical-align: top;\n",
              "    }\n",
              "\n",
              "    .dataframe thead th {\n",
              "        text-align: right;\n",
              "    }\n",
              "</style>\n",
              "<table border=\"1\" class=\"dataframe\">\n",
              "  <thead>\n",
              "    <tr style=\"text-align: right;\">\n",
              "      <th></th>\n",
              "      <th>text</th>\n",
              "      <th>category</th>\n",
              "    </tr>\n",
              "  </thead>\n",
              "  <tbody>\n",
              "    <tr>\n",
              "      <th>0</th>\n",
              "      <td>From: Steve@Busop.cit.wayne.edu (Steve Teolis)...</td>\n",
              "      <td>0</td>\n",
              "    </tr>\n",
              "    <tr>\n",
              "      <th>1</th>\n",
              "      <td>From: jks2x@holmes.acc.Virginia.EDU (Jason K. ...</td>\n",
              "      <td>0</td>\n",
              "    </tr>\n",
              "    <tr>\n",
              "      <th>2</th>\n",
              "      <td>From: wayne@uva386.schools.virginia.edu (Tony ...</td>\n",
              "      <td>1</td>\n",
              "    </tr>\n",
              "    <tr>\n",
              "      <th>3</th>\n",
              "      <td>From: lihan@ccwf.cc.utexas.edu (Bruce G. Bostw...</td>\n",
              "      <td>1</td>\n",
              "    </tr>\n",
              "    <tr>\n",
              "      <th>4</th>\n",
              "      <td>From: myoakam@cis.ohio-state.edu (micah r yoak...</td>\n",
              "      <td>0</td>\n",
              "    </tr>\n",
              "  </tbody>\n",
              "</table>\n",
              "</div>\n",
              "    <div class=\"colab-df-buttons\">\n",
              "\n",
              "  <div class=\"colab-df-container\">\n",
              "    <button class=\"colab-df-convert\" onclick=\"convertToInteractive('df-200eabab-ee6d-497b-ae46-9f8c83420fc7')\"\n",
              "            title=\"Convert this dataframe to an interactive table.\"\n",
              "            style=\"display:none;\">\n",
              "\n",
              "  <svg xmlns=\"http://www.w3.org/2000/svg\" height=\"24px\" viewBox=\"0 -960 960 960\">\n",
              "    <path d=\"M120-120v-720h720v720H120Zm60-500h600v-160H180v160Zm220 220h160v-160H400v160Zm0 220h160v-160H400v160ZM180-400h160v-160H180v160Zm440 0h160v-160H620v160ZM180-180h160v-160H180v160Zm440 0h160v-160H620v160Z\"/>\n",
              "  </svg>\n",
              "    </button>\n",
              "\n",
              "  <style>\n",
              "    .colab-df-container {\n",
              "      display:flex;\n",
              "      gap: 12px;\n",
              "    }\n",
              "\n",
              "    .colab-df-convert {\n",
              "      background-color: #E8F0FE;\n",
              "      border: none;\n",
              "      border-radius: 50%;\n",
              "      cursor: pointer;\n",
              "      display: none;\n",
              "      fill: #1967D2;\n",
              "      height: 32px;\n",
              "      padding: 0 0 0 0;\n",
              "      width: 32px;\n",
              "    }\n",
              "\n",
              "    .colab-df-convert:hover {\n",
              "      background-color: #E2EBFA;\n",
              "      box-shadow: 0px 1px 2px rgba(60, 64, 67, 0.3), 0px 1px 3px 1px rgba(60, 64, 67, 0.15);\n",
              "      fill: #174EA6;\n",
              "    }\n",
              "\n",
              "    .colab-df-buttons div {\n",
              "      margin-bottom: 4px;\n",
              "    }\n",
              "\n",
              "    [theme=dark] .colab-df-convert {\n",
              "      background-color: #3B4455;\n",
              "      fill: #D2E3FC;\n",
              "    }\n",
              "\n",
              "    [theme=dark] .colab-df-convert:hover {\n",
              "      background-color: #434B5C;\n",
              "      box-shadow: 0px 1px 3px 1px rgba(0, 0, 0, 0.15);\n",
              "      filter: drop-shadow(0px 1px 2px rgba(0, 0, 0, 0.3));\n",
              "      fill: #FFFFFF;\n",
              "    }\n",
              "  </style>\n",
              "\n",
              "    <script>\n",
              "      const buttonEl =\n",
              "        document.querySelector('#df-200eabab-ee6d-497b-ae46-9f8c83420fc7 button.colab-df-convert');\n",
              "      buttonEl.style.display =\n",
              "        google.colab.kernel.accessAllowed ? 'block' : 'none';\n",
              "\n",
              "      async function convertToInteractive(key) {\n",
              "        const element = document.querySelector('#df-200eabab-ee6d-497b-ae46-9f8c83420fc7');\n",
              "        const dataTable =\n",
              "          await google.colab.kernel.invokeFunction('convertToInteractive',\n",
              "                                                    [key], {});\n",
              "        if (!dataTable) return;\n",
              "\n",
              "        const docLinkHtml = 'Like what you see? Visit the ' +\n",
              "          '<a target=\"_blank\" href=https://colab.research.google.com/notebooks/data_table.ipynb>data table notebook</a>'\n",
              "          + ' to learn more about interactive tables.';\n",
              "        element.innerHTML = '';\n",
              "        dataTable['output_type'] = 'display_data';\n",
              "        await google.colab.output.renderOutput(dataTable, element);\n",
              "        const docLink = document.createElement('div');\n",
              "        docLink.innerHTML = docLinkHtml;\n",
              "        element.appendChild(docLink);\n",
              "      }\n",
              "    </script>\n",
              "  </div>\n",
              "\n",
              "\n",
              "<div id=\"df-94cbddf1-1fd4-4442-b479-2cb27e4fe459\">\n",
              "  <button class=\"colab-df-quickchart\" onclick=\"quickchart('df-94cbddf1-1fd4-4442-b479-2cb27e4fe459')\"\n",
              "            title=\"Suggest charts\"\n",
              "            style=\"display:none;\">\n",
              "\n",
              "<svg xmlns=\"http://www.w3.org/2000/svg\" height=\"24px\"viewBox=\"0 0 24 24\"\n",
              "     width=\"24px\">\n",
              "    <g>\n",
              "        <path d=\"M19 3H5c-1.1 0-2 .9-2 2v14c0 1.1.9 2 2 2h14c1.1 0 2-.9 2-2V5c0-1.1-.9-2-2-2zM9 17H7v-7h2v7zm4 0h-2V7h2v10zm4 0h-2v-4h2v4z\"/>\n",
              "    </g>\n",
              "</svg>\n",
              "  </button>\n",
              "\n",
              "<style>\n",
              "  .colab-df-quickchart {\n",
              "      --bg-color: #E8F0FE;\n",
              "      --fill-color: #1967D2;\n",
              "      --hover-bg-color: #E2EBFA;\n",
              "      --hover-fill-color: #174EA6;\n",
              "      --disabled-fill-color: #AAA;\n",
              "      --disabled-bg-color: #DDD;\n",
              "  }\n",
              "\n",
              "  [theme=dark] .colab-df-quickchart {\n",
              "      --bg-color: #3B4455;\n",
              "      --fill-color: #D2E3FC;\n",
              "      --hover-bg-color: #434B5C;\n",
              "      --hover-fill-color: #FFFFFF;\n",
              "      --disabled-bg-color: #3B4455;\n",
              "      --disabled-fill-color: #666;\n",
              "  }\n",
              "\n",
              "  .colab-df-quickchart {\n",
              "    background-color: var(--bg-color);\n",
              "    border: none;\n",
              "    border-radius: 50%;\n",
              "    cursor: pointer;\n",
              "    display: none;\n",
              "    fill: var(--fill-color);\n",
              "    height: 32px;\n",
              "    padding: 0;\n",
              "    width: 32px;\n",
              "  }\n",
              "\n",
              "  .colab-df-quickchart:hover {\n",
              "    background-color: var(--hover-bg-color);\n",
              "    box-shadow: 0 1px 2px rgba(60, 64, 67, 0.3), 0 1px 3px 1px rgba(60, 64, 67, 0.15);\n",
              "    fill: var(--button-hover-fill-color);\n",
              "  }\n",
              "\n",
              "  .colab-df-quickchart-complete:disabled,\n",
              "  .colab-df-quickchart-complete:disabled:hover {\n",
              "    background-color: var(--disabled-bg-color);\n",
              "    fill: var(--disabled-fill-color);\n",
              "    box-shadow: none;\n",
              "  }\n",
              "\n",
              "  .colab-df-spinner {\n",
              "    border: 2px solid var(--fill-color);\n",
              "    border-color: transparent;\n",
              "    border-bottom-color: var(--fill-color);\n",
              "    animation:\n",
              "      spin 1s steps(1) infinite;\n",
              "  }\n",
              "\n",
              "  @keyframes spin {\n",
              "    0% {\n",
              "      border-color: transparent;\n",
              "      border-bottom-color: var(--fill-color);\n",
              "      border-left-color: var(--fill-color);\n",
              "    }\n",
              "    20% {\n",
              "      border-color: transparent;\n",
              "      border-left-color: var(--fill-color);\n",
              "      border-top-color: var(--fill-color);\n",
              "    }\n",
              "    30% {\n",
              "      border-color: transparent;\n",
              "      border-left-color: var(--fill-color);\n",
              "      border-top-color: var(--fill-color);\n",
              "      border-right-color: var(--fill-color);\n",
              "    }\n",
              "    40% {\n",
              "      border-color: transparent;\n",
              "      border-right-color: var(--fill-color);\n",
              "      border-top-color: var(--fill-color);\n",
              "    }\n",
              "    60% {\n",
              "      border-color: transparent;\n",
              "      border-right-color: var(--fill-color);\n",
              "    }\n",
              "    80% {\n",
              "      border-color: transparent;\n",
              "      border-right-color: var(--fill-color);\n",
              "      border-bottom-color: var(--fill-color);\n",
              "    }\n",
              "    90% {\n",
              "      border-color: transparent;\n",
              "      border-bottom-color: var(--fill-color);\n",
              "    }\n",
              "  }\n",
              "</style>\n",
              "\n",
              "  <script>\n",
              "    async function quickchart(key) {\n",
              "      const quickchartButtonEl =\n",
              "        document.querySelector('#' + key + ' button');\n",
              "      quickchartButtonEl.disabled = true;  // To prevent multiple clicks.\n",
              "      quickchartButtonEl.classList.add('colab-df-spinner');\n",
              "      try {\n",
              "        const charts = await google.colab.kernel.invokeFunction(\n",
              "            'suggestCharts', [key], {});\n",
              "      } catch (error) {\n",
              "        console.error('Error during call to suggestCharts:', error);\n",
              "      }\n",
              "      quickchartButtonEl.classList.remove('colab-df-spinner');\n",
              "      quickchartButtonEl.classList.add('colab-df-quickchart-complete');\n",
              "    }\n",
              "    (() => {\n",
              "      let quickchartButtonEl =\n",
              "        document.querySelector('#df-94cbddf1-1fd4-4442-b479-2cb27e4fe459 button');\n",
              "      quickchartButtonEl.style.display =\n",
              "        google.colab.kernel.accessAllowed ? 'block' : 'none';\n",
              "    })();\n",
              "  </script>\n",
              "</div>\n",
              "\n",
              "    </div>\n",
              "  </div>\n"
            ],
            "application/vnd.google.colaboratory.intrinsic+json": {
              "type": "dataframe",
              "variable_name": "news_data_df",
              "summary": "{\n  \"name\": \"news_data_df\",\n  \"rows\": 1553,\n  \"fields\": [\n    {\n      \"column\": \"text\",\n      \"properties\": {\n        \"dtype\": \"string\",\n        \"samples\": [\n          \"From: Pegasus@aaa.uoregon.edu (Pegasus)\\nSubject: Re: Merlin, Mithras and Magick\\nOrganization: the Polyhedron Group\\nLines: 21\\nDistribution: world\\nNNTP-Posting-Host: fp1-dialin-1.uoregon.edu\\n\\nIn article <JOSHUA.93Apr19183833@bailey.cpac.washington.edu>,\\njoshua@cpac.washington.edu (Joshua Geller) wrote:\\n> \\n> \\n> In article <Pegasus-150493132018@fp1-dialin-4.uoregon.edu> \\n> Pegasus@aaa.uoregon.edu (LaurieEWBrandt) writes:\\n> \\nLEWB>> Lets add to those percentages 13-15% for the Orphaic docterians\\nbrought LEWB>>to the group by Paul/Saul who was a high ranking initiate. On\\nthe LEWB>>development of Orphaic Mysteries, see Jane Harrisons .Prolegomena\\nto the LEWB>>study of Greek religion. Cambridge U Press 1922. and you can\\neasly draw LEWB>>your own conclusions.\\n \\njosh> perhaps you can quote just a bit of her argument?\\n\\nLove to,but I must do it a bit later My copy of Harrison in packed, but the\\nlast chapter as best as I can rember deals with Orphic mysteries and their\\nviews of women though she does not come out and say it it is strongly\\nimplyed that the Christian view was drawn heavly from the Orphic and other\\nMajor cults of the time.\\nPegasus\\n\",\n          \"From: dtmedin@catbyte.b30.ingr.com (Dave Medin)\\nSubject: Re: Oscilloscope triggering\\nReply-To: dtmedin@catbyte.b30.ingr.com\\nOrganization: Intergraph Corporation, Huntsville AL\\nLines: 55\\n\\nIn article <C4vs0G.5ux@murdoch.acc.Virginia.EDU>, dgj2y@kelvin.seas.Virginia.EDU (David Glen Jacobowitz) writes:\\n|> >>Can someone out there explain exactly what the 'trigger'\\n|> >>feature found on oscilloscopes does?\\n|> >\\n|> \\t{ lots og good explanation deleted}\\n\\n<lots more deleted>\\n|> \\tIs it just me, or does anybody else out there NOT like digital\\n|> scopes. My school has some beauutful 100Mhz HP that are digital with\\n|> all the bells and whistles, including soft-keys, which I think are a\\n|> loveley touch. ( that is, software keys. ) You don't forget that you\\n|> are dealing with a computer. Those scopes even with all their\\n|> neatness, still make the ickyest looking waves. Lotsa features, but\\n|> ugly output. And those are the best digitals I have ever seen. I've\\n|> seen a lot of cheaper digitals and they look terrible.\\n\\nI think the hangup with digital scopes is that you have to know so much\\nmore about them and how they work on a scope-by-scope basis, and\\nsome of the functions are typically presented, in my opinion,\\nin a counter-intuitive fashion (HP has made some strides in their\\n54600 series, IMO). Automatic setups are fine for simple,\\nrepetitive waveforms, but can give you some crazy results on more\\ncomplex events where you need to understand how the scope is\\nactually measuring/processing the event. For example, is the scope\\nin \\\"equivalent time\\\" or in \\\"real time\\\" sampling mode (equivalent time\\nbeing a mode where samples are built-up slowly by adding a delay to\\nthe trigger event each sweep)? What was the scope's actual sampling\\nrate at the time? How is the data being massaged after capture but\\nbefore display, etc. One common misconception is the speed of the scope.\\n\\nIs the HP scope you're using really a 100 MHz scope? Or is it a 20 MHz\\nsample rate scope (~5 MHz single shot significance) whose front\\nend including S/H can support 100 MHz waveforms (important for\\nequivalent time sampling)? The 100 MHz input in this case really\\nonly helps you when your waveform is repetitive, or on a single\\nsample, when you get lucky and hit a transient event during a sample time.\\n\\nSo, there are a lot more variables in understanding how to get\\nuseful information from a digital scope. I prefer an analog scope for\\ngeneral use and the digital for events where I need storage for\\nlater analysis or comparison, when the event is within the capability\\nof the scope. Now, for the price of true 100 MHz digital scopes to\\nfall...\\n\\n-- \\n--------------------------------------------------------------------\\n       Dave Medin\\t\\t\\tPhone:\\t(205) 730-3169 (w)\\n    SSD--Networking\\t\\t\\t\\t(205) 837-1174 (h)\\n    Intergraph Corp.\\n       M/S GD3004 \\t\\tInternet: dtmedin@catbyte.b30.ingr.com\\n  Huntsville, AL 35894\\t\\tUUCP:  ...uunet!ingr!b30!catbyte!dtmedin\\n\\n   ******* Everywhere You Look (at least around my office) *******\\n\\n * The opinions expressed here are mine (or those of my machine)\\n\",\n          \"From: mlee@post.RoyalRoads.ca (Malcolm Lee)\\nSubject: Re: A KIND and LOVING God!!\\nOrganization: Royal Roads Military College, Victoria, B.C.\\nLines: 99\\n\\n\\nIn article <1r1ma9INNno7@owl.csrv.uidaho.edu>, lanph872@crow.csrv.uidaho.edu (Rob Lanphier) writes:\\n|> Malcolm Lee (mlee@post.RoyalRoads.ca) wrote:\\n|> \\n|> : Do you consider Neo-Nazis and white supremists to be Christian?  I'd hardly\\n|> : classify them as Christian.  Do they follow the teachings of Christ?  Love\\n|> : one another.  Love your neighbour as yourself.  Love your enemies.  Is Jesus\\n|> : Christ their Lord and Saviour?  By the persecution of Jews, they are violating\\n|> : all the precepts of what Christ died for.  They are in direct violation of\\n|> : the teachings of Christ.  Even Jesus who was crucified by the Jewish leaders\\n|> : of that time, loved His enemies by asking the Father for forgiveness of their\\n|> : sins.  I am a Christian and I bear no animosity towards Jews or any one else.\\n|> : The enemy is Satan, not our fellow man.\\n|> \\n|> In Mark 16:16, Jesus is quoted as saying \\\"Whoever believes and is baptized\\n|> will be saved, but whoever does not believe will be condemned.\\\"  I\\n|> consider most Neo-Nazis and White Supremisists to be Christians because:\\n|> a)  They say they are\\n|> b)  They feel it necessary to justify their actions with the Bible\\n|> \\n\\nWhere does it say in the bible that Christians are supposed to persecute\\nJews?  Isn't it love your enemies instead?  They may say they are \\\"Christian\\\"\\nbut do their actions speak differently?  Do you believe what everyone tells\\nyou?  I don't.  I came to believe in God by my own investigation and conclusions.\\nAnd ultimately by my own choice.  Salvation, however, was granted only through\\nthe grace of God.\\n\\n|> The Bible provides us with no clear definition of what a Christian is.  It\\n|> tells us what a Christian *should* do, but then it goes on to say that as\\n|> long as you believe, your sins will be forgiven.  \\n\\nTo be a Christian is to model oneself after Jesus Christ as implied by the\\nvery name Christian.  If you say you believe in your head but do not feel in\\nyour heart, what does that say of your belief?\\n\\n|> White Supremisists and\\n|> Neo-Nazis may not be your brand of Christian, but by believing in Christ,\\n|> they are Christian.\\n|>\\n\\nWhite supremists and Neo-Nazis are NOT any brand of Christian.\\n\\n\\\"If you hate your whom you can see then how can you love God whom you cannot\\n see?\\\"\\n\\nWhat does this belief entail?  Believing in Christ and having your sins\\nforgiven in His name does NOT give a Christian a free licence to sin.  To\\nrepent of a sin is to ask forgiveness of that sin and TRY NOT to do it\\nagain.  I am a Christian, but if you lump me in with racists and accuse me\\nof being such, then are you not pre-judging me?  BTW, I am of Chinese racial\\nbackground and I know what it is to be part of a visible minority in this\\ncountry.  I don't think that I would be favourably looked upon by these\\nWhite supremist \\\"Christians\\\" as you call them.\\n\\nAnyone can say what they believe, but if they don't practice what they preach,\\nthen their belief is false.  Do you concur?\\n \\n|> Now, for your original statement:\\n|> : |> : What bothers me most is why people who have no religious affiliation \\n|> : |> : continue to persecute Jews?  Why this hatred of Jews?  The majority of\\n|> : |> : people who persecute Jews are NOT Christians (I can't speak for all \\n|> : |> : Christians and there are bound to be a few who are on the anti-Semitism\\n|> : |> : bandwagon.)\\n|> \\n|> You imply here that it is predominately atheists and agnostics who\\n|> persecute Jews.  I am hard pressed to think of even an example of Jewish\\n|> persecution in the hands of atheists/agnostics.\\n\\nNazis and racists in general are the ones that come to my immediate attention.\\nWhat I believe is that such people may be using the bible to mask their racial\\nintolerance and bigotry.  They can do as they do and hide behind Christianity\\nbut I tell you that Jesus would have nothing to do with them.\\n\\n|> About the only one that\\n|> comes to mind would be in the former Soviet Union, where many religious\\n|> people suffered some sort of persecution (not to mention many\\n|> atheist/agnostics who suffered persecution for believing the government\\n|> sucked).\\n|> \\n\\nNo arguement there.\\n\\n|>\\n|> Rob Lanphier\\n|> lanph872@uidaho.edu\\n|> \\n\\nThe only point I'm trying to make is that those who call themselves Christian\\nmay not be Christian.  I ask that you draw your own conclusions by what they\\ndo and what they say.  If they are not modelled after the example of Jesus\\nChrist then they are NOT Christian.  If they have not repented of their sins\\nand accepted Jesus Christ as their personal Lord and Saviour then they are \\nNOT Christian.  These are the only criteria to being a Christian.\\n\\nMay God be with you,\\n\\nMalcolm Lee   :)\\n\\n\"\n        ],\n        \"num_unique_values\": 1553,\n        \"semantic_type\": \"\",\n        \"description\": \"\"\n      }\n    },\n    {\n      \"column\": \"category\",\n      \"properties\": {\n        \"dtype\": \"number\",\n        \"std\": 0,\n        \"min\": 0,\n        \"max\": 2,\n        \"samples\": [\n          0,\n          1,\n          2\n        ],\n        \"num_unique_values\": 3,\n        \"semantic_type\": \"\",\n        \"description\": \"\"\n      }\n    }\n  ]\n}"
            }
          },
          "metadata": {},
          "execution_count": 8
        }
      ]
    },
    {
      "cell_type": "code",
      "source": [
        "# To count the occurences iof each category\n",
        "news_data_df['category'].value_counts()\n"
      ],
      "metadata": {
        "colab": {
          "base_uri": "https://localhost:8080/"
        },
        "id": "AN0ZhzOqJ2J9",
        "outputId": "f0a4cafa-0a12-47b8-953e-9d996d5cc678"
      },
      "execution_count": 10,
      "outputs": [
        {
          "output_type": "execute_result",
          "data": {
            "text/plain": [
              "1    591\n",
              "0    585\n",
              "2    377\n",
              "Name: category, dtype: int64"
            ]
          },
          "metadata": {},
          "execution_count": 10
        }
      ]
    },
    {
      "cell_type": "markdown",
      "source": [
        " we will use a lambda function to extract tokens from each 'text' of the news_data_df DataFrame, check whether any of these tokens are stop words, lemmatize them, and concatenate them side by side. We make use of the join function to concatenate a list of words into a single sentence. We use the regular expression (re) to replace anything other than alphabets, digits, and white spaces with blank space."
      ],
      "metadata": {
        "id": "ETeNfEJtKDiG"
      }
    },
    {
      "cell_type": "code",
      "source": [
        "import nltk\n",
        "nltk.download('punkt')\n",
        "news_data_df['cleaned_text'] = news_data_df['text'].apply(\\\n",
        "lambda x : ' '.join([lemmatizer.lemmatize(word.lower()) \\\n",
        "  for word in word_tokenize(re.sub(r'([^\\s\\w]|_)+', ' ', str(x))) if word.lower() not in stop_words]))"
      ],
      "metadata": {
        "colab": {
          "base_uri": "https://localhost:8080/"
        },
        "id": "B6oEkbv4Ku1n",
        "outputId": "474221b9-ab42-4051-a1ab-60129d2f7e67"
      },
      "execution_count": 12,
      "outputs": [
        {
          "output_type": "stream",
          "name": "stderr",
          "text": [
            "[nltk_data] Downloading package punkt to /root/nltk_data...\n",
            "[nltk_data]   Unzipping tokenizers/punkt.zip.\n"
          ]
        }
      ]
    },
    {
      "cell_type": "markdown",
      "source": [
        "`news_data_df['cleaned_text'] =` This creates a new column in the DataFrame called 'cleaned_text'.\n",
        "\n",
        "`news_data_df['text'].apply(\\` will apply a function to each entry in the 'text' column of the DataFrame.\n",
        "\n",
        "`lambda x : ' '.join([lemmatizer.lemmatize(word.lower()) \\` will use a lambda function to lower the case of each word, lemmatize the word (normalizes the word by reducing it to its base or root form) and then joins the lemmatized words back into a sentence.\n",
        "\n",
        "`for word in word_tokenize(re.sub(r'([^\\s\\w]|_)+', ' ', str(x)))` will tokenizes the text (breaking the text into individual words), and for each word, it also removes any punctuation or special characters using a regular expression (regex).\n",
        "\n",
        "`if word.lower() not in stop_words])) will check if the normalized (lowercase) word is not in the list of stop words and removes any that are. Stop words are common words like 'is', 'the', 'and' etc that usually do not contribute to the meaning of a sentence.\n",
        "\n",
        "In summary, the above code will clean up the text data, allowing better analysis of the data or better results when used in machine learning models."
      ],
      "metadata": {
        "id": "ciukI9C0MMqk"
      }
    }
  ]
}