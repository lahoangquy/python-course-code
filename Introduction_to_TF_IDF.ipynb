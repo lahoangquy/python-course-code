{
  "nbformat": 4,
  "nbformat_minor": 0,
  "metadata": {
    "colab": {
      "provenance": []
    },
    "kernelspec": {
      "name": "python3",
      "display_name": "Python 3"
    },
    "language_info": {
      "name": "python"
    }
  },
  "cells": [
    {
      "cell_type": "markdown",
      "source": [
        "\n",
        "TF-IDF (Term Frequency-Inverse Document Frequency) is a statistical measure used in natural language processing to evaluate the importance of a word in a document relative to a corpus. It is commonly used for feature extraction and text mining tasks.\n",
        "\n",
        "TF (Term Frequency) measures the frequency of a term (word) in a document. It is calculated as the number of times a term appears in a document divided by the total number of terms in the document. The idea behind TF is to highlight terms that occur frequently within a document.\n",
        "\n",
        "IDF (Inverse Document Frequency) measures the importance of a term across a corpus. It is calculated as the logarithm of the total number of documents in the corpus divided by the number of documents containing the term. IDF assigns higher weights to terms that are rare across the corpus but occur frequently within specific documents.\n",
        "\n",
        "The TF-IDF score for a term in a document is the product of its TF and IDF scores. It is calculated by multiplying the TF of the term in the document by the IDF of the term across the corpus. This results in a numerical representation of the importance of a term in a document relative to the entire corpus.\n",
        "\n",
        "TF-IDF is often used for various NLP tasks such as information retrieval, document classification, and text summarization. It helps in identifying and prioritizing important words or phrases within documents, enabling more accurate analysis and understanding of textual data."
      ],
      "metadata": {
        "id": "F04Mn5lbogIe"
      }
    },
    {
      "cell_type": "markdown",
      "source": [],
      "metadata": {
        "id": "M06KKBNlo_H3"
      }
    }
  ]
}