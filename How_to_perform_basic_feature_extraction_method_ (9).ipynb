{
  "nbformat": 4,
  "nbformat_minor": 0,
  "metadata": {
    "colab": {
      "provenance": []
    },
    "kernelspec": {
      "name": "python3",
      "display_name": "Python 3"
    },
    "language_info": {
      "name": "python"
    }
  },
  "cells": [
    {
      "cell_type": "markdown",
      "source": [
        "There are 3 main types of categorires.\n",
        "\n",
        "1) Structured Data: This is the most organized form of data. It is represented in tabular formats such as Excel files and Comma-Separated Value (CSV) files.\n",
        "\n",
        "2) Semi-Structured Data: This type of data is not presented in a tabular structure, but it can be represented in a tabular format after transformation. Here, information is usually stored between tags following a definite pattern. XML and HTML files can be referred to as semi-structured data.\n",
        "\n",
        "3)Unstructured Data: This type of data is the most difficult to deal with. Machine learning algorithms would find it difficult to comprehend unstructured data without any loss of information. Text corpora and images are examples of unstructured data.\n",
        "\n",
        "Categorization of Data Based on Content:\n",
        "\n",
        "•\tText Data: This refers to text corpora consisting of written sentences. This type of data can only be read. An example would be the text corpus of a book.\n",
        "•\tImage Data: This refers to pictures that are used to communicate messages. This type of data can only be seen.\n",
        "•\tAudio Data: This refers to recordings of someone's voice, music, and so on. This type of data can only be heard.\n",
        "•\tVideo Data: A continuous series of images coupled with audio forms a video. This type of data can be seen as well as heard.\n",
        "\n"
      ],
      "metadata": {
        "id": "t4xawhC2O-Lc"
      }
    },
    {
      "cell_type": "code",
      "source": [
        "import re"
      ],
      "metadata": {
        "id": "KyPy9wfBUpgq"
      },
      "execution_count": 49,
      "outputs": []
    },
    {
      "cell_type": "code",
      "execution_count": 50,
      "metadata": {
        "id": "oo25H8poOeB6"
      },
      "outputs": [],
      "source": [
        "sentence = 'Happy tweeted, \"Witnessing 90th Republic Day of Viet Nam from Jack, \\\n",
        "Ho CHi Minh. Mesmerizing performance by Vietnamese Army! Awesome airshow! @Viet_Nam_official \\\n",
        "@Viet_Nam_official #VietNam #90thRepublic_Day. For more photos ping me jack@photoking.com :)\"'"
      ]
    },
    {
      "cell_type": "markdown",
      "source": [
        "Delete all characters other than digits, alphabetical characters, and whitespaces from the text. Use the split() function to split the strings into parts."
      ],
      "metadata": {
        "id": "vbW5HSgZUx6-"
      }
    },
    {
      "cell_type": "code",
      "source": [
        "re.sub(r'([^\\s\\w]|_)+', ' ', sentence).split()"
      ],
      "metadata": {
        "colab": {
          "base_uri": "https://localhost:8080/"
        },
        "id": "uAW8LRjHUzRN",
        "outputId": "d875e5c9-f013-44be-a7da-3c3fc8378295"
      },
      "execution_count": 51,
      "outputs": [
        {
          "output_type": "execute_result",
          "data": {
            "text/plain": [
              "['Happy',\n",
              " 'tweeted',\n",
              " 'Witnessing',\n",
              " '90th',\n",
              " 'Republic',\n",
              " 'Day',\n",
              " 'of',\n",
              " 'Viet',\n",
              " 'Nam',\n",
              " 'from',\n",
              " 'Jack',\n",
              " 'Ho',\n",
              " 'CHi',\n",
              " 'Minh',\n",
              " 'Mesmerizing',\n",
              " 'performance',\n",
              " 'by',\n",
              " 'Vietnamese',\n",
              " 'Army',\n",
              " 'Awesome',\n",
              " 'airshow',\n",
              " 'Viet',\n",
              " 'Nam',\n",
              " 'official',\n",
              " 'Viet',\n",
              " 'Nam',\n",
              " 'official',\n",
              " 'VietNam',\n",
              " '90thRepublic',\n",
              " 'Day',\n",
              " 'For',\n",
              " 'more',\n",
              " 'photos',\n",
              " 'ping',\n",
              " 'me',\n",
              " 'jack',\n",
              " 'photoking',\n",
              " 'com']"
            ]
          },
          "metadata": {},
          "execution_count": 51
        }
      ]
    },
    {
      "cell_type": "markdown",
      "source": [
        "Usually, extracting each token separately does not help. For instance, consider the sentence, \"I don't hate you, but your behavior.\" Here, if we process each of the tokens, such as \"hate\" and \"behavior,\" separately, then the true meaning of the sentence would not be comprehended. In this case, the context in which these tokens are present becomes essential. Thus, we consider n consecutive tokens at a time. n-grams refers to the grouping of n consecutive tokens together."
      ],
      "metadata": {
        "id": "whlPH1_MVXgS"
      }
    },
    {
      "cell_type": "markdown",
      "source": [
        "We will extract n-grams by using nltk and textBlb"
      ],
      "metadata": {
        "id": "DMYViGL-Ve2T"
      }
    },
    {
      "cell_type": "code",
      "source": [
        "def n_gram_extractor(sentence, n):\n",
        "    tokens = re.sub(r'([^\\s\\w]|_)+', ' ', sentence).split()\n",
        "    for i in range(len(tokens)-n+1):\n",
        "        print(tokens[i:i+n])"
      ],
      "metadata": {
        "id": "YOu9TI1AVkXO"
      },
      "execution_count": 52,
      "outputs": []
    },
    {
      "cell_type": "code",
      "source": [
        "# To check the bi-grams we need to pass the function with text and n\n",
        "n_gram_extractor('The cute little boy is playing with balls.', 2)"
      ],
      "metadata": {
        "colab": {
          "base_uri": "https://localhost:8080/"
        },
        "id": "UfbnqzHIWDtF",
        "outputId": "cdaa3935-85ff-4f99-a313-1e281f1d1d24"
      },
      "execution_count": 53,
      "outputs": [
        {
          "output_type": "stream",
          "name": "stdout",
          "text": [
            "['The', 'cute']\n",
            "['cute', 'little']\n",
            "['little', 'boy']\n",
            "['boy', 'is']\n",
            "['is', 'playing']\n",
            "['playing', 'with']\n",
            "['with', 'balls']\n"
          ]
        }
      ]
    },
    {
      "cell_type": "code",
      "source": [
        "# To check the tri-grams we need to pass the function with text and n\n",
        "n_gram_extractor('The cute little boy is playing with balls.', 3)"
      ],
      "metadata": {
        "colab": {
          "base_uri": "https://localhost:8080/"
        },
        "id": "PGix-6fJWUUa",
        "outputId": "56725275-1641-4211-ae3b-39effaf6566c"
      },
      "execution_count": 54,
      "outputs": [
        {
          "output_type": "stream",
          "name": "stdout",
          "text": [
            "['The', 'cute', 'little']\n",
            "['cute', 'little', 'boy']\n",
            "['little', 'boy', 'is']\n",
            "['boy', 'is', 'playing']\n",
            "['is', 'playing', 'with']\n",
            "['playing', 'with', 'balls']\n"
          ]
        }
      ]
    },
    {
      "cell_type": "code",
      "source": [
        "import nltk\n",
        "nltk.download('punkt')\n",
        "from textblob import TextBlob\n",
        "blob = TextBlob(\"The cute little boy is playing with balls.\")\n",
        "blob.ngrams(n=2)"
      ],
      "metadata": {
        "colab": {
          "base_uri": "https://localhost:8080/"
        },
        "id": "kJte-kLEWeil",
        "outputId": "650035b4-6eeb-4f02-d2e2-2f70cb1e7c8d"
      },
      "execution_count": 55,
      "outputs": [
        {
          "output_type": "stream",
          "name": "stderr",
          "text": [
            "[nltk_data] Downloading package punkt to /root/nltk_data...\n",
            "[nltk_data]   Package punkt is already up-to-date!\n"
          ]
        },
        {
          "output_type": "execute_result",
          "data": {
            "text/plain": [
              "[WordList(['The', 'cute']),\n",
              " WordList(['cute', 'little']),\n",
              " WordList(['little', 'boy']),\n",
              " WordList(['boy', 'is']),\n",
              " WordList(['is', 'playing']),\n",
              " WordList(['playing', 'with']),\n",
              " WordList(['with', 'balls'])]"
            ]
          },
          "metadata": {},
          "execution_count": 55
        }
      ]
    },
    {
      "cell_type": "code",
      "source": [
        "import nltk\n",
        "nltk.download('punkt')\n",
        "from textblob import TextBlob\n",
        "blob = TextBlob(\"The cute little boy is playing with balls.\")\n",
        "blob.ngrams(n=3)"
      ],
      "metadata": {
        "colab": {
          "base_uri": "https://localhost:8080/"
        },
        "id": "_J2XVSiLW33L",
        "outputId": "b1bad9f3-5215-451a-b7d6-fa827493e7cf"
      },
      "execution_count": 56,
      "outputs": [
        {
          "output_type": "stream",
          "name": "stderr",
          "text": [
            "[nltk_data] Downloading package punkt to /root/nltk_data...\n",
            "[nltk_data]   Package punkt is already up-to-date!\n"
          ]
        },
        {
          "output_type": "execute_result",
          "data": {
            "text/plain": [
              "[WordList(['The', 'cute', 'little']),\n",
              " WordList(['cute', 'little', 'boy']),\n",
              " WordList(['little', 'boy', 'is']),\n",
              " WordList(['boy', 'is', 'playing']),\n",
              " WordList(['is', 'playing', 'with']),\n",
              " WordList(['playing', 'with', 'balls'])]"
            ]
          },
          "metadata": {},
          "execution_count": 56
        }
      ]
    },
    {
      "cell_type": "markdown",
      "source": [
        "Keras and TextBlob are two of the most popular Python libraries used for performing various NLP tasks. TextBlob provides a simple and easy-to-use interface to do so. Keras is used mainly for performing deep learning-based NLP tasks"
      ],
      "metadata": {
        "id": "qSApLCg9XLc2"
      }
    },
    {
      "cell_type": "markdown",
      "source": [
        "How to perform tokenization with keras and textblob"
      ],
      "metadata": {
        "id": "kapdCNYeXzb0"
      }
    },
    {
      "cell_type": "code",
      "source": [
        "from keras.preprocessing.text import text_to_word_sequence\n",
        "from textblob import TextBlob"
      ],
      "metadata": {
        "id": "a_Gtx4OGX5MO"
      },
      "execution_count": 57,
      "outputs": []
    },
    {
      "cell_type": "code",
      "source": [
        "text_to_word_sequence(sentence)"
      ],
      "metadata": {
        "colab": {
          "base_uri": "https://localhost:8080/"
        },
        "id": "a0chhwTgYBXe",
        "outputId": "e2d6ed2c-201f-45c9-a939-8e20309e381c"
      },
      "execution_count": 58,
      "outputs": [
        {
          "output_type": "execute_result",
          "data": {
            "text/plain": [
              "['happy',\n",
              " 'tweeted',\n",
              " 'witnessing',\n",
              " '90th',\n",
              " 'republic',\n",
              " 'day',\n",
              " 'of',\n",
              " 'viet',\n",
              " 'nam',\n",
              " 'from',\n",
              " 'jack',\n",
              " 'ho',\n",
              " 'chi',\n",
              " 'minh',\n",
              " 'mesmerizing',\n",
              " 'performance',\n",
              " 'by',\n",
              " 'vietnamese',\n",
              " 'army',\n",
              " 'awesome',\n",
              " 'airshow',\n",
              " 'viet',\n",
              " 'nam',\n",
              " 'official',\n",
              " 'viet',\n",
              " 'nam',\n",
              " 'official',\n",
              " 'vietnam',\n",
              " '90threpublic',\n",
              " 'day',\n",
              " 'for',\n",
              " 'more',\n",
              " 'photos',\n",
              " 'ping',\n",
              " 'me',\n",
              " 'jack',\n",
              " 'photoking',\n",
              " 'com']"
            ]
          },
          "metadata": {},
          "execution_count": 58
        }
      ]
    },
    {
      "cell_type": "code",
      "source": [
        "blob = TextBlob(sentence)\n",
        "blob.words"
      ],
      "metadata": {
        "colab": {
          "base_uri": "https://localhost:8080/"
        },
        "id": "ITzA3vlpYKNx",
        "outputId": "bfaeca3f-3594-4fa1-e328-e789ddcab396"
      },
      "execution_count": 59,
      "outputs": [
        {
          "output_type": "execute_result",
          "data": {
            "text/plain": [
              "WordList(['Happy', 'tweeted', 'Witnessing', '90th', 'Republic', 'Day', 'of', 'Viet', 'Nam', 'from', 'Jack', 'Ho', 'CHi', 'Minh', 'Mesmerizing', 'performance', 'by', 'Vietnamese', 'Army', 'Awesome', 'airshow', 'Viet_Nam_official', 'Viet_Nam_official', 'VietNam', '90thRepublic_Day', 'For', 'more', 'photos', 'ping', 'me', 'jack', 'photoking.com'])"
            ]
          },
          "metadata": {},
          "execution_count": 59
        }
      ]
    },
    {
      "cell_type": "markdown",
      "source": [
        "Tweet tokenizer: This is specifically designed for tokenizing tweets. It is\n",
        "capable of dealing with emotions and expressions of sentiment, which are used widely on Twitter.\n",
        "\n",
        "MWE tokenizer: MWE stands for Multi-Word Expression. Here, certain groups of multiple words are treated as one entity during tokenization, such as \"United States of America,\" \"People's Republic of China,\" \"not only,\" and \"but also.\"\n",
        "\n",
        "\n",
        "Regular expression tokenizer: These tokenizers are developed using regular expressions. Sentences are split based on the occurrence of a particular pattern.\n",
        "\n",
        "Whitespace tokenizer: This tokenizer splits a string whenever a space, tab, or newline character is present.\n",
        "\n",
        "Word Punkt tokenizer : This splits a text into a list of alphabetical characters, digits, and non-alphabetical characters.\n"
      ],
      "metadata": {
        "id": "4iBGWGKCZEfA"
      }
    },
    {
      "cell_type": "code",
      "source": [
        "from nltk.tokenize import TweetTokenizer\n",
        "tweet_tokenizer = TweetTokenizer()\n",
        "tweet_tokenizer.tokenize(sentence)"
      ],
      "metadata": {
        "colab": {
          "base_uri": "https://localhost:8080/"
        },
        "id": "S8QA3CPaZkg_",
        "outputId": "7e47b422-aaa9-4bd2-8acb-7eb9d52db091"
      },
      "execution_count": 60,
      "outputs": [
        {
          "output_type": "execute_result",
          "data": {
            "text/plain": [
              "['Happy',\n",
              " 'tweeted',\n",
              " ',',\n",
              " '\"',\n",
              " 'Witnessing',\n",
              " '90th',\n",
              " 'Republic',\n",
              " 'Day',\n",
              " 'of',\n",
              " 'Viet',\n",
              " 'Nam',\n",
              " 'from',\n",
              " 'Jack',\n",
              " ',',\n",
              " 'Ho',\n",
              " 'CHi',\n",
              " 'Minh',\n",
              " '.',\n",
              " 'Mesmerizing',\n",
              " 'performance',\n",
              " 'by',\n",
              " 'Vietnamese',\n",
              " 'Army',\n",
              " '!',\n",
              " 'Awesome',\n",
              " 'airshow',\n",
              " '!',\n",
              " '@Viet_Nam_official',\n",
              " '@Viet_Nam_official',\n",
              " '#VietNam',\n",
              " '#90thRepublic_Day',\n",
              " '.',\n",
              " 'For',\n",
              " 'more',\n",
              " 'photos',\n",
              " 'ping',\n",
              " 'me',\n",
              " 'jack@photoking.com',\n",
              " ':)',\n",
              " '\"']"
            ]
          },
          "metadata": {},
          "execution_count": 60
        }
      ]
    },
    {
      "cell_type": "code",
      "source": [
        "from nltk.tokenize import MWETokenizer\n",
        "mwe_tokenizer = MWETokenizer([('Republic', 'Day')])\n",
        "mwe_tokenizer.add_mwe(('Vietnamese', 'Army'))\n",
        "mwe_tokenizer.tokenize(sentence.split())"
      ],
      "metadata": {
        "colab": {
          "base_uri": "https://localhost:8080/"
        },
        "id": "wMiIJs8gZ9xR",
        "outputId": "03420741-5315-473e-df5a-e3d97586292a"
      },
      "execution_count": 61,
      "outputs": [
        {
          "output_type": "execute_result",
          "data": {
            "text/plain": [
              "['Happy',\n",
              " 'tweeted,',\n",
              " '\"Witnessing',\n",
              " '90th',\n",
              " 'Republic_Day',\n",
              " 'of',\n",
              " 'Viet',\n",
              " 'Nam',\n",
              " 'from',\n",
              " 'Jack,',\n",
              " 'Ho',\n",
              " 'CHi',\n",
              " 'Minh.',\n",
              " 'Mesmerizing',\n",
              " 'performance',\n",
              " 'by',\n",
              " 'Vietnamese',\n",
              " 'Army!',\n",
              " 'Awesome',\n",
              " 'airshow!',\n",
              " '@Viet_Nam_official',\n",
              " '@Viet_Nam_official',\n",
              " '#VietNam',\n",
              " '#90thRepublic_Day.',\n",
              " 'For',\n",
              " 'more',\n",
              " 'photos',\n",
              " 'ping',\n",
              " 'me',\n",
              " 'jack@photoking.com',\n",
              " ':)\"']"
            ]
          },
          "metadata": {},
          "execution_count": 61
        }
      ]
    },
    {
      "cell_type": "markdown",
      "source": [
        "In the above result, the words \"Indian\" and \"Army!\" were supposed to be treated as a single identity, but they got separated. This is because \"Army!\" (not \"Army\") is treated as a token."
      ],
      "metadata": {
        "id": "7Q50YT27asTx"
      }
    },
    {
      "cell_type": "code",
      "source": [
        "mwe_tokenizer.tokenize(sentence.replace('!', '').split())"
      ],
      "metadata": {
        "colab": {
          "base_uri": "https://localhost:8080/"
        },
        "id": "igXE_mQoaw22",
        "outputId": "684c6f7f-7102-4843-f020-f9a04386df5d"
      },
      "execution_count": 62,
      "outputs": [
        {
          "output_type": "execute_result",
          "data": {
            "text/plain": [
              "['Happy',\n",
              " 'tweeted,',\n",
              " '\"Witnessing',\n",
              " '90th',\n",
              " 'Republic_Day',\n",
              " 'of',\n",
              " 'Viet',\n",
              " 'Nam',\n",
              " 'from',\n",
              " 'Jack,',\n",
              " 'Ho',\n",
              " 'CHi',\n",
              " 'Minh.',\n",
              " 'Mesmerizing',\n",
              " 'performance',\n",
              " 'by',\n",
              " 'Vietnamese_Army',\n",
              " 'Awesome',\n",
              " 'airshow',\n",
              " '@Viet_Nam_official',\n",
              " '@Viet_Nam_official',\n",
              " '#VietNam',\n",
              " '#90thRepublic_Day.',\n",
              " 'For',\n",
              " 'more',\n",
              " 'photos',\n",
              " 'ping',\n",
              " 'me',\n",
              " 'jack@photoking.com',\n",
              " ':)\"']"
            ]
          },
          "metadata": {},
          "execution_count": 62
        }
      ]
    },
    {
      "cell_type": "code",
      "source": [
        "from nltk.tokenize import RegexpTokenizer\n",
        "reg_tokenizer = RegexpTokenizer('\\w+|\\$[\\d\\.]+|\\S+')\n",
        "reg_tokenizer.tokenize(sentence)"
      ],
      "metadata": {
        "colab": {
          "base_uri": "https://localhost:8080/"
        },
        "id": "OYrlpchza_Vp",
        "outputId": "648424b6-44ef-4569-fb43-483ec4b9eb1d"
      },
      "execution_count": 63,
      "outputs": [
        {
          "output_type": "execute_result",
          "data": {
            "text/plain": [
              "['Happy',\n",
              " 'tweeted',\n",
              " ',',\n",
              " '\"Witnessing',\n",
              " '90th',\n",
              " 'Republic',\n",
              " 'Day',\n",
              " 'of',\n",
              " 'Viet',\n",
              " 'Nam',\n",
              " 'from',\n",
              " 'Jack',\n",
              " ',',\n",
              " 'Ho',\n",
              " 'CHi',\n",
              " 'Minh',\n",
              " '.',\n",
              " 'Mesmerizing',\n",
              " 'performance',\n",
              " 'by',\n",
              " 'Vietnamese',\n",
              " 'Army',\n",
              " '!',\n",
              " 'Awesome',\n",
              " 'airshow',\n",
              " '!',\n",
              " '@Viet_Nam_official',\n",
              " '@Viet_Nam_official',\n",
              " '#VietNam',\n",
              " '#90thRepublic_Day.',\n",
              " 'For',\n",
              " 'more',\n",
              " 'photos',\n",
              " 'ping',\n",
              " 'me',\n",
              " 'jack',\n",
              " '@photoking.com',\n",
              " ':)\"']"
            ]
          },
          "metadata": {},
          "execution_count": 63
        }
      ]
    },
    {
      "cell_type": "code",
      "source": [
        "from nltk.tokenize import WhitespaceTokenizer\n",
        "wh_tokenizer = WhitespaceTokenizer()\n",
        "wh_tokenizer.tokenize(sentence)"
      ],
      "metadata": {
        "colab": {
          "base_uri": "https://localhost:8080/"
        },
        "id": "RLu-6LwCbWMz",
        "outputId": "59b83850-40b4-40bb-d9cb-dee76368656c"
      },
      "execution_count": 64,
      "outputs": [
        {
          "output_type": "execute_result",
          "data": {
            "text/plain": [
              "['Happy',\n",
              " 'tweeted,',\n",
              " '\"Witnessing',\n",
              " '90th',\n",
              " 'Republic',\n",
              " 'Day',\n",
              " 'of',\n",
              " 'Viet',\n",
              " 'Nam',\n",
              " 'from',\n",
              " 'Jack,',\n",
              " 'Ho',\n",
              " 'CHi',\n",
              " 'Minh.',\n",
              " 'Mesmerizing',\n",
              " 'performance',\n",
              " 'by',\n",
              " 'Vietnamese',\n",
              " 'Army!',\n",
              " 'Awesome',\n",
              " 'airshow!',\n",
              " '@Viet_Nam_official',\n",
              " '@Viet_Nam_official',\n",
              " '#VietNam',\n",
              " '#90thRepublic_Day.',\n",
              " 'For',\n",
              " 'more',\n",
              " 'photos',\n",
              " 'ping',\n",
              " 'me',\n",
              " 'jack@photoking.com',\n",
              " ':)\"']"
            ]
          },
          "metadata": {},
          "execution_count": 64
        }
      ]
    },
    {
      "cell_type": "code",
      "source": [
        "from nltk.tokenize import WordPunctTokenizer\n",
        "wp_tokenizer = WordPunctTokenizer()\n",
        "wp_tokenizer.tokenize(sentence)"
      ],
      "metadata": {
        "colab": {
          "base_uri": "https://localhost:8080/"
        },
        "id": "APvw2-8TbmtU",
        "outputId": "a979fa97-1293-404c-8a1d-88ac741c5eaa"
      },
      "execution_count": 65,
      "outputs": [
        {
          "output_type": "execute_result",
          "data": {
            "text/plain": [
              "['Happy',\n",
              " 'tweeted',\n",
              " ',',\n",
              " '\"',\n",
              " 'Witnessing',\n",
              " '90th',\n",
              " 'Republic',\n",
              " 'Day',\n",
              " 'of',\n",
              " 'Viet',\n",
              " 'Nam',\n",
              " 'from',\n",
              " 'Jack',\n",
              " ',',\n",
              " 'Ho',\n",
              " 'CHi',\n",
              " 'Minh',\n",
              " '.',\n",
              " 'Mesmerizing',\n",
              " 'performance',\n",
              " 'by',\n",
              " 'Vietnamese',\n",
              " 'Army',\n",
              " '!',\n",
              " 'Awesome',\n",
              " 'airshow',\n",
              " '!',\n",
              " '@',\n",
              " 'Viet_Nam_official',\n",
              " '@',\n",
              " 'Viet_Nam_official',\n",
              " '#',\n",
              " 'VietNam',\n",
              " '#',\n",
              " '90thRepublic_Day',\n",
              " '.',\n",
              " 'For',\n",
              " 'more',\n",
              " 'photos',\n",
              " 'ping',\n",
              " 'me',\n",
              " 'jack',\n",
              " '@',\n",
              " 'photoking',\n",
              " '.',\n",
              " 'com',\n",
              " ':)\"']"
            ]
          },
          "metadata": {},
          "execution_count": 65
        }
      ]
    },
    {
      "cell_type": "markdown",
      "source": [
        "Although tokenization appears to be an easy task, in reality, it is not so. This is primarily because of ambiguities that arise due to the presence of whitespaces and hyphens. Moreover, sentences in certain languages, such as Chinese and Japanese, do not have words separated by whitespaces, thus making it difficult to tokenize them."
      ],
      "metadata": {
        "id": "7qzmXGaXcFzh"
      }
    },
    {
      "cell_type": "code",
      "source": [
        "sentence1 = TextBlob('She sells seashells on the seashore')"
      ],
      "metadata": {
        "id": "vmwl_eJ-aUC9"
      },
      "execution_count": 66,
      "outputs": []
    },
    {
      "cell_type": "code",
      "source": [
        "# We will check the lost of words in sentence\n",
        "sentence1.words"
      ],
      "metadata": {
        "colab": {
          "base_uri": "https://localhost:8080/"
        },
        "id": "wFUmeBtEahpQ",
        "outputId": "baac6608-ceda-4378-fd4f-13ec7b6545b8"
      },
      "execution_count": 67,
      "outputs": [
        {
          "output_type": "execute_result",
          "data": {
            "text/plain": [
              "WordList(['She', 'sells', 'seashells', 'on', 'the', 'seashore'])"
            ]
          },
          "metadata": {},
          "execution_count": 67
        }
      ]
    },
    {
      "cell_type": "code",
      "source": [
        "# It is a time to extract words from a sentence using TextBlob\n",
        "sentence1.words[2].singularize()"
      ],
      "metadata": {
        "colab": {
          "base_uri": "https://localhost:8080/",
          "height": 36
        },
        "id": "wIHsDvqXarTK",
        "outputId": "6aead68b-ba2c-4a67-c0ec-da02bd8ee67a"
      },
      "execution_count": 68,
      "outputs": [
        {
          "output_type": "execute_result",
          "data": {
            "text/plain": [
              "'seashell'"
            ],
            "application/vnd.google.colaboratory.intrinsic+json": {
              "type": "string"
            }
          },
          "metadata": {},
          "execution_count": 68
        }
      ]
    },
    {
      "cell_type": "code",
      "source": [
        "# We will pluralize the fifth word\n",
        "sentence1.words[5].singularize()"
      ],
      "metadata": {
        "colab": {
          "base_uri": "https://localhost:8080/",
          "height": 36
        },
        "id": "VuY74_tJa8KY",
        "outputId": "05540c7c-9e55-4629-e625-94426d2c6a79"
      },
      "execution_count": 69,
      "outputs": [
        {
          "output_type": "execute_result",
          "data": {
            "text/plain": [
              "'seashore'"
            ],
            "application/vnd.google.colaboratory.intrinsic+json": {
              "type": "string"
            }
          },
          "metadata": {},
          "execution_count": 69
        }
      ]
    },
    {
      "cell_type": "markdown",
      "source": [
        "We will use the TextBlb to translate a sentence from Spanish to Engish"
      ],
      "metadata": {
        "id": "1mTPHB7ybJyh"
      }
    },
    {
      "cell_type": "code",
      "source": [
        "en_blob = TextBlob(u'muy bien')\n",
        "en_blob.translate(from_lang='es', to='en')"
      ],
      "metadata": {
        "colab": {
          "base_uri": "https://localhost:8080/"
        },
        "id": "APC-Sz04bH20",
        "outputId": "d74dcaff-4c01-4eaa-a929-e184c7279d10"
      },
      "execution_count": 70,
      "outputs": [
        {
          "output_type": "execute_result",
          "data": {
            "text/plain": [
              "TextBlob(\"very good\")"
            ]
          },
          "metadata": {},
          "execution_count": 70
        }
      ]
    },
    {
      "cell_type": "markdown",
      "source": [
        "\n",
        "Feature extraction in natural language processing (NLP) refers to the process of transforming raw text data into a format that is suitable for machine learning algorithms to understand and analyze. In NLP tasks, such as text classification or sentiment analysis, it's crucial to represent text data in a numerical format that algorithms can work with effectively. Feature extraction involves identifying and extracting relevant information or features from text data to create structured numerical representations.\n",
        "\n",
        "Common techniques for feature extraction in NLP include:\n",
        "\n",
        "Bag of Words (BoW): This approach represents text as a collection of words, ignoring grammar and word order. Each document is represented as a vector where each dimension corresponds to a unique word in the corpus, and the value indicates the frequency of that word in the document.\n",
        "\n",
        "Term Frequency-Inverse Document Frequency (TF-IDF): TF-IDF is a statistical measure used to evaluate the importance of a word in a document relative to a corpus. It takes into account the frequency of a word in a document (TF) and inversely scales it by the frequency of the word across the entire corpus (IDF).\n",
        "\n",
        "Word Embeddings: Word embeddings represent words as dense vectors in a continuous vector space, where words with similar meanings are located close to each other. Techniques like Word2Vec, GloVe, and fastText are popular methods for generating word embeddings.\n",
        "\n",
        "N-grams: N-grams are contiguous sequences of n items from a given text, typically words or characters. They capture contextual information by considering sequences of words rather than individual words alone.\n",
        "\n",
        "Part-of-Speech (POS) Tagging: POS tagging assigns a grammatical category (such as noun, verb, adjective, etc.) to each word in a sentence. These tags can serve as features for various NLP tasks.\n",
        "\n",
        "Named Entity Recognition (NER): NER identifies and classifies named entities (such as names of people, organizations, locations, etc.) within text documents. Extracted named entities can be used as features in tasks like information extraction or document summarization.\n",
        "\n",
        "Syntactic Parsing: Syntactic parsing involves analyzing the grammatical structure of sentences. Features derived from parsing trees, such as dependency relations or syntactic constituents, can provide valuable information for various NLP tasks.\n",
        "\n",
        "Feature extraction is a crucial step in NLP pipelines as it enables machine learning algorithms to effectively process and analyze textual data, ultimately facilitating tasks like sentiment analysis, document classification, machine translation, and more."
      ],
      "metadata": {
        "id": "gz7w7OhYeDmO"
      }
    },
    {
      "cell_type": "code",
      "source": [
        "import pandas as pd\n",
        "\n",
        "df = pd.DataFrame([['The interim budget for 2019 will be announced on 1st February.'], ['Do you know how much expectation the middle-class working population is having from this budget?'], ['February is the shortest month in a year.'], ['This financial year will end on 31st March.']])"
      ],
      "metadata": {
        "id": "BWRHE2fFepSB"
      },
      "execution_count": 71,
      "outputs": []
    },
    {
      "cell_type": "code",
      "source": [
        "df"
      ],
      "metadata": {
        "colab": {
          "base_uri": "https://localhost:8080/",
          "height": 175
        },
        "id": "MnfbKO8sfBZy",
        "outputId": "52b6bb73-f320-450a-e89f-85b1325625e2"
      },
      "execution_count": 72,
      "outputs": [
        {
          "output_type": "execute_result",
          "data": {
            "text/plain": [
              "                                                   0\n",
              "0  The interim budget for 2019 will be announced ...\n",
              "1  Do you know how much expectation the middle-cl...\n",
              "2          February is the shortest month in a year.\n",
              "3        This financial year will end on 31st March."
            ],
            "text/html": [
              "\n",
              "  <div id=\"df-7c76be58-60c5-4335-bbec-30498bbccd93\" class=\"colab-df-container\">\n",
              "    <div>\n",
              "<style scoped>\n",
              "    .dataframe tbody tr th:only-of-type {\n",
              "        vertical-align: middle;\n",
              "    }\n",
              "\n",
              "    .dataframe tbody tr th {\n",
              "        vertical-align: top;\n",
              "    }\n",
              "\n",
              "    .dataframe thead th {\n",
              "        text-align: right;\n",
              "    }\n",
              "</style>\n",
              "<table border=\"1\" class=\"dataframe\">\n",
              "  <thead>\n",
              "    <tr style=\"text-align: right;\">\n",
              "      <th></th>\n",
              "      <th>0</th>\n",
              "    </tr>\n",
              "  </thead>\n",
              "  <tbody>\n",
              "    <tr>\n",
              "      <th>0</th>\n",
              "      <td>The interim budget for 2019 will be announced ...</td>\n",
              "    </tr>\n",
              "    <tr>\n",
              "      <th>1</th>\n",
              "      <td>Do you know how much expectation the middle-cl...</td>\n",
              "    </tr>\n",
              "    <tr>\n",
              "      <th>2</th>\n",
              "      <td>February is the shortest month in a year.</td>\n",
              "    </tr>\n",
              "    <tr>\n",
              "      <th>3</th>\n",
              "      <td>This financial year will end on 31st March.</td>\n",
              "    </tr>\n",
              "  </tbody>\n",
              "</table>\n",
              "</div>\n",
              "    <div class=\"colab-df-buttons\">\n",
              "\n",
              "  <div class=\"colab-df-container\">\n",
              "    <button class=\"colab-df-convert\" onclick=\"convertToInteractive('df-7c76be58-60c5-4335-bbec-30498bbccd93')\"\n",
              "            title=\"Convert this dataframe to an interactive table.\"\n",
              "            style=\"display:none;\">\n",
              "\n",
              "  <svg xmlns=\"http://www.w3.org/2000/svg\" height=\"24px\" viewBox=\"0 -960 960 960\">\n",
              "    <path d=\"M120-120v-720h720v720H120Zm60-500h600v-160H180v160Zm220 220h160v-160H400v160Zm0 220h160v-160H400v160ZM180-400h160v-160H180v160Zm440 0h160v-160H620v160ZM180-180h160v-160H180v160Zm440 0h160v-160H620v160Z\"/>\n",
              "  </svg>\n",
              "    </button>\n",
              "\n",
              "  <style>\n",
              "    .colab-df-container {\n",
              "      display:flex;\n",
              "      gap: 12px;\n",
              "    }\n",
              "\n",
              "    .colab-df-convert {\n",
              "      background-color: #E8F0FE;\n",
              "      border: none;\n",
              "      border-radius: 50%;\n",
              "      cursor: pointer;\n",
              "      display: none;\n",
              "      fill: #1967D2;\n",
              "      height: 32px;\n",
              "      padding: 0 0 0 0;\n",
              "      width: 32px;\n",
              "    }\n",
              "\n",
              "    .colab-df-convert:hover {\n",
              "      background-color: #E2EBFA;\n",
              "      box-shadow: 0px 1px 2px rgba(60, 64, 67, 0.3), 0px 1px 3px 1px rgba(60, 64, 67, 0.15);\n",
              "      fill: #174EA6;\n",
              "    }\n",
              "\n",
              "    .colab-df-buttons div {\n",
              "      margin-bottom: 4px;\n",
              "    }\n",
              "\n",
              "    [theme=dark] .colab-df-convert {\n",
              "      background-color: #3B4455;\n",
              "      fill: #D2E3FC;\n",
              "    }\n",
              "\n",
              "    [theme=dark] .colab-df-convert:hover {\n",
              "      background-color: #434B5C;\n",
              "      box-shadow: 0px 1px 3px 1px rgba(0, 0, 0, 0.15);\n",
              "      filter: drop-shadow(0px 1px 2px rgba(0, 0, 0, 0.3));\n",
              "      fill: #FFFFFF;\n",
              "    }\n",
              "  </style>\n",
              "\n",
              "    <script>\n",
              "      const buttonEl =\n",
              "        document.querySelector('#df-7c76be58-60c5-4335-bbec-30498bbccd93 button.colab-df-convert');\n",
              "      buttonEl.style.display =\n",
              "        google.colab.kernel.accessAllowed ? 'block' : 'none';\n",
              "\n",
              "      async function convertToInteractive(key) {\n",
              "        const element = document.querySelector('#df-7c76be58-60c5-4335-bbec-30498bbccd93');\n",
              "        const dataTable =\n",
              "          await google.colab.kernel.invokeFunction('convertToInteractive',\n",
              "                                                    [key], {});\n",
              "        if (!dataTable) return;\n",
              "\n",
              "        const docLinkHtml = 'Like what you see? Visit the ' +\n",
              "          '<a target=\"_blank\" href=https://colab.research.google.com/notebooks/data_table.ipynb>data table notebook</a>'\n",
              "          + ' to learn more about interactive tables.';\n",
              "        element.innerHTML = '';\n",
              "        dataTable['output_type'] = 'display_data';\n",
              "        await google.colab.output.renderOutput(dataTable, element);\n",
              "        const docLink = document.createElement('div');\n",
              "        docLink.innerHTML = docLinkHtml;\n",
              "        element.appendChild(docLink);\n",
              "      }\n",
              "    </script>\n",
              "  </div>\n",
              "\n",
              "\n",
              "<div id=\"df-caaa1b7f-fe51-4514-8d28-3546513dc21f\">\n",
              "  <button class=\"colab-df-quickchart\" onclick=\"quickchart('df-caaa1b7f-fe51-4514-8d28-3546513dc21f')\"\n",
              "            title=\"Suggest charts\"\n",
              "            style=\"display:none;\">\n",
              "\n",
              "<svg xmlns=\"http://www.w3.org/2000/svg\" height=\"24px\"viewBox=\"0 0 24 24\"\n",
              "     width=\"24px\">\n",
              "    <g>\n",
              "        <path d=\"M19 3H5c-1.1 0-2 .9-2 2v14c0 1.1.9 2 2 2h14c1.1 0 2-.9 2-2V5c0-1.1-.9-2-2-2zM9 17H7v-7h2v7zm4 0h-2V7h2v10zm4 0h-2v-4h2v4z\"/>\n",
              "    </g>\n",
              "</svg>\n",
              "  </button>\n",
              "\n",
              "<style>\n",
              "  .colab-df-quickchart {\n",
              "      --bg-color: #E8F0FE;\n",
              "      --fill-color: #1967D2;\n",
              "      --hover-bg-color: #E2EBFA;\n",
              "      --hover-fill-color: #174EA6;\n",
              "      --disabled-fill-color: #AAA;\n",
              "      --disabled-bg-color: #DDD;\n",
              "  }\n",
              "\n",
              "  [theme=dark] .colab-df-quickchart {\n",
              "      --bg-color: #3B4455;\n",
              "      --fill-color: #D2E3FC;\n",
              "      --hover-bg-color: #434B5C;\n",
              "      --hover-fill-color: #FFFFFF;\n",
              "      --disabled-bg-color: #3B4455;\n",
              "      --disabled-fill-color: #666;\n",
              "  }\n",
              "\n",
              "  .colab-df-quickchart {\n",
              "    background-color: var(--bg-color);\n",
              "    border: none;\n",
              "    border-radius: 50%;\n",
              "    cursor: pointer;\n",
              "    display: none;\n",
              "    fill: var(--fill-color);\n",
              "    height: 32px;\n",
              "    padding: 0;\n",
              "    width: 32px;\n",
              "  }\n",
              "\n",
              "  .colab-df-quickchart:hover {\n",
              "    background-color: var(--hover-bg-color);\n",
              "    box-shadow: 0 1px 2px rgba(60, 64, 67, 0.3), 0 1px 3px 1px rgba(60, 64, 67, 0.15);\n",
              "    fill: var(--button-hover-fill-color);\n",
              "  }\n",
              "\n",
              "  .colab-df-quickchart-complete:disabled,\n",
              "  .colab-df-quickchart-complete:disabled:hover {\n",
              "    background-color: var(--disabled-bg-color);\n",
              "    fill: var(--disabled-fill-color);\n",
              "    box-shadow: none;\n",
              "  }\n",
              "\n",
              "  .colab-df-spinner {\n",
              "    border: 2px solid var(--fill-color);\n",
              "    border-color: transparent;\n",
              "    border-bottom-color: var(--fill-color);\n",
              "    animation:\n",
              "      spin 1s steps(1) infinite;\n",
              "  }\n",
              "\n",
              "  @keyframes spin {\n",
              "    0% {\n",
              "      border-color: transparent;\n",
              "      border-bottom-color: var(--fill-color);\n",
              "      border-left-color: var(--fill-color);\n",
              "    }\n",
              "    20% {\n",
              "      border-color: transparent;\n",
              "      border-left-color: var(--fill-color);\n",
              "      border-top-color: var(--fill-color);\n",
              "    }\n",
              "    30% {\n",
              "      border-color: transparent;\n",
              "      border-left-color: var(--fill-color);\n",
              "      border-top-color: var(--fill-color);\n",
              "      border-right-color: var(--fill-color);\n",
              "    }\n",
              "    40% {\n",
              "      border-color: transparent;\n",
              "      border-right-color: var(--fill-color);\n",
              "      border-top-color: var(--fill-color);\n",
              "    }\n",
              "    60% {\n",
              "      border-color: transparent;\n",
              "      border-right-color: var(--fill-color);\n",
              "    }\n",
              "    80% {\n",
              "      border-color: transparent;\n",
              "      border-right-color: var(--fill-color);\n",
              "      border-bottom-color: var(--fill-color);\n",
              "    }\n",
              "    90% {\n",
              "      border-color: transparent;\n",
              "      border-bottom-color: var(--fill-color);\n",
              "    }\n",
              "  }\n",
              "</style>\n",
              "\n",
              "  <script>\n",
              "    async function quickchart(key) {\n",
              "      const quickchartButtonEl =\n",
              "        document.querySelector('#' + key + ' button');\n",
              "      quickchartButtonEl.disabled = true;  // To prevent multiple clicks.\n",
              "      quickchartButtonEl.classList.add('colab-df-spinner');\n",
              "      try {\n",
              "        const charts = await google.colab.kernel.invokeFunction(\n",
              "            'suggestCharts', [key], {});\n",
              "      } catch (error) {\n",
              "        console.error('Error during call to suggestCharts:', error);\n",
              "      }\n",
              "      quickchartButtonEl.classList.remove('colab-df-spinner');\n",
              "      quickchartButtonEl.classList.add('colab-df-quickchart-complete');\n",
              "    }\n",
              "    (() => {\n",
              "      let quickchartButtonEl =\n",
              "        document.querySelector('#df-caaa1b7f-fe51-4514-8d28-3546513dc21f button');\n",
              "      quickchartButtonEl.style.display =\n",
              "        google.colab.kernel.accessAllowed ? 'block' : 'none';\n",
              "    })();\n",
              "  </script>\n",
              "</div>\n",
              "\n",
              "  <div id=\"id_3fee0958-0ba5-4ee1-9750-7c1f07490436\">\n",
              "    <style>\n",
              "      .colab-df-generate {\n",
              "        background-color: #E8F0FE;\n",
              "        border: none;\n",
              "        border-radius: 50%;\n",
              "        cursor: pointer;\n",
              "        display: none;\n",
              "        fill: #1967D2;\n",
              "        height: 32px;\n",
              "        padding: 0 0 0 0;\n",
              "        width: 32px;\n",
              "      }\n",
              "\n",
              "      .colab-df-generate:hover {\n",
              "        background-color: #E2EBFA;\n",
              "        box-shadow: 0px 1px 2px rgba(60, 64, 67, 0.3), 0px 1px 3px 1px rgba(60, 64, 67, 0.15);\n",
              "        fill: #174EA6;\n",
              "      }\n",
              "\n",
              "      [theme=dark] .colab-df-generate {\n",
              "        background-color: #3B4455;\n",
              "        fill: #D2E3FC;\n",
              "      }\n",
              "\n",
              "      [theme=dark] .colab-df-generate:hover {\n",
              "        background-color: #434B5C;\n",
              "        box-shadow: 0px 1px 3px 1px rgba(0, 0, 0, 0.15);\n",
              "        filter: drop-shadow(0px 1px 2px rgba(0, 0, 0, 0.3));\n",
              "        fill: #FFFFFF;\n",
              "      }\n",
              "    </style>\n",
              "    <button class=\"colab-df-generate\" onclick=\"generateWithVariable('df')\"\n",
              "            title=\"Generate code using this dataframe.\"\n",
              "            style=\"display:none;\">\n",
              "\n",
              "  <svg xmlns=\"http://www.w3.org/2000/svg\" height=\"24px\"viewBox=\"0 0 24 24\"\n",
              "       width=\"24px\">\n",
              "    <path d=\"M7,19H8.4L18.45,9,17,7.55,7,17.6ZM5,21V16.75L18.45,3.32a2,2,0,0,1,2.83,0l1.4,1.43a1.91,1.91,0,0,1,.58,1.4,1.91,1.91,0,0,1-.58,1.4L9.25,21ZM18.45,9,17,7.55Zm-12,3A5.31,5.31,0,0,0,4.9,8.1,5.31,5.31,0,0,0,1,6.5,5.31,5.31,0,0,0,4.9,4.9,5.31,5.31,0,0,0,6.5,1,5.31,5.31,0,0,0,8.1,4.9,5.31,5.31,0,0,0,12,6.5,5.46,5.46,0,0,0,6.5,12Z\"/>\n",
              "  </svg>\n",
              "    </button>\n",
              "    <script>\n",
              "      (() => {\n",
              "      const buttonEl =\n",
              "        document.querySelector('#id_3fee0958-0ba5-4ee1-9750-7c1f07490436 button.colab-df-generate');\n",
              "      buttonEl.style.display =\n",
              "        google.colab.kernel.accessAllowed ? 'block' : 'none';\n",
              "\n",
              "      buttonEl.onclick = () => {\n",
              "        google.colab.notebook.generateWithVariable('df');\n",
              "      }\n",
              "      })();\n",
              "    </script>\n",
              "  </div>\n",
              "\n",
              "    </div>\n",
              "  </div>\n"
            ],
            "application/vnd.google.colaboratory.intrinsic+json": {
              "type": "dataframe",
              "variable_name": "df",
              "summary": "{\n  \"name\": \"df\",\n  \"rows\": 4,\n  \"fields\": [\n    {\n      \"column\": 0,\n      \"properties\": {\n        \"dtype\": \"string\",\n        \"samples\": [\n          \"Do you know how much expectation the middle-class working population is having from this budget?\",\n          \"This financial year will end on 31st March.\",\n          \"The interim budget for 2019 will be announced on 1st February.\"\n        ],\n        \"num_unique_values\": 4,\n        \"semantic_type\": \"\",\n        \"description\": \"\"\n      }\n    }\n  ]\n}"
            }
          },
          "metadata": {},
          "execution_count": 72
        }
      ]
    },
    {
      "cell_type": "code",
      "source": [
        "df.columns = ['text']\n",
        "df"
      ],
      "metadata": {
        "colab": {
          "base_uri": "https://localhost:8080/",
          "height": 175
        },
        "id": "Cgqjap7VfEs-",
        "outputId": "0669b73d-7cd2-45dc-8f13-4c119ff47965"
      },
      "execution_count": 73,
      "outputs": [
        {
          "output_type": "execute_result",
          "data": {
            "text/plain": [
              "                                                text\n",
              "0  The interim budget for 2019 will be announced ...\n",
              "1  Do you know how much expectation the middle-cl...\n",
              "2          February is the shortest month in a year.\n",
              "3        This financial year will end on 31st March."
            ],
            "text/html": [
              "\n",
              "  <div id=\"df-c0b31f4e-8569-4b9c-841f-ba34532a3c03\" class=\"colab-df-container\">\n",
              "    <div>\n",
              "<style scoped>\n",
              "    .dataframe tbody tr th:only-of-type {\n",
              "        vertical-align: middle;\n",
              "    }\n",
              "\n",
              "    .dataframe tbody tr th {\n",
              "        vertical-align: top;\n",
              "    }\n",
              "\n",
              "    .dataframe thead th {\n",
              "        text-align: right;\n",
              "    }\n",
              "</style>\n",
              "<table border=\"1\" class=\"dataframe\">\n",
              "  <thead>\n",
              "    <tr style=\"text-align: right;\">\n",
              "      <th></th>\n",
              "      <th>text</th>\n",
              "    </tr>\n",
              "  </thead>\n",
              "  <tbody>\n",
              "    <tr>\n",
              "      <th>0</th>\n",
              "      <td>The interim budget for 2019 will be announced ...</td>\n",
              "    </tr>\n",
              "    <tr>\n",
              "      <th>1</th>\n",
              "      <td>Do you know how much expectation the middle-cl...</td>\n",
              "    </tr>\n",
              "    <tr>\n",
              "      <th>2</th>\n",
              "      <td>February is the shortest month in a year.</td>\n",
              "    </tr>\n",
              "    <tr>\n",
              "      <th>3</th>\n",
              "      <td>This financial year will end on 31st March.</td>\n",
              "    </tr>\n",
              "  </tbody>\n",
              "</table>\n",
              "</div>\n",
              "    <div class=\"colab-df-buttons\">\n",
              "\n",
              "  <div class=\"colab-df-container\">\n",
              "    <button class=\"colab-df-convert\" onclick=\"convertToInteractive('df-c0b31f4e-8569-4b9c-841f-ba34532a3c03')\"\n",
              "            title=\"Convert this dataframe to an interactive table.\"\n",
              "            style=\"display:none;\">\n",
              "\n",
              "  <svg xmlns=\"http://www.w3.org/2000/svg\" height=\"24px\" viewBox=\"0 -960 960 960\">\n",
              "    <path d=\"M120-120v-720h720v720H120Zm60-500h600v-160H180v160Zm220 220h160v-160H400v160Zm0 220h160v-160H400v160ZM180-400h160v-160H180v160Zm440 0h160v-160H620v160ZM180-180h160v-160H180v160Zm440 0h160v-160H620v160Z\"/>\n",
              "  </svg>\n",
              "    </button>\n",
              "\n",
              "  <style>\n",
              "    .colab-df-container {\n",
              "      display:flex;\n",
              "      gap: 12px;\n",
              "    }\n",
              "\n",
              "    .colab-df-convert {\n",
              "      background-color: #E8F0FE;\n",
              "      border: none;\n",
              "      border-radius: 50%;\n",
              "      cursor: pointer;\n",
              "      display: none;\n",
              "      fill: #1967D2;\n",
              "      height: 32px;\n",
              "      padding: 0 0 0 0;\n",
              "      width: 32px;\n",
              "    }\n",
              "\n",
              "    .colab-df-convert:hover {\n",
              "      background-color: #E2EBFA;\n",
              "      box-shadow: 0px 1px 2px rgba(60, 64, 67, 0.3), 0px 1px 3px 1px rgba(60, 64, 67, 0.15);\n",
              "      fill: #174EA6;\n",
              "    }\n",
              "\n",
              "    .colab-df-buttons div {\n",
              "      margin-bottom: 4px;\n",
              "    }\n",
              "\n",
              "    [theme=dark] .colab-df-convert {\n",
              "      background-color: #3B4455;\n",
              "      fill: #D2E3FC;\n",
              "    }\n",
              "\n",
              "    [theme=dark] .colab-df-convert:hover {\n",
              "      background-color: #434B5C;\n",
              "      box-shadow: 0px 1px 3px 1px rgba(0, 0, 0, 0.15);\n",
              "      filter: drop-shadow(0px 1px 2px rgba(0, 0, 0, 0.3));\n",
              "      fill: #FFFFFF;\n",
              "    }\n",
              "  </style>\n",
              "\n",
              "    <script>\n",
              "      const buttonEl =\n",
              "        document.querySelector('#df-c0b31f4e-8569-4b9c-841f-ba34532a3c03 button.colab-df-convert');\n",
              "      buttonEl.style.display =\n",
              "        google.colab.kernel.accessAllowed ? 'block' : 'none';\n",
              "\n",
              "      async function convertToInteractive(key) {\n",
              "        const element = document.querySelector('#df-c0b31f4e-8569-4b9c-841f-ba34532a3c03');\n",
              "        const dataTable =\n",
              "          await google.colab.kernel.invokeFunction('convertToInteractive',\n",
              "                                                    [key], {});\n",
              "        if (!dataTable) return;\n",
              "\n",
              "        const docLinkHtml = 'Like what you see? Visit the ' +\n",
              "          '<a target=\"_blank\" href=https://colab.research.google.com/notebooks/data_table.ipynb>data table notebook</a>'\n",
              "          + ' to learn more about interactive tables.';\n",
              "        element.innerHTML = '';\n",
              "        dataTable['output_type'] = 'display_data';\n",
              "        await google.colab.output.renderOutput(dataTable, element);\n",
              "        const docLink = document.createElement('div');\n",
              "        docLink.innerHTML = docLinkHtml;\n",
              "        element.appendChild(docLink);\n",
              "      }\n",
              "    </script>\n",
              "  </div>\n",
              "\n",
              "\n",
              "<div id=\"df-20ff0abd-75ce-45ec-a233-88501af86a8d\">\n",
              "  <button class=\"colab-df-quickchart\" onclick=\"quickchart('df-20ff0abd-75ce-45ec-a233-88501af86a8d')\"\n",
              "            title=\"Suggest charts\"\n",
              "            style=\"display:none;\">\n",
              "\n",
              "<svg xmlns=\"http://www.w3.org/2000/svg\" height=\"24px\"viewBox=\"0 0 24 24\"\n",
              "     width=\"24px\">\n",
              "    <g>\n",
              "        <path d=\"M19 3H5c-1.1 0-2 .9-2 2v14c0 1.1.9 2 2 2h14c1.1 0 2-.9 2-2V5c0-1.1-.9-2-2-2zM9 17H7v-7h2v7zm4 0h-2V7h2v10zm4 0h-2v-4h2v4z\"/>\n",
              "    </g>\n",
              "</svg>\n",
              "  </button>\n",
              "\n",
              "<style>\n",
              "  .colab-df-quickchart {\n",
              "      --bg-color: #E8F0FE;\n",
              "      --fill-color: #1967D2;\n",
              "      --hover-bg-color: #E2EBFA;\n",
              "      --hover-fill-color: #174EA6;\n",
              "      --disabled-fill-color: #AAA;\n",
              "      --disabled-bg-color: #DDD;\n",
              "  }\n",
              "\n",
              "  [theme=dark] .colab-df-quickchart {\n",
              "      --bg-color: #3B4455;\n",
              "      --fill-color: #D2E3FC;\n",
              "      --hover-bg-color: #434B5C;\n",
              "      --hover-fill-color: #FFFFFF;\n",
              "      --disabled-bg-color: #3B4455;\n",
              "      --disabled-fill-color: #666;\n",
              "  }\n",
              "\n",
              "  .colab-df-quickchart {\n",
              "    background-color: var(--bg-color);\n",
              "    border: none;\n",
              "    border-radius: 50%;\n",
              "    cursor: pointer;\n",
              "    display: none;\n",
              "    fill: var(--fill-color);\n",
              "    height: 32px;\n",
              "    padding: 0;\n",
              "    width: 32px;\n",
              "  }\n",
              "\n",
              "  .colab-df-quickchart:hover {\n",
              "    background-color: var(--hover-bg-color);\n",
              "    box-shadow: 0 1px 2px rgba(60, 64, 67, 0.3), 0 1px 3px 1px rgba(60, 64, 67, 0.15);\n",
              "    fill: var(--button-hover-fill-color);\n",
              "  }\n",
              "\n",
              "  .colab-df-quickchart-complete:disabled,\n",
              "  .colab-df-quickchart-complete:disabled:hover {\n",
              "    background-color: var(--disabled-bg-color);\n",
              "    fill: var(--disabled-fill-color);\n",
              "    box-shadow: none;\n",
              "  }\n",
              "\n",
              "  .colab-df-spinner {\n",
              "    border: 2px solid var(--fill-color);\n",
              "    border-color: transparent;\n",
              "    border-bottom-color: var(--fill-color);\n",
              "    animation:\n",
              "      spin 1s steps(1) infinite;\n",
              "  }\n",
              "\n",
              "  @keyframes spin {\n",
              "    0% {\n",
              "      border-color: transparent;\n",
              "      border-bottom-color: var(--fill-color);\n",
              "      border-left-color: var(--fill-color);\n",
              "    }\n",
              "    20% {\n",
              "      border-color: transparent;\n",
              "      border-left-color: var(--fill-color);\n",
              "      border-top-color: var(--fill-color);\n",
              "    }\n",
              "    30% {\n",
              "      border-color: transparent;\n",
              "      border-left-color: var(--fill-color);\n",
              "      border-top-color: var(--fill-color);\n",
              "      border-right-color: var(--fill-color);\n",
              "    }\n",
              "    40% {\n",
              "      border-color: transparent;\n",
              "      border-right-color: var(--fill-color);\n",
              "      border-top-color: var(--fill-color);\n",
              "    }\n",
              "    60% {\n",
              "      border-color: transparent;\n",
              "      border-right-color: var(--fill-color);\n",
              "    }\n",
              "    80% {\n",
              "      border-color: transparent;\n",
              "      border-right-color: var(--fill-color);\n",
              "      border-bottom-color: var(--fill-color);\n",
              "    }\n",
              "    90% {\n",
              "      border-color: transparent;\n",
              "      border-bottom-color: var(--fill-color);\n",
              "    }\n",
              "  }\n",
              "</style>\n",
              "\n",
              "  <script>\n",
              "    async function quickchart(key) {\n",
              "      const quickchartButtonEl =\n",
              "        document.querySelector('#' + key + ' button');\n",
              "      quickchartButtonEl.disabled = true;  // To prevent multiple clicks.\n",
              "      quickchartButtonEl.classList.add('colab-df-spinner');\n",
              "      try {\n",
              "        const charts = await google.colab.kernel.invokeFunction(\n",
              "            'suggestCharts', [key], {});\n",
              "      } catch (error) {\n",
              "        console.error('Error during call to suggestCharts:', error);\n",
              "      }\n",
              "      quickchartButtonEl.classList.remove('colab-df-spinner');\n",
              "      quickchartButtonEl.classList.add('colab-df-quickchart-complete');\n",
              "    }\n",
              "    (() => {\n",
              "      let quickchartButtonEl =\n",
              "        document.querySelector('#df-20ff0abd-75ce-45ec-a233-88501af86a8d button');\n",
              "      quickchartButtonEl.style.display =\n",
              "        google.colab.kernel.accessAllowed ? 'block' : 'none';\n",
              "    })();\n",
              "  </script>\n",
              "</div>\n",
              "\n",
              "  <div id=\"id_32acee8d-f1bc-4f2a-947c-e504c2ed77f9\">\n",
              "    <style>\n",
              "      .colab-df-generate {\n",
              "        background-color: #E8F0FE;\n",
              "        border: none;\n",
              "        border-radius: 50%;\n",
              "        cursor: pointer;\n",
              "        display: none;\n",
              "        fill: #1967D2;\n",
              "        height: 32px;\n",
              "        padding: 0 0 0 0;\n",
              "        width: 32px;\n",
              "      }\n",
              "\n",
              "      .colab-df-generate:hover {\n",
              "        background-color: #E2EBFA;\n",
              "        box-shadow: 0px 1px 2px rgba(60, 64, 67, 0.3), 0px 1px 3px 1px rgba(60, 64, 67, 0.15);\n",
              "        fill: #174EA6;\n",
              "      }\n",
              "\n",
              "      [theme=dark] .colab-df-generate {\n",
              "        background-color: #3B4455;\n",
              "        fill: #D2E3FC;\n",
              "      }\n",
              "\n",
              "      [theme=dark] .colab-df-generate:hover {\n",
              "        background-color: #434B5C;\n",
              "        box-shadow: 0px 1px 3px 1px rgba(0, 0, 0, 0.15);\n",
              "        filter: drop-shadow(0px 1px 2px rgba(0, 0, 0, 0.3));\n",
              "        fill: #FFFFFF;\n",
              "      }\n",
              "    </style>\n",
              "    <button class=\"colab-df-generate\" onclick=\"generateWithVariable('df')\"\n",
              "            title=\"Generate code using this dataframe.\"\n",
              "            style=\"display:none;\">\n",
              "\n",
              "  <svg xmlns=\"http://www.w3.org/2000/svg\" height=\"24px\"viewBox=\"0 0 24 24\"\n",
              "       width=\"24px\">\n",
              "    <path d=\"M7,19H8.4L18.45,9,17,7.55,7,17.6ZM5,21V16.75L18.45,3.32a2,2,0,0,1,2.83,0l1.4,1.43a1.91,1.91,0,0,1,.58,1.4,1.91,1.91,0,0,1-.58,1.4L9.25,21ZM18.45,9,17,7.55Zm-12,3A5.31,5.31,0,0,0,4.9,8.1,5.31,5.31,0,0,0,1,6.5,5.31,5.31,0,0,0,4.9,4.9,5.31,5.31,0,0,0,6.5,1,5.31,5.31,0,0,0,8.1,4.9,5.31,5.31,0,0,0,12,6.5,5.46,5.46,0,0,0,6.5,12Z\"/>\n",
              "  </svg>\n",
              "    </button>\n",
              "    <script>\n",
              "      (() => {\n",
              "      const buttonEl =\n",
              "        document.querySelector('#id_32acee8d-f1bc-4f2a-947c-e504c2ed77f9 button.colab-df-generate');\n",
              "      buttonEl.style.display =\n",
              "        google.colab.kernel.accessAllowed ? 'block' : 'none';\n",
              "\n",
              "      buttonEl.onclick = () => {\n",
              "        google.colab.notebook.generateWithVariable('df');\n",
              "      }\n",
              "      })();\n",
              "    </script>\n",
              "  </div>\n",
              "\n",
              "    </div>\n",
              "  </div>\n"
            ],
            "application/vnd.google.colaboratory.intrinsic+json": {
              "type": "dataframe",
              "variable_name": "df",
              "summary": "{\n  \"name\": \"df\",\n  \"rows\": 4,\n  \"fields\": [\n    {\n      \"column\": \"text\",\n      \"properties\": {\n        \"dtype\": \"string\",\n        \"samples\": [\n          \"Do you know how much expectation the middle-class working population is having from this budget?\",\n          \"This financial year will end on 31st March.\",\n          \"The interim budget for 2019 will be announced on 1st February.\"\n        ],\n        \"num_unique_values\": 4,\n        \"semantic_type\": \"\",\n        \"description\": \"\"\n      }\n    }\n  ]\n}"
            }
          },
          "metadata": {},
          "execution_count": 73
        }
      ]
    },
    {
      "cell_type": "markdown",
      "source": [
        "We will use the apply function to iterate through each row of the column adn convert them to TextBlob objects and extract wrods from them"
      ],
      "metadata": {
        "id": "tbg-ybeAfPfO"
      }
    },
    {
      "cell_type": "code",
      "source": [
        "df['number_of_words'] = df['text'].apply(lambda x : len(TextBlob(str(x)).words))\n",
        "df['number_of_words']"
      ],
      "metadata": {
        "colab": {
          "base_uri": "https://localhost:8080/"
        },
        "id": "DEqEiTa-fe0r",
        "outputId": "c07e564a-0637-4ad9-86b9-191b18d5ec89"
      },
      "execution_count": 74,
      "outputs": [
        {
          "output_type": "execute_result",
          "data": {
            "text/plain": [
              "0    11\n",
              "1    15\n",
              "2     8\n",
              "3     8\n",
              "Name: number_of_words, dtype: int64"
            ]
          },
          "metadata": {},
          "execution_count": 74
        }
      ]
    },
    {
      "cell_type": "markdown",
      "source": [
        "TextBlob is a Python library for processing textual data. It provides a simple API for diving into common natural language processing (NLP) tasks.\n",
        "\n",
        "2. `df['number_of_words'] = df['text'].apply(lambda x : len(TextBlob(str(x)).words))`: This line is applying a lambda function to the 'text' column of the dataframe `df`. - `lambda x : len(TextBlob(str(x)).words)`: This is a lambda function that is taking a single argument `x` (each row of 'text' column) and converting it to string format. Then, TextBlob is used to perform word tokenization, which is a process of splitting a large paragraph into words. The `len()` function gives the total number of words. - `df['text'].apply()`: Here, the apply function is used in pandas to apply a function along an axis of the DataFrame. This function is being applied to each value in the 'text' column of the dataframe. - `df['number_of_words'] = `: The result (number of words) is then stored in a new column called 'number_of_words' in the dataframe.\n",
        "\n",
        "3. `df['number_of_words']`: This line simply outputs the dataframe column 'number_of_words' where each row represents the number of words in the corresponding row of the 'text' column."
      ],
      "metadata": {
        "id": "Ny1hT16Igls5"
      }
    },
    {
      "cell_type": "markdown",
      "source": [
        "we make use of the apply function to iterate through each row of the column text, convert them to TextBlob objects, and extract the words from them to check whether any of the words belong to the list of wh words. \"wh-\" words (words beginning with \"wh\"), the polarity, the subjectivity, and the language in which the text is written"
      ],
      "metadata": {
        "id": "E2BHfCsGgxI0"
      }
    },
    {
      "cell_type": "code",
      "source": [
        "wh_words = set(['why', 'who', 'which', 'what', 'where', 'when', 'how'])\n",
        "df['is_wh_words_present'] = df['text'].apply(lambda x : True if \\\n",
        "                                             len(set(TextBlob(str(x)).words).intersection(wh_words))>0 else False)\n",
        "df['is_wh_words_present']"
      ],
      "metadata": {
        "colab": {
          "base_uri": "https://localhost:8080/"
        },
        "id": "Vh5DdxRnhHDm",
        "outputId": "2f51ba28-08be-40aa-9b53-d331bc3c4ebd"
      },
      "execution_count": 75,
      "outputs": [
        {
          "output_type": "execute_result",
          "data": {
            "text/plain": [
              "0    False\n",
              "1     True\n",
              "2    False\n",
              "3    False\n",
              "Name: is_wh_words_present, dtype: bool"
            ]
          },
          "metadata": {},
          "execution_count": 75
        }
      ]
    },
    {
      "cell_type": "markdown",
      "source": [
        "1. Creates a set of WH words (usually used in questions). These words include 'why', 'who', 'which', 'what', 'where', 'when', 'how'.\n",
        "\n",
        "2. Next, we will apply a lambda function to every row of the column 'text' in the dataframe 'df'. For each row, it creates a string representation (just in case if it's not already a string) of 'text' and converts it into a TextBlob object.\n",
        "\n",
        "3. we will split the text in each row into a set of words using the 'words' attribute of TextBlob.\n",
        "\n",
        "4. We will compute the intersection of this set with the set of WH words.\n",
        "\n",
        "5. If the intersection set has an element count more than 0, it means that there are WH words present in the 'text', hence it returns True, otherwise it returns False.6. It finally creates a new column 'is_wh_words_present' in the dataframe 'df' with this resulting True or False value for each row.\n",
        "\n",
        "7. The last line is just the display of 'is_wh_words_present' column from the dataframe."
      ],
      "metadata": {
        "id": "GaoiAn8liWze"
      }
    },
    {
      "cell_type": "code",
      "source": [
        "# We will use the apply function to iterate through each row of the column text, convert them to TextBlob objects and extraxt their sentiment scores\n",
        "\n",
        "df['polarity'] = df['text'].apply(lambda x : TextBlob(str(x)).sentiment.polarity)\n",
        "df['polarity']"
      ],
      "metadata": {
        "colab": {
          "base_uri": "https://localhost:8080/"
        },
        "id": "yxlpRPtKisLK",
        "outputId": "5ba60af6-41af-4265-f228-835fa355d713"
      },
      "execution_count": 76,
      "outputs": [
        {
          "output_type": "execute_result",
          "data": {
            "text/plain": [
              "0    0.0\n",
              "1    0.2\n",
              "2    0.0\n",
              "3    0.0\n",
              "Name: polarity, dtype: float64"
            ]
          },
          "metadata": {},
          "execution_count": 76
        }
      ]
    },
    {
      "cell_type": "markdown",
      "source": [
        "The `.sentiment` property returns a namedtuple of the form `Sentiment(polarity, subjectivity)`. The polarity score is a float within the range [-1.0, 1.0]. A score closer to -1 indicates a more negative sentiment, a score closer to 1 indicates a more positive sentiment, and a score around 0 indicates a neutral sentiment.- So, `TextBlob(str(x)).sentiment.polarity` returns the polarity of the text `x`.- `df['polarity'] = df['text'].apply(lambda x : TextBlob(str(x)).sentiment.polarity)` is assigning this computed sentiment polarity value for each text in the DataFrame to a new column 'polarity' in the DataFrame.- The return statement, `df['polarity']`, will simply return the newly created 'polarity' column from the DataFrame that contains the calculated sentiment polarities"
      ],
      "metadata": {
        "id": "X0YBux0ckhdc"
      }
    },
    {
      "cell_type": "markdown",
      "source": [
        "We will use the apply function to iterate through each row of the column text and convert them to the TextBlob objects and extract their subjectivity scores"
      ],
      "metadata": {
        "id": "z9zAhTBCqZ8Y"
      }
    },
    {
      "cell_type": "code",
      "source": [
        "df['subjectivity'] = df['text'].apply(lambda x : TextBlob(str(x)).sentiment.subjectivity)\n",
        "df['subjectivity']"
      ],
      "metadata": {
        "colab": {
          "base_uri": "https://localhost:8080/"
        },
        "id": "MFN8zuIeqkSX",
        "outputId": "6bb4db73-6839-4266-b11d-126cfffdd20b"
      },
      "execution_count": 77,
      "outputs": [
        {
          "output_type": "execute_result",
          "data": {
            "text/plain": [
              "0    0.0\n",
              "1    0.2\n",
              "2    0.0\n",
              "3    0.0\n",
              "Name: subjectivity, dtype: float64"
            ]
          },
          "metadata": {},
          "execution_count": 77
        }
      ]
    },
    {
      "cell_type": "markdown",
      "source": [
        "We will use the apply function to iterate through each row of the column text and convert them to the TextBlob objects and detect their langauges"
      ],
      "metadata": {
        "id": "gi9gQHxeqzBa"
      }
    },
    {
      "cell_type": "code",
      "source": [
        "!pip install langdetect\n",
        "from langdetect import detect\n",
        "df['Language'] = df['text'].map(lambda x: detect(x))"
      ],
      "metadata": {
        "colab": {
          "base_uri": "https://localhost:8080/"
        },
        "id": "Rx0KLiRTrhbY",
        "outputId": "6aa11aee-e303-45ed-9af9-b1fc51770c4c"
      },
      "execution_count": 78,
      "outputs": [
        {
          "output_type": "stream",
          "name": "stdout",
          "text": [
            "Requirement already satisfied: langdetect in /usr/local/lib/python3.10/dist-packages (1.0.9)\n",
            "Requirement already satisfied: six in /usr/local/lib/python3.10/dist-packages (from langdetect) (1.16.0)\n"
          ]
        }
      ]
    },
    {
      "cell_type": "code",
      "source": [
        "df['Language']"
      ],
      "metadata": {
        "colab": {
          "base_uri": "https://localhost:8080/"
        },
        "id": "SgomAmvCq4EB",
        "outputId": "66517102-e006-464f-b09a-81460978f816"
      },
      "execution_count": 79,
      "outputs": [
        {
          "output_type": "execute_result",
          "data": {
            "text/plain": [
              "0    en\n",
              "1    en\n",
              "2    en\n",
              "3    en\n",
              "Name: Language, dtype: object"
            ]
          },
          "metadata": {},
          "execution_count": 79
        }
      ]
    },
    {
      "cell_type": "markdown",
      "source": [
        "**Zipf's Law**\n",
        "\n",
        "\n",
        "Zipf's Law, named after linguist George Zipf, is a statistical principle that describes the frequency distribution of words in a natural language. It states that in any large corpus of text, the frequency of a word is inversely proportional to its rank in the frequency table. In simpler terms, Zipf's Law suggests that a few words occur very frequently, while the majority of words occur infrequently."
      ],
      "metadata": {
        "id": "_TF5ndDiScsk"
      }
    },
    {
      "cell_type": "code",
      "source": [
        "from pylab import *\n",
        "import nltk\n",
        "nltk.download('stopwords')\n",
        "from sklearn.datasets import fetch_20newsgroups\n",
        "from nltk import word_tokenize\n",
        "from nltk.corpus import stopwords\n",
        "import matplotlib.pyplot as plt\n",
        "%matplotlib inline\n",
        "import re\n",
        "import string\n",
        "from collections import Counter\n",
        "newsgroups_data_sample = fetch_20newsgroups(subset='train')"
      ],
      "metadata": {
        "colab": {
          "base_uri": "https://localhost:8080/"
        },
        "id": "D8eT7EKcVoCL",
        "outputId": "12434784-eb8b-414b-9b50-cdab89db2749"
      },
      "execution_count": 80,
      "outputs": [
        {
          "output_type": "stream",
          "name": "stderr",
          "text": [
            "[nltk_data] Downloading package stopwords to /root/nltk_data...\n",
            "[nltk_data]   Unzipping corpora/stopwords.zip.\n"
          ]
        }
      ]
    },
    {
      "cell_type": "markdown",
      "source": [
        "1. `from pylab import *` This line imports all the functions from the pylab module, which is a part of matplotlib (a plotting library). The pylab interface is generally used for interactive use.\n",
        "\n",
        "2. `import nltk` This imports the NLTK module, a library in python that provides tools for text processing, such as classification, tokenization, stemming, tagging, parsing, semantic reasoning, etc.\n",
        "\n",
        "3. `nltk.download('stopwords')` Here, the NLTK library is used to download the 'stopwords' package. Stop words are common words that are often removed in Natural Language Processing (NLP) to save space and speed up processing.\n",
        "\n",
        "4. `from sklearn.datasets import fetch_20newsgroups` This line imports the 'fetch_20newsgroups' function from the 'sklearn.datasets' module. It is used to load the '20 newsgroups' dataset, which is a collection of approximately 20,000 newsgroup documents, partitioned across 20 different newsgroups.\n",
        "\n",
        "5. `from nltk import word_tokenize` This line imports the word_tokenize function from NLTK, which is used to split a sentence into words.\n",
        "\n",
        "6. `from nltk.corpus import stopwords` This line imports the 'stopwords' corpus using NLTK. This corpus contains stop words in several languages.\n",
        "\n",
        "7. `import matplotlib.pyplot as plt` Here, we import pyplot, a matplotlib module which provides a MATLAB-like interface and is generally used for creating plots and charts.\n",
        "\n",
        "8. `%matplotlib inline` This line is a magic function in IPython that lets you view matplotlib plots directly in the notebook.\n",
        "\n",
        "9. `import re` This imports the 're' module that provides support for regular expressions in Python.\n",
        "\n",
        "10. `import string` This imports the string module which contains various string constant and useful functions.\n",
        "\n",
        "11. `from collections import Counter` This imports the Counter class from the collections module. Counter is a dict subclass for counting hashable objects.\n",
        "\n",
        "12. `newsgroups_data_sample = fetch_20newsgroups(subset='train')` It loads the training subset of the '20 newsgroups' data set, and saves it in the variable 'newsgroups_data_sample'."
      ],
      "metadata": {
        "id": "CP1ULZGhXYsm"
      }
    },
    {
      "cell_type": "code",
      "source": [
        "# add individualk printable characters to get a list of stop words\n",
        "\n",
        "stop_words = stopwords.words('english')\n",
        "stop_words = stop_words + list(string.printable)"
      ],
      "metadata": {
        "id": "p9QFHjcGXvkw"
      },
      "execution_count": 81,
      "outputs": []
    },
    {
      "cell_type": "markdown",
      "source": [
        "stop_words = stopwords.words('english')`. It will initialize a list of English stop words, these are commonly used words that a machine learning algorithm or a data analysis tool might want to ignore, so we use NLTK to get a list of these words.\n",
        "`stop_words = stop_words + list(string.printable)` will add all printable characters (including digits, letters, punctuation, and whitespace) to the list of stop words. string.printable in Python includes all printable characters, including digits, letters, punctuation, and whitespace.\n",
        "\n",
        "By converting it to a list and adding, it is ensuring that these too are considered as stop words.So, to put it simply, it is creating a list of words and characters to ignore during text processing."
      ],
      "metadata": {
        "id": "-z-Ze2U3YoKc"
      }
    },
    {
      "cell_type": "code",
      "source": [
        "tokenized_corpus = [word.lower() for sentence in newsgroups_data_sample['data'] \\\n",
        "for word in word_tokenize(re.sub(r'([^\\s\\w]|_)+', ' ', sentence)) \\\n",
        "if word.lower() not in stop_words]"
      ],
      "metadata": {
        "id": "z-odahaPY6CD"
      },
      "execution_count": 82,
      "outputs": []
    },
    {
      "cell_type": "markdown",
      "source": [
        "The code above creates a new list called `tokenized_corpus`, based on the `data` list in dictionary `newsgroups_data_sample`. The `data` list is presumably a list of sentences. It will go through each sentence and through every word and it manipulates these words in several ways:\n",
        "\n",
        "First it takes a sentence from `newsgroups_data_sample['data']`, saves it in the `sentence` variable. - Then it applies the `re.sub(r'([^\\s\\w]|_)+', ' ', sentence)` function to the current sentence. The `re.sub()` function is from the re module and is used for string replacements. The pattern `r'([^\\s\\w]|_)+'` is a regular expression pattern, it matches all characters not being a whitespace (`\\s`) or word character (`\\w`) (where word characters are letters, numbers and underscores). The result of this operation is replacing all the non-alphanumeric characters in the sentence by a whitespace.\n",
        "\n",
        "After that, it uses the `word_tokenize()` function from the nltk library on the resulting sentence, which will split the sentence into individual words (tokens). It saves these words in the `word` variable.\n",
        "\n",
        "The `word.lower()` operation converts the word to lowercase. This ensures that the same word in different cases will be treated as the same word.\n",
        "\n",
        "Finally, `if word.lower() not in stop_words`. This is a condition that the current word should not be in the `stop_words` set. Stop words (like 'is', 'in', 'the', etc.) are common words in a language that are usually removed during text preprocessing because they occur very frequently but don't carry much information.\n",
        "\n",
        "So in simple terms, it is Lower casing and removing punctuation marks and stop words from all the sentences present in 'data' in the 'newsgroups_data_sample' dictionary."
      ],
      "metadata": {
        "id": "taDV3Fqzadyf"
      }
    },
    {
      "cell_type": "code",
      "source": [
        "# We will calcualte the frequency of each token\n",
        "\n",
        "token_count_di = Counter(tokenized_corpus)\n",
        "token_count_di.most_common(50)"
      ],
      "metadata": {
        "colab": {
          "base_uri": "https://localhost:8080/"
        },
        "id": "rrY3w75_avjT",
        "outputId": "dba9e33b-dc46-47e3-eb27-22e47549a0b2"
      },
      "execution_count": 83,
      "outputs": [
        {
          "output_type": "execute_result",
          "data": {
            "text/plain": [
              "[('ax', 62412),\n",
              " ('edu', 21321),\n",
              " ('subject', 12265),\n",
              " ('com', 12134),\n",
              " ('lines', 11835),\n",
              " ('organization', 11233),\n",
              " ('one', 9017),\n",
              " ('would', 8910),\n",
              " ('writes', 7844),\n",
              " ('article', 7438),\n",
              " ('people', 5977),\n",
              " ('like', 5868),\n",
              " ('university', 5589),\n",
              " ('posting', 5507),\n",
              " ('know', 5134),\n",
              " ('get', 4998),\n",
              " ('host', 4996),\n",
              " ('nntp', 4814),\n",
              " ('max', 4776),\n",
              " ('think', 4583),\n",
              " ('also', 4308),\n",
              " ('use', 4187),\n",
              " ('time', 4102),\n",
              " ('new', 3986),\n",
              " ('good', 3759),\n",
              " ('ca', 3546),\n",
              " ('could', 3511),\n",
              " ('well', 3480),\n",
              " ('us', 3364),\n",
              " ('may', 3313),\n",
              " ('even', 3280),\n",
              " ('see', 3065),\n",
              " ('cs', 3041),\n",
              " ('two', 3015),\n",
              " ('way', 3002),\n",
              " ('god', 2998),\n",
              " ('first', 2976),\n",
              " ('many', 2945),\n",
              " ('make', 2894),\n",
              " ('much', 2879),\n",
              " ('system', 2817),\n",
              " ('distribution', 2767),\n",
              " ('right', 2742),\n",
              " ('world', 2724),\n",
              " ('say', 2706),\n",
              " ('want', 2522),\n",
              " ('go', 2474),\n",
              " ('anyone', 2468),\n",
              " ('10', 2466),\n",
              " ('reply', 2463)]"
            ]
          },
          "metadata": {},
          "execution_count": 83
        }
      ]
    },
    {
      "cell_type": "code",
      "source": [
        "# We do need to plot the tacutal ranks and frequencies of the tokens along with the expected ranks and frequencies per Zipf's law\n",
        "\n",
        "frequencies = [b for (a,b) in token_count_di.most_common(10000)]\n",
        "tokens = [a for (a,b) in token_count_di.most_common(10000)]\n",
        "ranks = range(1, len(frequencies)+1)\n",
        "plt.figure(figsize=(8,8))\n",
        "plt.ylim(1,10**4)\n",
        "plt.xlim(1,10**4)\n",
        "#Actual ranks and frequencies\n",
        "obtained_line, = loglog(ranks, frequencies, marker=\".\", label=\"Line obtained from the Text Corpus\")\n",
        "obtained_legend = plt.legend(handles=[obtained_line], loc=1)\n",
        "ax = plt.gca().add_artist(obtained_legend)\n",
        "#Expected ranks and frequencies as per Zipf's law\n",
        "expected_line, = plt.plot([1,frequencies[0]],[frequencies[0],1],color='r',label=\"Line expected as per Zipf's Law\")\n",
        "plt.legend(handles=[expected_line], loc=4)\n",
        "title(\"Plot stating Zipf law's in log-log scale\")\n",
        "xlabel(\"Rank of token in descending order of frequency of occurrence\")\n",
        "ylabel(\"Frequency of ocurrence of token\")\n",
        "grid(True)"
      ],
      "metadata": {
        "colab": {
          "base_uri": "https://localhost:8080/",
          "height": 723
        },
        "id": "yVKoWf96bE83",
        "outputId": "5f3f061d-789c-42a9-96dc-2ceea1b37641"
      },
      "execution_count": 84,
      "outputs": [
        {
          "output_type": "display_data",
          "data": {
            "text/plain": [
              "<Figure size 800x800 with 1 Axes>"
            ],
            "image/png": "[encoded data removed]"
          },
          "metadata": {}
        }
      ]
    },
    {
      "cell_type": "markdown",
      "source": [
        "The code above visualize Zipf's Law in Natural Language Processing (NLP) terms. According to Zipf’s Law, the frequency of a word in Natural Language inversely proportional to its rank. In simple terms, the 2nd most common word appears half as often as the most common, the third most common word appears one-third as often as the most common, and so on.\n",
        "\n",
        "1. `frequencies = [b for (a,b) in token_count_di.most_common(10000)]:` it will use list comprehension to create a list of frequencies of the 10,000 most common tokens in `token_count_di`, where `token_count_di` is assumed to be a dictionary with tokens as keys and their frequencies as values.\n",
        "\n",
        "2. `tokens = [a for (a,b) in token_count_di.most_common(10000)]:` It will create a list of the 10,000 most common tokens (words) in `token_count_di`.\n",
        "\n",
        "3. `ranks = range(1, len(frequencies)+1):`It will create a list of numbers for the rank of the tokens, going from 1 to the number of frequencies (which should be 10,000).\n",
        "\n",
        "4-5. `plt.figure(figsize=(8,8)):``plt.ylim(1,10**4):``plt.xlim(1,10**4):`It will set up the plot. It sets the size of the figure and the limits of x and y axis on the plot.\n",
        "\n",
        "6. `obtained_line, = loglog(ranks, frequencies, marker=\".\", label=\"Line obtained from the Text Corpus\"):`It will plot the ranks and frequencies in log-log scale for the tokens from the text corpus with each point marked with a dot.\n",
        "\n",
        "7. `obtained_legend = plt.legend(handles=[obtained_line], loc=1):``ax = plt.gca().add_artist(obtained_legend):`It will add a legend on the graph for the line obtained from the Text Corpus.\n",
        "\n",
        "8. `expected_line, = plt.plot([1,frequencies[0]],[frequencies[0],1],color='r',label=\"Line expected as per Zipf's Law\"):``plt.legend(handles=[expected_line], loc=4):`It will plot a line on the graph for the expected frequencies according to Zipf's Law and adding a legend.\n",
        "\n",
        "9. Specifically, `title(\"Plot stating Zipf law's in log-log scale\")`, `xlabel(\"Rank of token in descending order of frequency of occurrence\")` and `ylabel(\"Frequency of ocurrence of token\")` set the plot title and labels for x-axis and y-axis respectively.\n",
        "\n",
        "10. `grid(True)`It will draw grid lines on the plot"
      ],
      "metadata": {
        "id": "8naas3FHeRiz"
      }
    }
  ]
}